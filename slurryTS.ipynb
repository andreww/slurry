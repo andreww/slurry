{
 "cells": [
  {
   "cell_type": "code",
   "execution_count": 1,
   "metadata": {},
   "outputs": [],
   "source": [
    "import numpy as np\n",
    "from scipy import optimize\n",
    "import matplotlib.pyplot as plt\n",
    "%matplotlib inline"
   ]
  },
  {
   "cell_type": "code",
   "execution_count": 2,
   "metadata": {},
   "outputs": [],
   "source": [
    "secinyr = 60.0*60.0*24.0*365.0\n",
    "k     = 250.0\n",
    "rhos  = 12700\n",
    "rhol  = 12100\n",
    "cp    = 750\n",
    "kappa = k/(rhol*cp)\n",
    "Dliq  = 1e-9\n",
    "Dsol  = 1e-12\n",
    "mu    = 1e-6\n",
    "drho  = rhos-rhol\n",
    "g     = 3.7\n",
    "Vic      = 4 * np.pi * 1221000.0**3 / 3.0\n",
    "kb       = 1.380648e-23\n",
    "secingyr = 3.1536e+16\n",
    "\n",
    "r = np.logspace(-6,0,num=20)"
   ]
  },
  {
   "cell_type": "code",
   "execution_count": 3,
   "metadata": {},
   "outputs": [],
   "source": [
    "tt = np.zeros(len(r))\n",
    "ts = np.zeros(len(r))\n",
    "tl = np.zeros(len(r))\n",
    "tVl= np.zeros(len(r))\n",
    "\n",
    "j = 0\n",
    "for i in r:    \n",
    "    tt[j] = i**2/kappa/secinyr\n",
    "    ts[j] = i**2/Dsol/secinyr\n",
    "    tl[j] = i**2/Dliq/secinyr\n",
    "    \n",
    "    Vs    = 2.0 * drho * g * i**2 / (9 * mu * rhol)\n",
    "    tVl[j]= 100e3/Vs/secinyr\n",
    "    \n",
    "    #print(\"{:e}\".format(i), \"{:e}\".format(tt), \"{:e}\".format(ts), \"{:e}\".format(tl))\n",
    "    j = j + 1"
   ]
  },
  {
   "cell_type": "code",
   "execution_count": 48,
   "metadata": {},
   "outputs": [],
   "source": [
    "def fzhang(u,r):\n",
    "    Re  = np.abs(2*r * u / mu)\n",
    "    Cd  = (24.0/Re) * (1.0 + 0.15*Re**0.687) + 0.42/(1.0 + 42500*Re**-1.16)\n",
    "    unum= 8.0 * g * r * drho\n",
    "    uden= 3.0 * rhol * Cd\n",
    "    u   = np.sqrt(unum/uden)\n",
    "    return Re, Cd, u"
   ]
  },
  {
   "cell_type": "code",
   "execution_count": 45,
   "metadata": {},
   "outputs": [],
   "source": [
    "def fzhang_opt(u,rad):\n",
    "    \n",
    "    re = np.abs(2*rad*u/mu)\n",
    "    \n",
    "\n",
    "    result = (8.0 * g * rad * drho) / (3.0 * rhol * \n",
    "          ( (24.0/re ) * (1.0 + 0.15*re**0.687) + \n",
    "                                    0.42/(1.0 + 42500*re**-1.16) ) )\n",
    "    result = np.sqrt(result)\n",
    "    result = result - u\n",
    "\n",
    "    return result"
   ]
  },
  {
   "cell_type": "markdown",
   "metadata": {},
   "source": [
    "Classical Stokes flow velocity is given by\n",
    "\n",
    "$$ V_S = \\frac{2}{9} \\frac{\\Delta \\rho g a^2}{\\mu} $$\n",
    "\n",
    "while the Zhang and Xu equation (20) gives\n",
    "\n",
    "$$ V_Z = \\sqrt{\\left( \\frac{8}{3} \\frac{\\Delta \\rho g a}{\\rho_l C_D} \\right) }$$\n",
    "\n",
    "The drag coefficient $C_D$ is \n",
    "\n",
    "$$ C_D = \\frac{2F_D}{\\rho_l V^2 A} = \\frac{12 \\pi \\mu a}{\\rho_l V A}, F_D = 6\\pi \\mu a V$$\n",
    "\n",
    "As $Re$ increases the drag coefficient increases and so $V_Z$ tends to decrease compared to $V_S$. Hence the falling time should be greater for the high $Re$ case than the low $Re$ case at high $Re$. "
   ]
  },
  {
   "cell_type": "code",
   "execution_count": 49,
   "metadata": {},
   "outputs": [
    {
     "name": "stdout",
     "output_type": "stream",
     "text": [
      "Re, Cd, ufinal, ubrent\n",
      "2219.0 0.39743 0.110952099 0.110952099\n"
     ]
    }
   ],
   "source": [
    "rad = 1e-2\n",
    "u2 = optimize.brentq(fzhang_opt, -1.0, 1.0, args=(rad))\n",
    "\n",
    "print('Re, Cd, ufinal, ubrent')\n",
    "Re, Cd, uX = fzhang(u2,rad)\n",
    "print(np.round(Re,1), np.round(Cd,5), np.round(uX,9), np.round(u2,9))"
   ]
  },
  {
   "cell_type": "code",
   "execution_count": 46,
   "metadata": {},
   "outputs": [
    {
     "name": "stdout",
     "output_type": "stream",
     "text": [
      "[-1.         -0.95918367 -0.91836735 -0.87755102 -0.83673469 -0.79591837\n",
      " -0.75510204 -0.71428571 -0.67346939 -0.63265306 -0.59183673 -0.55102041\n",
      " -0.51020408 -0.46938776 -0.42857143 -0.3877551  -0.34693878 -0.30612245\n",
      " -0.26530612 -0.2244898  -0.18367347 -0.14285714 -0.10204082 -0.06122449\n",
      " -0.02040816  0.02040816  0.06122449  0.10204082  0.14285714  0.18367347\n",
      "  0.2244898   0.26530612  0.30612245  0.34693878  0.3877551   0.42857143\n",
      "  0.46938776  0.51020408  0.55102041  0.59183673  0.63265306  0.67346939\n",
      "  0.71428571  0.75510204  0.79591837  0.83673469  0.87755102  0.91836735\n",
      "  0.95918367  1.        ]\n",
      "[ 1.10358805  1.06301696  1.02246436  0.98193196  0.94142166  0.90093549\n",
      "  0.86047571  0.82004472  0.77964507  0.73927937  0.69895022  0.65865994\n",
      "  0.61841027  0.57820168  0.53803237  0.49789639  0.45778045  0.41765813\n",
      "  0.37747934  0.33715006  0.29649153  0.25515102  0.2123788   0.16630665\n",
      "  0.10941944  0.06860311  0.04385767  0.00829717 -0.03056327 -0.07085541\n",
      " -0.11182953 -0.1531329  -0.19458677 -0.2360971  -0.27761381 -0.31911049\n",
      " -0.36057383 -0.4019979  -0.44338087 -0.48472325 -0.52602675 -0.56729371\n",
      " -0.60852671 -0.64972837 -0.69090124 -0.73204773 -0.77317008 -0.81427034\n",
      " -0.85535039 -0.89641195]\n"
     ]
    },
    {
     "data": {
      "image/png": "[encoded data removed]",
      "text/plain": [
       "<Figure size 432x288 with 1 Axes>"
      ]
     },
     "metadata": {},
     "output_type": "display_data"
    }
   ],
   "source": [
    "u2s = np.linspace(-1.0, 1.0)\n",
    "print(u2s)\n",
    "rad = 1e-2\n",
    "res = fzhang_opt(u2s, rad)\n",
    "print(res)\n",
    "fig, ax = plt.subplots()\n",
    "ax.plot(u2s, res)\n",
    "plt.show()"
   ]
  },
  {
   "cell_type": "code",
   "execution_count": 50,
   "metadata": {},
   "outputs": [
    {
     "name": "stdout",
     "output_type": "stream",
     "text": [
      "Re, Cd, ufinal, ubrent\n",
      "8.2e-08 294326736.82718 4.1e-08 4.1e-08\n",
      "7.22e-07 33225046.80565 1.75e-07 1.75e-07\n",
      "6.399e-06 3750805.33735 7.47e-07 7.47e-07\n",
      "5.6678e-05 423524.42115 3.199e-06 3.199e-06\n",
      "0.000501772 47869.30562 1.3687e-05 1.3687e-05\n",
      "0.00443257 5434.0953 5.8436e-05 5.8436e-05\n",
      "0.038785042 628.75047 0.000247114 0.000247114\n",
      "0.32642133 78.63542 0.00100513 0.00100513\n",
      "2.424424875 12.62776 0.00360797 0.00360797\n",
      "14.204848566 3.25866 0.010216481 0.010216481\n",
      "66.074103062 1.33419 0.02296712 0.02296712\n",
      "267.283825845 0.72228 0.044901254 0.044901254\n",
      "988.764535922 0.46755 0.080276643 0.080276643\n",
      "3241.096924012 0.38548 0.127174156 0.127174156\n",
      "9321.731237176 0.41282 0.176772193 0.176772193\n",
      "26050.166323588 0.46828 0.238747262 0.238747262\n",
      "75679.76231245 0.49151 0.335210941 0.335210941\n",
      "226685.229036943 0.4853 0.485257408 0.485257408\n",
      "685088.523067279 0.47069 0.708771376 0.708771376\n",
      "2069054.448904414 0.45714 1.034527224 1.034527224\n"
     ]
    }
   ],
   "source": [
    "tVh= np.zeros(len(r))\n",
    "\n",
    "j = 0\n",
    "print('Re, Cd, ufinal, ubrent')\n",
    "\n",
    "for i in r:\n",
    "    rad = np.float(i)\n",
    "    Vs     = optimize.brentq(fzhang_opt, -1.0, 100.0, args=(rad))\n",
    "    Re, Cd, uX = fzhang(Vs,rad)\n",
    "    print(np.round(Re,9), np.round(Cd,5), np.round(uX,9), np.round(Vs,9))\n",
    "    tVh[j] = 100e3/Vs/secinyr\n",
    "    j = j + 1"
   ]
  },
  {
   "cell_type": "code",
   "execution_count": 51,
   "metadata": {},
   "outputs": [],
   "source": [
    "# Implement growth model of Kirkpatrick eqn 14, which does not invoke approximation K16\n",
    "# Hc is latent heat\n",
    "# Tl is liquidus\n",
    "# eta is dynamic viscosity in Pa.s\n",
    "def kirk_growth14(dT,Tl,eta,r):\n",
    "    T = Tl - dT\n",
    "    kB = 1.380649e-23 #J/K\n",
    "    Rg = 8.314462\n",
    "    f  = 1\n",
    "    hf = 0.976e10\n",
    "    Y  = (f*kB*T) / (3.0*np.pi*r**2*eta) * ( 1.0-np.exp( -(hf * dT)/(Rg*T*Tl) ) )\n",
    "    return Y"
   ]
  },
  {
   "cell_type": "code",
   "execution_count": 52,
   "metadata": {},
   "outputs": [],
   "source": [
    "# Implement growth model of Kirkpatrick eqn 17\n",
    "# Hc is latent heat\n",
    "# Tl is liquidus\n",
    "# eta is dynamic viscosity in Pa.s\n",
    "def kirk_growth17(dT,Tl,eta,r):\n",
    "    kB = 1.380649e-23 #J/K\n",
    "    Rg = 8.314462\n",
    "    f  = 1\n",
    "    hf = 0.976e10\n",
    "    Y  = (f * kB) / (3.0 * np.pi * r**2 * eta) * (hf * dT) / (Rg * Tl)\n",
    "    return Y"
   ]
  },
  {
   "cell_type": "markdown",
   "metadata": {},
   "source": [
    "Interface timescale. \n",
    "\n",
    "Here I implement equation 17 of Kirkpatrick (1974). Below I refer to his equations as KX. \n",
    "\n",
    "- I assume that the growth rate is $da/dt$ where $a$ is particle radius\n",
    "- Then time is $a/(da/dt)$\n",
    "- I interpret this as the timescale required to grow the crystal to size a assuming that there are no diffusive hiderances to the process; the only obstacle seems to be the random detachment of particles from the surface according to K4.\n",
    "\n",
    "- I take $f=1$\n",
    "- Presumably we can check whether Stokes-Einstein is consistent with (say) Dario's calculations? \n",
    "- Dario validates that K13 is a pretty good approximation; I have not included the correction in our eqn 2 here. \n",
    "\n",
    "What about the aassumption in K16? I check this in the next cell and find that it seems to be a bad approximation. Therefore we use eqn 14. The main problems with this seem to be \n",
    "- Validity of Stokes-Einstein\n",
    "- The assumption of an effective diffusion coefficient in eqn K9"
   ]
  },
  {
   "cell_type": "code",
   "execution_count": 53,
   "metadata": {},
   "outputs": [
    {
     "name": "stdout",
     "output_type": "stream",
     "text": [
      "1501538.4615384615 54044.003000000004\n"
     ]
    }
   ],
   "source": [
    "hf = 0.976e10 # From Dario\n",
    "dT = 1.0      # 1 K undercooling\n",
    "Tl = 6500.0   # Melting T of pure iron, high value\n",
    "\n",
    "print(hf*dT/Tl, 8.314462*Tl)"
   ]
  },
  {
   "cell_type": "code",
   "execution_count": 54,
   "metadata": {},
   "outputs": [],
   "source": [
    "Tm_FeO = 5600.0\n",
    "dT     = 200.0\n",
    "tI     = np.zeros(len(r))\n",
    "\n",
    "j = 0\n",
    "for i in r:\n",
    "    G = kirk_growth14(dT,Tm_FeO,0.01,i)\n",
    "    tI[j] = i/G/secinyr\n",
    "    j = j + 1"
   ]
  },
  {
   "cell_type": "code",
   "execution_count": 55,
   "metadata": {},
   "outputs": [
    {
     "data": {
      "text/plain": [
       "<matplotlib.legend.Legend at 0x1016f7ec88>"
      ]
     },
     "execution_count": 55,
     "metadata": {},
     "output_type": "execute_result"
    },
    {
     "data": {
      "image/png": "[encoded data removed]",
      "text/plain": [
       "<Figure size 432x288 with 1 Axes>"
      ]
     },
     "metadata": {},
     "output_type": "display_data"
    }
   ],
   "source": [
    "plt.xlabel(\"Particle radius, $r$ (m)\")\n",
    "plt.ylabel(\"Timescale (yrs)\")\n",
    "plt.loglog(r, tt , color=\"black\", linestyle=\"-\",label=\"Thermal diffusion\")\n",
    "plt.loglog(r, ts , color=\"black\", linestyle=\"--\", label=\"Solid diffusion\")\n",
    "plt.loglog(r, tl , color=\"black\", linestyle=\":\", label=\"Liquid diffusion\")\n",
    "plt.loglog(r, tVl, label=\"Falling time, low $Re$\")\n",
    "plt.loglog(r, tVh, label=\"Falling time, high $Re$\")\n",
    "plt.loglog(r, tI , color=\"grey\" , label=\"Growth TS\")\n",
    "plt.legend(loc='upper right', bbox_to_anchor=(1.45, 0.7),\n",
    "          fancybox=True, shadow=True)"
   ]
  },
  {
   "cell_type": "code",
   "execution_count": 13,
   "metadata": {},
   "outputs": [],
   "source": [
    "# Stokes-Einsten relation\n",
    "# kB in J/K; eta in Pa.s = Js/m^3; r in m\n",
    "# D ~ J/K . K . m^3 / Js . 1/m = m^2 / s\n",
    "def StokesEinstein(T,eta,r):\n",
    "    kB = 1.380649e-23 #J/K\n",
    "    return kB*T/(6.0*np.pi*eta*r)"
   ]
  },
  {
   "cell_type": "code",
   "execution_count": 14,
   "metadata": {},
   "outputs": [
    {
     "data": {
      "text/plain": [
       "4.028513738789507e-11"
      ]
     },
     "execution_count": 14,
     "metadata": {},
     "output_type": "execute_result"
    }
   ],
   "source": [
    "Dcore = StokesEinstein(5500.0,0.01,1e-8)\n",
    "Dcore"
   ]
  },
  {
   "cell_type": "code",
   "execution_count": null,
   "metadata": {},
   "outputs": [],
   "source": []
  }
 ],
 "metadata": {
  "kernelspec": {
   "display_name": "Python 3",
   "language": "python",
   "name": "python3"
  },
  "language_info": {
   "codemirror_mode": {
    "name": "ipython",
    "version": 3
   },
   "file_extension": ".py",
   "mimetype": "text/x-python",
   "name": "python",
   "nbconvert_exporter": "python",
   "pygments_lexer": "ipython3",
   "version": "3.6.5"
  }
 },
 "nbformat": 4,
 "nbformat_minor": 2
}
