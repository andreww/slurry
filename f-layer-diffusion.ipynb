{
 "cells": [
  {
   "cell_type": "markdown",
   "id": "c080d343-0b7d-4176-853a-56db10e6824e",
   "metadata": {},
   "source": [
    "# Finite difference solver for T and C\n",
    "\n",
    "Our particle growth calculations can yield solid growth rates\n",
    "along the trajectory and we can relate this to the production of\n",
    "heat and oxygen from crystal growth as a function of height above\n",
    "the ICB. Here we seek to treat these as source terms in a finite\n",
    "difference solution for the relaxed temperature (and oxygen content)\n",
    "with defined boundary conditions at the top and bottom of the F-layer.\n",
    "The idea is that we can then proceed as follows:\n",
    "\n",
    "1. Pick an initial $T(R)$ and $C(R)$.\n",
    "2. Solve the IVP for all the falling particles.\n",
    "3. Calculate the heat and oxygen production rates, \n",
    "$Q(R)$ and $J(R)$.\n",
    "4. Find $T(R)$ and $C(R)$ consistent with these source \n",
    "terms and the boundary conditions\n",
    "5. Put these new functions into 2 and iterate.\n",
    "6. When converged we have a solution that gives the fluxes out of the \n",
    "layer and everything we already calculate which includes latent heat\n",
    "(which may push us towards equilibrium.\n",
    "\n",
    "We end up with two iterative solutions (inside 4, and the 2 - 5 loop).\n",
    "My guess is that 4 is fast compared to 2 - 5, which is why we converge\n",
    "this at each step rather than take a single FD iteration inside the\n",
    "outer loop.\n",
    "\n",
    "This notebook outlines the development of the FD diffusion solver\n",
    "in a way that is decoupled from the rest of the code. Note that the\n",
    "same solver can be used for the two systems (just exchanging chemical \n",
    "and thermal diffusivity and choosing different boundary conditions and\n",
    "source terms) and these can be treated separately unless we want to \n",
    "couple e.g. thermal conduction and oxygen content of the melt (which\n",
    "seems excessive)."
   ]
  },
  {
   "cell_type": "code",
   "execution_count": 2,
   "id": "02126d8a-78df-40c2-9cad-861b97d7cf89",
   "metadata": {},
   "outputs": [],
   "source": [
    "# Imports and system setup\n",
    "import numpy as np\n",
    "import numba\n",
    "\n",
    "r_icb = 1221.5e3\n",
    "f_layer_thickness = 200.0e3\n",
    "\n"
   ]
  },
  {
   "cell_type": "markdown",
   "id": "e1ddf500-ce0b-465a-9669-e7cd724eb380",
   "metadata": {},
   "source": [
    "$$\\frac{1}{R^2}\\frac{\\mathrm{d}}{\\mathrm{d} R}\\left(\\kappa R^2 \\frac{\\mathrm{d} T(R)}{\\mathrm{d} R} \\right) = Q(R) $$\n",
    "\n",
    "or\n",
    "\n",
    "$$\\kappa R^2 \\frac{\\mathrm{d}^2 T}{\\mathrm{d} R^2} + 2 \\kappa R \\frac{\\mathrm{d} T}{\\mathrm{d} R} - R^2 Q(R) = 0$$\n",
    "\n",
    "We need to write this second order ODE as a system of two first order equations. Sub $y_1 = T$ and $y_2 = \\frac{\\mathrm{d} T}{\\mathrm{d} R}$;\n",
    "$y_1^{\\prime} = y_2$ and $y_2^{\\prime} = \\frac{\\mathrm{d}^2 T}{\\mathrm{d} R^2}$ then:\n",
    "\n",
    "$$\\kappa R^2 y_2^{\\prime} + 2 \\kappa R y_1^{\\prime} - R^2 Q(R) = 0$$\n",
    "\n",
    "so\n",
    "\n",
    "\n",
    "$$y_1^{\\prime} = \\frac{(R^2 Q(R) - \\kappa R^2 y_2^{\\prime})}{ 2 \\kappa R}$$\n",
    "\n",
    "$$y_2^{\\prime} = \\frac{(R^2 Q(R) - 2 \\kappa R y_2)}{\\kappa R^2}$$\n",
    "\n",
    "And assuming I have this right, we can stuff this into a BVP solver\n",
    "binding $Q(R)$ to our points."
   ]
  },
  {
   "cell_type": "code",
   "execution_count": 3,
   "id": "daf68ae9-7256-4332-9e21-028f108b60ad",
   "metadata": {},
   "outputs": [],
   "source": [
    "r = np.linspace(r_icb, r_icb+f_layer_thickness)\n",
    "# call everything 10\n",
    "heat_sources = np.ones_like(r) * 10.0\n",
    "heat_sources[0] = 0.0\n",
    "heat_sources[-1] = 0.0\n",
    "kappa = 5.0\n",
    "initial_t = np.ones_like(r) * 100.0"
   ]
  },
  {
   "cell_type": "code",
   "execution_count": null,
   "id": "706e8146-8365-44c7-b3cd-428d2a6bb644",
   "metadata": {},
   "outputs": [],
   "source": [
    "def fun(x, y):\n",
    "    "
   ]
  },
  {
   "cell_type": "code",
   "execution_count": 4,
   "id": "1eeeba99-8d8b-4d69-a08c-0dc6ea21e881",
   "metadata": {},
   "outputs": [],
   "source": [
    "def fun(x, y):\n",
    "    return np.vstack((y[1], -np.exp(y[0])))"
   ]
  },
  {
   "cell_type": "code",
   "execution_count": 17,
   "id": "0d8f37cb-927e-4ddc-b2ac-6abb141539b7",
   "metadata": {},
   "outputs": [],
   "source": [
    "def bc(ya, yb):\n",
    "    return np.array([ya[0], yb[0]])"
   ]
  },
  {
   "cell_type": "code",
   "execution_count": 18,
   "id": "bac1d826-41d5-4f2c-ab89-0793d87ce655",
   "metadata": {},
   "outputs": [],
   "source": [
    "x = np.linspace(0, 1, 5)"
   ]
  },
  {
   "cell_type": "code",
   "execution_count": 19,
   "id": "4f36e77a-af54-4214-a0ca-3061ab660100",
   "metadata": {},
   "outputs": [],
   "source": [
    "y_a = np.zeros((2, x.size))\n",
    "y_b = np.zeros((2, x.size))\n",
    "y_b[0] = 3\n"
   ]
  },
  {
   "cell_type": "code",
   "execution_count": 20,
   "id": "b48d11bd-5660-4d99-8b7b-e3bf28f03b00",
   "metadata": {},
   "outputs": [],
   "source": [
    "from scipy.integrate import solve_bvp\n",
    "res_a = solve_bvp(fun, bc, x, y_a)\n",
    "res_b = solve_bvp(fun, bc, x, y_b)"
   ]
  },
  {
   "cell_type": "code",
   "execution_count": 21,
   "id": "7800a438-8ece-4e97-9888-b4037bdb53e6",
   "metadata": {},
   "outputs": [
    {
     "data": {
      "image/png": "[encoded data removed]",
      "text/plain": [
       "<Figure size 432x288 with 1 Axes>"
      ]
     },
     "metadata": {
      "needs_background": "light"
     },
     "output_type": "display_data"
    }
   ],
   "source": [
    "x_plot = np.linspace(0, 1, 100)\n",
    "y_plot_a = res_a.sol(x_plot)[0]\n",
    "y_plot_b = res_b.sol(x_plot)[0]\n",
    "import matplotlib.pyplot as plt\n",
    "plt.plot(x_plot, y_plot_a, label='y_a')\n",
    "plt.plot(x_plot, y_plot_b, label='y_b')\n",
    "plt.legend()\n",
    "plt.xlabel(\"x\")\n",
    "plt.ylabel(\"y\")\n",
    "plt.show()"
   ]
  },
  {
   "cell_type": "code",
   "execution_count": null,
   "id": "3414a928-2c28-4830-b19e-2b8224a43e41",
   "metadata": {},
   "outputs": [],
   "source": []
  }
 ],
 "metadata": {
  "kernelspec": {
   "display_name": "Python 3 (ipykernel)",
   "language": "python",
   "name": "python3"
  },
  "language_info": {
   "codemirror_mode": {
    "name": "ipython",
    "version": 3
   },
   "file_extension": ".py",
   "mimetype": "text/x-python",
   "name": "python",
   "nbconvert_exporter": "python",
   "pygments_lexer": "ipython3",
   "version": "3.9.7"
  }
 },
 "nbformat": 4,
 "nbformat_minor": 5
}
