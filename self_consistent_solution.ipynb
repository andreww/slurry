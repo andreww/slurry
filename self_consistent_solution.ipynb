{
 "cells": [
  {
   "cell_type": "markdown",
   "id": "3a147ba8",
   "metadata": {},
   "source": [
    "Attempt to create a self consistent solution to the F-layer question!"
   ]
  },
  {
   "cell_type": "code",
   "execution_count": 1,
   "id": "1db92f17",
   "metadata": {},
   "outputs": [
    {
     "name": "stdout",
     "output_type": "stream",
     "text": [
      "Pr =  0.09075  Sc =  999.9999999999999\n"
     ]
    }
   ],
   "source": [
    "import numpy as np\n",
    "import matplotlib.pyplot as plt\n",
    "%matplotlib inline\n",
    "\n",
    "import scipy.optimize as spo\n",
    "import boundary_layer\n",
    "import feo_thermodynamics as feot"
   ]
  },
  {
   "cell_type": "code",
   "execution_count": 2,
   "id": "305ae808",
   "metadata": {},
   "outputs": [],
   "source": [
    "# We will use PREM for pressure, gravity etc.\n",
    "import sys\n",
    "sys.path.append('/Users/andrewwalker/Code/prem4derg')\n",
    "import earth_model\n",
    "prem = earth_model.Prem()"
   ]
  },
  {
   "cell_type": "code",
   "execution_count": 3,
   "id": "86abc417",
   "metadata": {},
   "outputs": [],
   "source": [
    "def setup_flayer_functions(r_icb, r_cmb, r_flayer_top, gamma, delta_t_icb, xfe_adiabatic, xfe_icb):\n",
    "    \"\"\"\n",
    "    This defines the radial functions we are going to need to model the f-layer\n",
    "    \n",
    "    Our input parameters are the (total) oxygen content at the top and bottom of \n",
    "    the layer, the subadiabatic cooling through the layer, a value for gamma\n",
    "    for the adiabatic mantle and a thickness of the layer. We first uuse this \n",
    "    to find the liquidus temperature at the top of the F-layer. We then requier\n",
    "    the CMB temperature to generate an adiabat that intersects the liquidus at the\n",
    "    top of the f-layer.\n",
    "    \n",
    "    Arguments are:\n",
    "    \n",
    "    r_icb: ICB radius in m\n",
    "    r_cmb: core mantle boundary radius in m\n",
    "    r_flayer_top: radius of the top of the f-layer in m\n",
    "    gamma: grunisen parameter for adiabatic mantle, dimensionless (1.5 is a typical value)\n",
    "    delta_t_icb: subadiabatic temperature depression at the ICB in K, 10 K is a sensible value\n",
    "    xfe_adiabatic: oxygen content (as mol frac Fe) of the adiabatic mantle (and top of the F-layer)\n",
    "                    8-17 mol % O (i.e. 0.92-0.83) are sensible values\n",
    "    xfe_icb: oxygen content (as mol frac Fe) at the bottom of the F-layer. NB: this is the total oxygen \n",
    "             content. As O partititons into the liquid the liquid will be enriched. \n",
    "    \n",
    "    We end up returning a functions that can give the total oxygen content as a function\n",
    "    of radius, the temperature as a function of radius, and the pressure (from PREM) as\n",
    "    a function of radius. In the F-layer we assume linear temperature and composition\n",
    "    profiles. These functions are (numpy) vectorized and take the radii in m. \n",
    "    \"\"\"\n",
    "    # First find the liquidus temperature at the top of the F-layer... we know P (from PREM)\n",
    "    # and X (from our input). NB: my PREM module works in km and does not like vector input.\n",
    "    # This is quite slow and could be optimised by avoiding the double brentq calls!\n",
    "    tl_top_flayer = feot.find_liquidus(xfe_adiabatic, prem.pressure(radius_top_flayer/1000.0))\n",
    "    print(\"Liquidus temperature at top of F-layer is\", tl_top_flayer, \"K\")\n",
    "    \n",
    "    # Now we need to work out the adiabatic temperature profile that intersects the liquidus \n",
    "    # at the top of the F-layer. \n",
    "    rho_cmb = prem.density((radius_cmb-0.1)/1000.0) # -0.1 for core, not mantle rho\n",
    "    rho_top_flayer = prem.density(radius_top_flayer/1000.0)\n",
    "    def _t_error_top_flayer(tcmb):\n",
    "        \"\"\"\n",
    "        For a given CMB temperature, calculate the difference between the temperature\n",
    "        at the top of the f-layer and the liquidus temperature. We'll need to set \n",
    "        tcmb such that this is zero!\n",
    "        \"\"\"\n",
    "        adabat_t_top_flayer = tcmb * (rho_top_flayer/rho_cmb)**gamma\n",
    "        t_error = adabat_t_top_flayer - tl_top_flayer\n",
    "        return t_error\n",
    "    t_cmb = spo.brentq(_t_error_top_flayer, 1000, 8000)\n",
    "    \n",
    "    print(\"Temperature CMB is\", t_cmb, \"K\")\n",
    "    \n",
    "    # We can now build our function to give the adiabatic temperature\n",
    "    rho_icb = prem.density(radius_inner_core/1000.0)\n",
    "    adabat_t_top_flayer = t_cmb * (rho_top_flayer/rho_cmb)**gamma\n",
    "    adabat_icb = t_cmb * (rho_icb/rho_cmb)**gamma\n",
    "    @np.vectorize\n",
    "    def adiabatic_temperature_function(r):\n",
    "        temp = t_cmb * (prem.density(r/1000.0)/rho_cmb)**gamma\n",
    "        return temp\n",
    "    \n",
    "    # And the function to give the 'real' temperature (including a subadiabatic layer)\n",
    "    # We'll base temperature on an adiabat (temperature at top of F-layer)\n",
    "    # and then assume it's linear to a subadiabatic ICB temperature\n",
    "    # Do note that we cannot use the ICB as a tie point as (1) the F-layer\n",
    "    # is not adiabatic and (2) we are not assuming phase equilibrium at the ICB\n",
    "    # which means the ICB need not be at any particular melting temperature. \n",
    "    # This is an important point (probably the most important point if we introduce\n",
    "    # non-equilibrium processes).\n",
    "    temperature_icb = adabat_icb - delta_t_icb\n",
    "    @np.vectorize\n",
    "    def temperature_function(r):\n",
    "        if r > radius_top_flayer:\n",
    "            temp = t_cmb * (prem.density(r/1000.0)/rho_cmb)**gamma\n",
    "        elif r >= radius_inner_core:\n",
    "            temp = temperature_icb + (r - r_icb)*(\n",
    "                (adabat_t_top_flayer-temperature_icb)/(r_flayer_top-r_icb))\n",
    "        else:\n",
    "            raise NotImplementedError(\"What's going on\")\n",
    "        return temp\n",
    "    \n",
    "\n",
    "    # Finally, a function to give the composition everywhere\n",
    "    @np.vectorize\n",
    "    def composition_function(r):\n",
    "        if r > radius_top_flayer:\n",
    "            xfe = xfe_adiabatic\n",
    "        elif r >= radius_inner_core:\n",
    "            xfe = xfe_icb + (r - r_icb)*(\n",
    "                (xfe_adiabatic-xfe_icb)/(r_flayer_top-r_icb))\n",
    "        else:\n",
    "            raise NotImplementedError(\"What's going on\")\n",
    "        return xfe\n",
    "                \n",
    "    pressure_function = np.vectorize(prem.pressure)\n",
    "    \n",
    "    return temperature_function, adiabatic_temperature_function, composition_function, pressure_function\n",
    "\n",
    "\n",
    "\n",
    "\n"
   ]
  },
  {
   "cell_type": "code",
   "execution_count": 4,
   "id": "8119a4f9",
   "metadata": {},
   "outputs": [
    {
     "name": "stdout",
     "output_type": "stream",
     "text": [
      "Liquidus temperature at top of F-layer is 5698.941318305444 K\n",
      "Temperature CMB is 4242.543317870397 K\n"
     ]
    }
   ],
   "source": [
    "# F-layer setup\n",
    "radius_inner_core = 1221.5e3\n",
    "radius_top_flayer = radius_inner_core + 200.0e3\n",
    "radius_cmb = 3480.0e3\n",
    "gamma = 1.5\n",
    "\n",
    "# IVP defaults\n",
    "start_time = 0 # s\n",
    "max_time = 1000000 # s\n",
    "rtot = 1.0 # initial box radius\n",
    "\n",
    "# Physical properties\n",
    "initial_particle_size = 1.0E-10 # initial radius, m - should be critical radius for nucleation\n",
    "k0 = 150.0 # growth rate prefactor, m/s\n",
    "dl = 1.0E-9 # diffusion\n",
    "mu = 1.0e-6 # kinematic viscosity\n",
    "\n",
    "tfunc, atfunc, xfunc, pfunc = setup_flayer_functions(radius_inner_core, radius_cmb, radius_top_flayer, \n",
    "                                                    gamma, 10.0, 0.92, 0.92)"
   ]
  },
  {
   "cell_type": "code",
   "execution_count": 5,
   "id": "41308026",
   "metadata": {},
   "outputs": [
    {
     "name": "stdout",
     "output_type": "stream",
     "text": [
      "Pressure at ICB: 329.1010089948369 GPa\n",
      "Pressure at top of F-layer 317.7026904318656 GPa\n",
      "g at ICB: 4.403124222842614 m/s**2\n",
      "g at top of F-layer 5.010242771751181 m/s**2\n"
     ]
    }
   ],
   "source": [
    "print(\"Pressure at ICB:\", prem.pressure(radius_inner_core/1000.0), \"GPa\")\n",
    "print(\"Pressure at top of F-layer\", prem.pressure(radius_top_flayer/1000.0), \"GPa\")\n",
    "print(\"g at ICB:\", prem.gravity(radius_inner_core/1000.0), \"m/s**2\")\n",
    "print(\"g at top of F-layer\", prem.gravity(radius_top_flayer/1000.0), \"m/s**2\")"
   ]
  },
  {
   "cell_type": "code",
   "execution_count": 6,
   "id": "1cd17e91",
   "metadata": {},
   "outputs": [],
   "source": [
    "rs = np.linspace(radius_inner_core, radius_inner_core+500.0E3)\n",
    "ts = tfunc(rs)\n",
    "ats = atfunc(rs)\n",
    "ps = pfunc(rs/1000.0)\n",
    "xs = xfunc(rs)\n",
    "tl = feot.find_liquidus(xs, ps)"
   ]
  },
  {
   "cell_type": "code",
   "execution_count": 7,
   "id": "a8cdd3fc",
   "metadata": {},
   "outputs": [
    {
     "data": {
      "image/png": "[encoded data removed]",
      "text/plain": [
       "<Figure size 432x288 with 2 Axes>"
      ]
     },
     "metadata": {
      "needs_background": "light"
     },
     "output_type": "display_data"
    }
   ],
   "source": [
    "\n",
    "\n",
    "fig, ax1 = plt.subplots()\n",
    "\n",
    "color = 'tab:red'\n",
    "ax1.set_xlabel('Radius (km)')\n",
    "ax1.set_ylabel('Temperature (K)', color=color)\n",
    "ax1.plot(rs/1000.0, ts, color=color)\n",
    "ax1.plot(rs/1000.0, ats, color=color, ls='--')\n",
    "ax1.plot(rs/1000.0, tl, color='k', ls=':')\n",
    "\n",
    "ax1.tick_params(axis='y', labelcolor=color)\n",
    "#ax1.set_ylim([5900, 6200])\n",
    "\n",
    "ax2 = ax1.twinx()  \n",
    "\n",
    "color = 'tab:blue'\n",
    "ax2.set_ylabel('Pressure (GPs)', color=color)  \n",
    "ax2.plot(rs/1000.0, ps, color=color)\n",
    "ax2.tick_params(axis='y', labelcolor=color)\n",
    "ax2.set_ylim([280, 330])\n",
    "\n",
    "fig.tight_layout()  \n",
    "plt.show()\n"
   ]
  },
  {
   "cell_type": "markdown",
   "id": "9fdb5060",
   "metadata": {},
   "source": [
    "## Equilibrium calculation\n",
    "\n",
    "(This is really easy...)"
   ]
  },
  {
   "cell_type": "code",
   "execution_count": 8,
   "id": "2b02ae85",
   "metadata": {},
   "outputs": [
    {
     "data": {
      "text/plain": [
       "array([0.08457566, 0.08209002, 0.07958301, 0.06902238, 0.06641458,\n",
       "       0.06378388, 0.06112998, 0.05845259, 0.05575122, 0.05302592,\n",
       "       0.04166147, 0.03882261, 0.03595786, 0.03306674, 0.03014913,\n",
       "       0.02720455, 0.01503412, 0.01196271, 0.00886222, 0.00573231,\n",
       "       0.        , 0.        , 0.        , 0.        , 0.        ,\n",
       "       0.        , 0.        , 0.        , 0.        , 0.        ,\n",
       "       0.        , 0.        , 0.        , 0.        , 0.        ,\n",
       "       0.        , 0.        , 0.        , 0.        , 0.        ,\n",
       "       0.        , 0.        , 0.        , 0.        , 0.        ,\n",
       "       0.        , 0.        , 0.        , 0.        , 0.        ])"
      ]
     },
     "execution_count": 8,
     "metadata": {},
     "output_type": "execute_result"
    }
   ],
   "source": [
    "feot.volume_fraction_solid(xs, ps, ts)"
   ]
  },
  {
   "cell_type": "code",
   "execution_count": 9,
   "id": "ed29418d",
   "metadata": {},
   "outputs": [
    {
     "data": {
      "text/plain": [
       "array([0.91212214, 0.91237419, 0.91262704, 0.9136778 , 0.91393351,\n",
       "       0.91419003, 0.91444738, 0.91470554, 0.91496453, 0.91522434,\n",
       "       0.91629226, 0.91655502, 0.91681863, 0.91708308, 0.91734839,\n",
       "       0.91761454, 0.91869797, 0.91896716, 0.91923722, 0.91950816,\n",
       "       0.92      , 0.92      , 0.92      , 0.92      , 0.92      ,\n",
       "       0.92      , 0.92      , 0.92      , 0.92      , 0.92      ,\n",
       "       0.92      , 0.92      , 0.92      , 0.92      , 0.92      ,\n",
       "       0.92      , 0.92      , 0.92      , 0.92      , 0.92      ,\n",
       "       0.92      , 0.92      , 0.92      , 0.92      , 0.92      ,\n",
       "       0.92      , 0.92      , 0.92      , 0.92      , 0.92      ])"
      ]
     },
     "execution_count": 9,
     "metadata": {},
     "output_type": "execute_result"
    }
   ],
   "source": [
    "x_lq, phi_fe, phi_lq, phi_feo, phi_solid = feot.phase_relations_molar(xs, ps, ts)\n",
    "x_lq"
   ]
  },
  {
   "cell_type": "code",
   "execution_count": 10,
   "id": "4c40831e",
   "metadata": {},
   "outputs": [],
   "source": [
    "liquid_density, solid_mixture_density, fe_liquid_density, fe_hpc_density, \\\n",
    "           feo_liquid_density, feo_solid_density = feot.densities(xs, ps, ts)"
   ]
  },
  {
   "cell_type": "code",
   "execution_count": null,
   "id": "fcbc5c98",
   "metadata": {},
   "outputs": [],
   "source": []
  },
  {
   "cell_type": "markdown",
   "id": "f1ca33f4",
   "metadata": {},
   "source": [
    "## Non-equilibrium calculation"
   ]
  },
  {
   "cell_type": "code",
   "execution_count": null,
   "id": "80bc4c36",
   "metadata": {},
   "outputs": [],
   "source": []
  }
 ],
 "metadata": {
  "kernelspec": {
   "display_name": "Python 3",
   "language": "python",
   "name": "python3"
  },
  "language_info": {
   "codemirror_mode": {
    "name": "ipython",
    "version": 3
   },
   "file_extension": ".py",
   "mimetype": "text/x-python",
   "name": "python",
   "nbconvert_exporter": "python",
   "pygments_lexer": "ipython3",
   "version": "3.8.10"
  }
 },
 "nbformat": 4,
 "nbformat_minor": 5
}
