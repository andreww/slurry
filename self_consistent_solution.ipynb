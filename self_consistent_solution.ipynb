{
 "cells": [
  {
   "cell_type": "markdown",
   "id": "3a147ba8",
   "metadata": {},
   "source": [
    "Attempt to create a self consistent solution to the F-layer question!"
   ]
  },
  {
   "cell_type": "code",
   "execution_count": 4,
   "id": "1db92f17",
   "metadata": {},
   "outputs": [],
   "source": [
    "import numpy as np\n",
    "import matplotlib.pyplot as plt\n",
    "%matplotlib inline\n",
    "\n",
    "\n",
    "\n",
    "import boundary_layer"
   ]
  },
  {
   "cell_type": "code",
   "execution_count": 21,
   "id": "8119a4f9",
   "metadata": {},
   "outputs": [],
   "source": [
    "# F-layer setup\n",
    "radius_inner_core = 1221.5e3\n",
    "radius_top_flayer = radius_inner_core + 200.0e3\n",
    "radius_cmb = 3480.0e3\n",
    "\n",
    "# IVP defaults\n",
    "start_time = 0 # s\n",
    "max_time = 1000000 # s\n",
    "rtot = 1.0 # initial box radius\n",
    "\n",
    "# Physical properties\n",
    "initial_particle_size = 1.0E-10 # initial radius, m - should be critical radius for nucleation\n",
    "xi = 0.95 # Overall composition, mol frac Fe\n",
    "k0 = 150.0 # growth rate prefactor, m/s\n",
    "dl = 1.0E-9 # diffusion\n",
    "mu = 1.0e-6 # kinematic viscosity\n"
   ]
  },
  {
   "cell_type": "code",
   "execution_count": 22,
   "id": "305ae808",
   "metadata": {},
   "outputs": [],
   "source": [
    "# We will use PREM for pressure, gravity etc.\n",
    "import sys\n",
    "sys.path.append('/Users/andrewwalker/Code/prem4derg')\n",
    "import earth_model\n",
    "prem = earth_model.Prem()"
   ]
  },
  {
   "cell_type": "code",
   "execution_count": 23,
   "id": "41308026",
   "metadata": {},
   "outputs": [
    {
     "name": "stdout",
     "output_type": "stream",
     "text": [
      "Pressure at ICB: 329.1010089948369 GPa\n",
      "Pressure at top of F-layer 317.7026904318656 GPa\n",
      "g at ICB: 4.403124222842614 m/s**2\n",
      "g at top of F-layer 5.010242771751181 m/s**2\n"
     ]
    }
   ],
   "source": [
    "print(\"Pressure at ICB:\", prem.pressure(radius_inner_core/1000.0), \"GPa\")\n",
    "print(\"Pressure at top of F-layer\", prem.pressure(radius_top_flayer/1000.0), \"GPa\")\n",
    "print(\"g at ICB:\", prem.gravity(radius_inner_core/1000.0), \"m/s**2\")\n",
    "print(\"g at top of F-layer\", prem.gravity(radius_top_flayer/1000.0), \"m/s**2\")"
   ]
  },
  {
   "cell_type": "code",
   "execution_count": null,
   "id": "86abc417",
   "metadata": {},
   "outputs": [],
   "source": [
    "# We'll base temperature on an adiabat (temperature at top of F-layer)\n",
    "# and then assume it's linear to a subadiabatic ICB temperature\n",
    "\n",
    "def make_temperature_function(t_cmb=4500.0, gamma=1.5, t_subadiabatic_icb=100.0):\n",
    "    # Get the adiabatic temperature at the top of the F-layer and at the ICB\n",
    "    rho_cmb = prem.density((radius_cmb-1.0)/1000) # -1 for core, not mantle rho\n",
    "    rho_top_flayer = prem.density(radius_top_flayer/1000)\n",
    "    rho_icb = prem.density(radius_inner_core/1000)\n",
    "    adabat_t_top_flayer = t_cmb * (rho_top_flayer/rho_cmb)**gamma\n",
    "    adabat_icb = t_cmb * (rho_icb/rho_cmb)**gamma\n",
    "    # 'real' temperature at icb\n",
    "    temperature_icb = adabat_icb - t_subadiabatic_icb\n",
    "    \n",
    "    def temperature_function(r):\n",
    "        if r > radius_top_flayer:\n",
    "            temp = t_cmb * (prem.density(r/1000)/rho_cmb)**gamma\n",
    "        elif r >= rho_icb:\n",
    "            # interpolate\n",
    "        else:\n",
    "            raise \n",
    "        return temp\n",
    "    \n",
    "    return temperature_function"
   ]
  },
  {
   "cell_type": "code",
   "execution_count": 26,
   "id": "71628536",
   "metadata": {},
   "outputs": [
    {
     "data": {
      "text/plain": [
       "9905.037724329333"
      ]
     },
     "execution_count": 26,
     "metadata": {},
     "output_type": "execute_result"
    }
   ],
   "source": [
    "\n",
    "prem.density(3480.0e3/1000)"
   ]
  },
  {
   "cell_type": "code",
   "execution_count": 17,
   "id": "a8cdd3fc",
   "metadata": {},
   "outputs": [
    {
     "data": {
      "text/plain": [
       "5.008711294480221"
      ]
     },
     "execution_count": 17,
     "metadata": {},
     "output_type": "execute_result"
    }
   ],
   "source": [
    "\n"
   ]
  },
  {
   "cell_type": "code",
   "execution_count": null,
   "id": "df55362d",
   "metadata": {},
   "outputs": [],
   "source": []
  }
 ],
 "metadata": {
  "kernelspec": {
   "display_name": "Python 3",
   "language": "python",
   "name": "python3"
  },
  "language_info": {
   "codemirror_mode": {
    "name": "ipython",
    "version": 3
   },
   "file_extension": ".py",
   "mimetype": "text/x-python",
   "name": "python",
   "nbconvert_exporter": "python",
   "pygments_lexer": "ipython3",
   "version": "3.8.10"
  }
 },
 "nbformat": 4,
 "nbformat_minor": 5
}
