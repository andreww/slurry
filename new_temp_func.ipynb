{
 "cells": [
  {
   "cell_type": "markdown",
   "id": "adc0ec9b-ca09-4599-8065-7ca0c1d9852e",
   "metadata": {},
   "source": [
    "# Let's see if we can find a 'better' temperature function "
   ]
  },
  {
   "cell_type": "code",
   "execution_count": 1,
   "id": "14136370-b6e0-40d9-8d6d-2f55c62c906c",
   "metadata": {},
   "outputs": [],
   "source": [
    "import numpy as np\n",
    "import scipy.interpolate as spi\n",
    "import matplotlib.pyplot as plt\n",
    "%matplotlib inline\n"
   ]
  },
  {
   "cell_type": "code",
   "execution_count": 2,
   "id": "f2f8dd94-f61f-41d8-b20b-49bdbcddc8df",
   "metadata": {},
   "outputs": [],
   "source": [
    "params = {\n",
    "'f_layer_thickness' : 200000,\n",
    "'delta_t_icb' : 0.0,\n",
    "'xfe_outer_core' : 0.95,\n",
    "'xfe_icb' : 0.95,\n",
    "'growth_prefactor' : 150.0,\n",
    "'i0' : 1.0e-10,\n",
    "'surf_energy' : 1.08e-2,\n",
    "'wetting_angle' : 180.0,\n",
    "'number_of_analysis_points' : 5,\n",
    "'r_icb' : 1221500,\n",
    "'r_cmb' : 3480000,\n",
    "'gruneisen_parameter' : 1.5,\n",
    "'chemical_diffusivity' : 1.0e-9,\n",
    "'kinematic_viscosity' : 1.0e-6,\n",
    "'thermal_conductivity' : 100.0}"
   ]
  },
  {
   "cell_type": "code",
   "execution_count": 3,
   "id": "9d04cbe4-7829-4bcb-bc42-9327769ee919",
   "metadata": {},
   "outputs": [],
   "source": [
    "def make_new_t_func_creator(radius_top_flayer, r_icb, t_top_flayer, analysis_radii):\n",
    "    \"\"\"\n",
    "    Create temperature function creator from model setup\n",
    "    \n",
    "    The idea is that this is called using the general parameters\n",
    "    of the F-layer that remain fixed in any given model run. It\n",
    "    returns a function that accepts a set of temperatue parameters\n",
    "    that, when called, returns a cublic spline representation of the\n",
    "    temperatue through the F-layer. This may be one too many layers of\n",
    "    abstraction, but this way the raw temperature function (which is\n",
    "    returned by the function that is returned by this function) is\n",
    "    quick to evaluate and can easily be updated inside a optimisation\n",
    "    loop.\n",
    "    \n",
    "    Arguments to this function are:\n",
    "    \n",
    "    radius_top_f_layer: in m\n",
    "    r_icb: in m\n",
    "    t_top_flayer: this will be fixed for all temperature models, in K\n",
    "    analysis_radii: the set of N points where the calculation of particle\n",
    "        spacing and so on will be done. This should include the ICB and \n",
    "        the top of the F-layer.\n",
    "        \n",
    "    Returns a function which returns a cubic spline represnetation of the\n",
    "    temperature when called. This takes a single array of N-1 parameters\n",
    "    which have the following meaning:\n",
    "    \n",
    "    parameters[0]: thermal gradient in K/m, should be negative (gets hotter\n",
    "        downwards) and be about -0.001 \n",
    "    parameters[1:N-1]: temperature purtubations (in K) at each analysis radus\n",
    "        other than the inner boundary and the outer boundary.\n",
    "        \n",
    "    The returned cubic spline is forced to have zero gradient at the ICB and\n",
    "    zero second derivative at the top of the F-layer. The temperatuer at the\n",
    "    ICB is set by the overall thermal gradient. The temperature at the top\n",
    "    of the F-layer cannot be changed once set. This setup matches the 'natural'\n",
    "    boundary conditions of the thermal problem, but will need to be changed if\n",
    "    we allow direct freezing at the ICB.\n",
    "    \n",
    "    Good luck!\n",
    "    \"\"\"\n",
    "    \n",
    "    layer_thickness = radius_top_flayer - r_icb\n",
    "    \n",
    "    def t_func_creator(params):\n",
    "        # params contains dt_dr and a Dt for each point not at the ends \n",
    "        assert params.shape[0] == analysis_radii.shape[0] - 1, \"params radii mismatch\"\n",
    "        dt_dr = params[0]\n",
    "        t_points = t_top_flayer - (radius_top_flayer - analysis_radii) * dt_dr\n",
    "        t_points[1:-1] = t_points[1:-1] + params[1:]\n",
    "        return spi.CubicSpline(analysis_radii, t_points, bc_type=((1, 0.0), (2, 0.0)))\n",
    "    \n",
    "    return t_func_creator\n",
    "        \n",
    "        \n",
    "            \n",
    "        "
   ]
  },
  {
   "cell_type": "code",
   "execution_count": 4,
   "id": "99d0cdae-b302-4f73-b20b-4643b9eb566b",
   "metadata": {},
   "outputs": [],
   "source": [
    "t_func_creator = make_new_t_func_creator(params['f_layer_thickness']+params['r_icb'], params['r_icb'], 5000.0,\n",
    "                np.linspace(params['r_icb'], params['f_layer_thickness']+params['r_icb'], params['number_of_analysis_points']))"
   ]
  },
  {
   "cell_type": "code",
   "execution_count": 5,
   "id": "8e1c0454-5cdc-4023-881c-6459b5d8b92b",
   "metadata": {},
   "outputs": [],
   "source": [
    "t_func = t_func_creator(np.array([-0.0025, 100.0, 90.0, 10.0]))\n",
    "t_func_base = t_func_creator(np.array([-0.0025, 0.0, 0.0, 0.0]))"
   ]
  },
  {
   "cell_type": "code",
   "execution_count": 6,
   "id": "1a56152f-c7c2-4b5d-86fc-8d7bbcfaf140",
   "metadata": {},
   "outputs": [],
   "source": [
    "r = np.arange(params['r_icb'], params['f_layer_thickness']+params['r_icb'])\n",
    "r_points = np.linspace(params['r_icb'], params['f_layer_thickness']+params['r_icb'], params['number_of_analysis_points'])"
   ]
  },
  {
   "cell_type": "code",
   "execution_count": 7,
   "id": "39c32fc9-9880-4cc2-8e7f-ac78f9d82234",
   "metadata": {},
   "outputs": [
    {
     "data": {
      "image/png": "[encoded data removed]",
      "text/plain": [
       "<Figure size 432x288 with 1 Axes>"
      ]
     },
     "metadata": {
      "needs_background": "light"
     },
     "output_type": "display_data"
    }
   ],
   "source": [
    "fig, ax = plt.subplots()\n",
    "ax.plot(r, t_func(r), 'k-', label='Cubic spline fit')\n",
    "ax.plot(r_points, t_func(r_points), 'ko', label='Control points')\n",
    "ax.plot(r, t_func_base(r), 'k--', label='Base case cubic spline (fits BCs)')\n",
    "ax.legend()\n",
    "plt.show()"
   ]
  },
  {
   "cell_type": "code",
   "execution_count": 8,
   "id": "b4eb9df8-d4e0-4f67-93d9-3856f0a5db1a",
   "metadata": {},
   "outputs": [],
   "source": [
    "A = np.linspace(params['r_icb'], params['f_layer_thickness']+params['r_icb'], params['number_of_analysis_points'])"
   ]
  },
  {
   "cell_type": "code",
   "execution_count": 9,
   "id": "4db93e67-16db-4d75-a30c-1501a53da03b",
   "metadata": {},
   "outputs": [
    {
     "data": {
      "text/plain": [
       "5"
      ]
     },
     "execution_count": 9,
     "metadata": {},
     "output_type": "execute_result"
    }
   ],
   "source": [
    "A.size"
   ]
  },
  {
   "cell_type": "code",
   "execution_count": null,
   "id": "0b7f5c7f-7183-4bac-9885-965b9126fe4f",
   "metadata": {},
   "outputs": [],
   "source": []
  }
 ],
 "metadata": {
  "kernelspec": {
   "display_name": "Python 3 (ipykernel)",
   "language": "python",
   "name": "python3"
  },
  "language_info": {
   "codemirror_mode": {
    "name": "ipython",
    "version": 3
   },
   "file_extension": ".py",
   "mimetype": "text/x-python",
   "name": "python",
   "nbconvert_exporter": "python",
   "pygments_lexer": "ipython3",
   "version": "3.9.7"
  }
 },
 "nbformat": 4,
 "nbformat_minor": 5
}
