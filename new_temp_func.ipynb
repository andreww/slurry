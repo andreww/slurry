{
 "cells": [
  {
   "cell_type": "markdown",
   "id": "adc0ec9b-ca09-4599-8065-7ca0c1d9852e",
   "metadata": {},
   "source": [
    "# Let's see if we can find a 'better' temperature function "
   ]
  },
  {
   "cell_type": "code",
   "execution_count": 1,
   "id": "14136370-b6e0-40d9-8d6d-2f55c62c906c",
   "metadata": {},
   "outputs": [],
   "source": [
    "import numpy as np\n",
    "import scipy.interpolate as spi\n",
    "import matplotlib.pyplot as plt\n",
    "%matplotlib inline\n"
   ]
  },
  {
   "cell_type": "code",
   "execution_count": 2,
   "id": "f2f8dd94-f61f-41d8-b20b-49bdbcddc8df",
   "metadata": {},
   "outputs": [],
   "source": [
    "params = {\n",
    "'f_layer_thickness' : 200000,\n",
    "'delta_t_icb' : 0.0,\n",
    "'xfe_outer_core' : 0.95,\n",
    "'xfe_icb' : 0.95,\n",
    "'growth_prefactor' : 150.0,\n",
    "'i0' : 1.0e-10,\n",
    "'surf_energy' : 1.08e-2,\n",
    "'wetting_angle' : 180.0,\n",
    "'number_of_analysis_points' : 5,\n",
    "'r_icb' : 1221500,\n",
    "'r_cmb' : 3480000,\n",
    "'gruneisen_parameter' : 1.5,\n",
    "'chemical_diffusivity' : 1.0e-9,\n",
    "'kinematic_viscosity' : 1.0e-6,\n",
    "'thermal_conductivity' : 100.0}"
   ]
  },
  {
   "cell_type": "code",
   "execution_count": 3,
   "id": "9d04cbe4-7829-4bcb-bc42-9327769ee919",
   "metadata": {},
   "outputs": [],
   "source": [
    "def make_new_t_func(radius_top_flayer, r_icb, t_top_flayer, analysis_radii):\n",
    "    \n",
    "    layer_thickness = radius_top_flayer - r_icb\n",
    "    \n",
    "    def t_func(params):\n",
    "        # params contains dt_dr and a Dt for each point not at the ends \n",
    "        assert params.shape[0] == analysis_radii.shape[0] - 1, \"params radii mismatch\"\n",
    "        dt_dr = params[0]\n",
    "        t_points = t_top_flayer - (radius_top_flayer - analysis_radii) * dt_dr\n",
    "        t_points[1:-1] = t_points[1:-1] + params[1:]\n",
    "        return spi.interp1d(analysis_radii, t_points, fill_value='extrapolate')\n",
    "    \n",
    "    return t_func\n",
    "        \n",
    "        \n",
    "            \n",
    "        "
   ]
  },
  {
   "cell_type": "code",
   "execution_count": 4,
   "id": "99d0cdae-b302-4f73-b20b-4643b9eb566b",
   "metadata": {},
   "outputs": [],
   "source": [
    "t_func = make_new_t_func(params['f_layer_thickness']+params['r_icb'], params['r_icb'], 5000.0,\n",
    "                np.linspace(params['r_icb'], params['f_layer_thickness']+params['r_icb'], params['number_of_analysis_points']))"
   ]
  },
  {
   "cell_type": "code",
   "execution_count": 5,
   "id": "8e1c0454-5cdc-4023-881c-6459b5d8b92b",
   "metadata": {},
   "outputs": [],
   "source": [
    "this_t_func = t_func(np.array([-0.0025, 100.0, 90.0, 10.0]))\n",
    "this_t_func_base = t_func(np.array([-0.0025, 0.0, 0.0, 0.0]))"
   ]
  },
  {
   "cell_type": "code",
   "execution_count": 6,
   "id": "1a56152f-c7c2-4b5d-86fc-8d7bbcfaf140",
   "metadata": {},
   "outputs": [],
   "source": [
    "r = np.arange(params['r_icb'], params['f_layer_thickness']+params['r_icb'])\n",
    "r_points = np.linspace(params['r_icb'], params['f_layer_thickness']+params['r_icb'], params['number_of_analysis_points'])"
   ]
  },
  {
   "cell_type": "code",
   "execution_count": 7,
   "id": "39c32fc9-9880-4cc2-8e7f-ac78f9d82234",
   "metadata": {},
   "outputs": [
    {
     "data": {
      "image/png": "[encoded data removed]",
      "text/plain": [
       "<Figure size 432x288 with 1 Axes>"
      ]
     },
     "metadata": {
      "needs_background": "light"
     },
     "output_type": "display_data"
    }
   ],
   "source": [
    "fig, ax = plt.subplots()\n",
    "ax.plot(r, this_t_func(r), 'k-', label='Function')\n",
    "ax.plot(r_points, this_t_func(r_points), 'ko', label='Control points')\n",
    "ax.plot(r, this_t_func_base(r), 'k--', label='No pert case')\n",
    "plt.show()"
   ]
  },
  {
   "cell_type": "code",
   "execution_count": null,
   "id": "b4eb9df8-d4e0-4f67-93d9-3856f0a5db1a",
   "metadata": {},
   "outputs": [],
   "source": []
  }
 ],
 "metadata": {
  "kernelspec": {
   "display_name": "Python 3 (ipykernel)",
   "language": "python",
   "name": "python3"
  },
  "language_info": {
   "codemirror_mode": {
    "name": "ipython",
    "version": 3
   },
   "file_extension": ".py",
   "mimetype": "text/x-python",
   "name": "python",
   "nbconvert_exporter": "python",
   "pygments_lexer": "ipython3",
   "version": "3.9.7"
  }
 },
 "nbformat": 4,
 "nbformat_minor": 5
}
