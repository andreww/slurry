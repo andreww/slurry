{
 "cells": [
  {
   "cell_type": "markdown",
   "metadata": {},
   "source": [
    "# Introduction\n",
    "\n",
    "This notebook is intended to provide a pointer towards the various calculations (and figures).\n",
    "These are each in their own notebook (with shared code in modules). The following links provide\n",
    "an overview (hopefully in a sensible order).\n",
    "\n",
    "* [Calculation of phase equilibrium](./phase_equilibrium.ipynb)\n",
    "* [Boundary layer thickness and simple falling time](./falling_timescale.ipynb)\n",
    "* [Nucleation and growth rate calculation](./nucleation_and_growth.ipynb)\n",
    "* [An equilibrium time regime plot](./regime_plot.ipynb)\n",
    "* [Calculation of particle size to grow the core from snow](./particle_size.ipynb)\n",
    "* [Calculation of particle size from Marsh's equations](./marsh_growth_size.ipynb)\n",
    "* [Growth of a falling particle](./falling_particle.ipynb)\n",
    "\n",
    "There are also two sets of notes on CSD calculations \n",
    "[here](./CSD_cooling.ipynb) and [here with added CD notes](./CSD_cooling_cdnotes.ipynb) as well as some left\n",
    "over stuff below.\n"
   ]
  },
  {
   "cell_type": "markdown",
   "metadata": {},
   "source": [
    "## OLD STUFF BELOW##"
   ]
  },
  {
   "cell_type": "markdown",
   "metadata": {},
   "source": [
    "## Interface timescale. \n",
    "\n",
    "Here I implement equation 17 of Kirkpatrick (1974), \"Kirkpatrick, R.J., 1975. Crystal growth from the melt: a review. American Mineralogist: Journal of Earth and Planetary Materials, 60(9-10), pp.798-814.\". Below I refer to his equations as KX. \n",
    "\n",
    "- I assume that the growth rate is $da/dt$ where $a$ is particle radius\n",
    "- Then time is $a/(da/dt)$\n",
    "- I interpret this as the timescale required to grow the crystal to size a assuming that there are no diffusive hiderances to the process; the only obstacle seems to be the random detachment of particles from the surface according to K4.\n",
    "\n",
    "- I take $f=1$\n",
    "- Dario validates that K13 is a pretty good approximation; I have not included the correction in our eqn 2 here. \n",
    "\n",
    "The aassumption in K16 is checked in the cell kirk_growth17: it seems to be a bad approximation. Therefore we use eqn 14 in cell kirk_growth14. \n",
    "\n",
    "**However**\n",
    "\n",
    "This model was found to be unsuitable because of the assumption that the rate constant can be described by a diffusion process (see eqn 9, which follows Turnbull and Cohen, 1960). It was replaced by the Sun et al study above. "
   ]
  },
  {
   "cell_type": "code",
   "execution_count": 27,
   "metadata": {},
   "outputs": [],
   "source": [
    "# Implement growth model of Kirkpatrick eqn 14, which does not invoke approximation K16\n",
    "# Hc is latent heat\n",
    "# Tl is liquidus\n",
    "# eta is dynamic viscosity in Pa.s\n",
    "def kirk_growth14(dT,Tl,eta,r):\n",
    "    T = Tl - dT\n",
    "    kB = 1.380649e-23 #J/K\n",
    "    Rg = 8.314462\n",
    "    f  = 1\n",
    "    hf = 0.976e10\n",
    "    Y  = (f*kB*T) / (3.0*np.pi*r**2*eta) * ( 1.0-np.exp( -(hf * dT)/(Rg*T*Tl) ) )\n",
    "    return Y"
   ]
  },
  {
   "cell_type": "code",
   "execution_count": 28,
   "metadata": {},
   "outputs": [],
   "source": [
    "# Implement growth model of Kirkpatrick eqn 17\n",
    "# Hc is latent heat\n",
    "# Tl is liquidus\n",
    "# eta is dynamic viscosity in Pa.s\n",
    "def kirk_growth17(dT,Tl,eta,r):\n",
    "    kB = 1.380649e-23 #J/K\n",
    "    Rg = 8.314462\n",
    "    f  = 1\n",
    "    hf = 0.976e10\n",
    "    Y  = (f * kB) / (3.0 * np.pi * r**2 * eta) * (hf * dT) / (Rg * Tl)\n",
    "    return Y"
   ]
  },
  {
   "cell_type": "code",
   "execution_count": 29,
   "metadata": {},
   "outputs": [],
   "source": [
    "hf = 0.976e10 # From Dario\n",
    "dT = 1.0      # 1 K undercooling\n",
    "Tl = 6500.0   # Melting T of pure iron, high value\n",
    "Tm_FeO = 5600.0\n",
    "dT     = 200.0\n",
    "tI     = np.zeros(len(r))\n",
    "\n",
    "j = 0\n",
    "for i in r:\n",
    "    G = kirk_growth14(dT,Tm_FeO,0.01,i)\n",
    "    tI[j] = i/G/secinyr\n",
    "    j = j + 1"
   ]
  },
  {
   "cell_type": "markdown",
   "metadata": {},
   "source": [
    "# "
   ]
  }
 ],
 "metadata": {
  "kernelspec": {
   "display_name": "Python 3",
   "language": "python",
   "name": "python3"
  },
  "language_info": {
   "codemirror_mode": {
    "name": "ipython",
    "version": 3
   },
   "file_extension": ".py",
   "mimetype": "text/x-python",
   "name": "python",
   "nbconvert_exporter": "python",
   "pygments_lexer": "ipython3",
   "version": "3.8.6"
  }
 },
 "nbformat": 4,
 "nbformat_minor": 4
}
