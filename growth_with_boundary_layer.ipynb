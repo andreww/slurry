{
 "cells": [
  {
   "cell_type": "markdown",
   "id": "anonymous-socket",
   "metadata": {},
   "source": [
    "In the [new growth](./new_growth.ipynb) notebook, we calculate the growth\n",
    "history of a spherical particle in a cubic box liquid iron containing oxygen\n",
    "assuming the liquid is always well mixed. The growth rate starts fast\n",
    "(as the system is far from equilibrium) then slows down and stops as\n",
    "oxygen partitions from the growing solid into the liquid and phase\n",
    "equilibrium is approached. However, in a more realistic case oxygen expelled from\n",
    "the growing solid iron particle will not instantly mix throughout the liquid\n",
    "volume and a compositional boundary layer will be expected to form. This is\n",
    "expected to slow the rate of growth (and thus delay the approach to equilibrium).\n",
    "If we imagine the particle is sinking as it grows the size of the boundary layer\n",
    "is expected to be set by the sinking velocity, which depends on the radius of the\n",
    "particle. The interplay between thermodynamics, chemical diffusion, and Stokes\n",
    "flow could then be rather complicated - but we may be able to perfom a non-equilibrium\n",
    "calculation akin to the equilbrium calculation of sinking velocity. This could \n",
    "let us link the growth rate of the core to the number density of sinking particles,\n",
    "and thus estimate the sesimic properties of the F-layer.\n",
    "\n",
    "This notebook is split into two sections. The first considers the growth of a\n",
    "single particle in a box including the chemical boundary layer, but excluding\n",
    "movment of the particle (the boundary layer thickness is imposed). The second\n",
    "accounts for sinking (somehow) and leads to our F-layer calculation. In both\n",
    "cases growth is coupled to the thermodynamics of Fe-FeO and diffusion through\n",
    "the boundary layer."
   ]
  },
  {
   "cell_type": "code",
   "execution_count": 85,
   "id": "recorded-causing",
   "metadata": {},
   "outputs": [],
   "source": [
    "import numpy as np\n",
    "import matplotlib.pyplot as plt\n",
    "%matplotlib inline\n",
    "import numba\n",
    "import scipy.integrate as spi\n",
    "import scipy.optimize as spo\n",
    "\n",
    "import growth\n",
    "import feo_thermodynamics"
   ]
  },
  {
   "cell_type": "markdown",
   "id": "sitting-deputy",
   "metadata": {},
   "source": [
    "## Set up of box model\n",
    "\n",
    "As in the new growth notebook, we consider a box of Fe-FeO melt with a fixed overall composition, pressure and temperature starting with a seed crystals with a small radius. We timestep the system and track the composition of the melt and size of the crystal as it grows or dissolves and the system approaches (phase) equilibrium. However, we allow a compositional boundary layer to form around the particle.\n",
    "\n",
    "The boundary layer forms because there is a flux of oxygen out of the particle as it grows. Derivation is in\n",
    "the overleaf document, but the relationship between crystal growth rate and oxygen flux at the interface is\n",
    "given by:\n",
    "\n",
    "$$\\left. \\frac{\\partial c_l}{\\partial r}\\right|_{r=r_p} = \\frac{c_l(r_p)}{D_l} \\frac{\\mathrm{d} r_p}{\\mathrm{d} t} $$\n",
    "\n",
    "where $c_l$ is the liquid composition at the particle interface (at $r_p$), $D_l$ is the oxygen diffusion\n",
    "coefficent, and $t$ is time. $r$ is measured outwards from the center of the particle. The growth rate also\n",
    "depends on the liquid composition at the particle interface via the chemical potential change:\n",
    "\n",
    "$$ \\frac{\\mathrm{d} r_p}{\\mathrm{d} t} = k_0 \\left[1 - \\exp\\left(\\frac{\\Delta\\mu(c_l(r_p))}{k_B T}\\right)  \\right]$$\n",
    "\n",
    "We assume that the boundary layer structure is linear, increasing from some value at the interface, given by\n",
    "$c_l(r_p)$, to some other value, $c_l(r_p + \\delta)$, at the outer edge of the boundary layer (which has a\n",
    "thickness $\\delta$). This allows us to relate the structure of the boundary layer to the growth rate of the\n",
    "particle:\n",
    "\n",
    "$$  c_l(r_p) - c_l(r_p+\\delta) = \\frac{\\delta c_l(r_p)}{D_L} \\frac{\\mathrm{d} r_p}{\\mathrm{d} t} $$\n",
    "\n",
    "In terms of composition - we work things out in terms of mole fraction Fe (and converting to anything \n",
    "else would be a right pain in the ass). We can write the composition in terms of $r$:\n",
    "\n",
    "$$ x(r) = \\begin{cases} \n",
    "      1.0 & r \\leq r_p  \\\\\n",
    "      (c_l - c_0)(r - r_p)/\\delta + c_l & r_p\\leq r\\leq r_p + \\delta \\\\\n",
    "      c_0 & r_p + \\delta \\leq r \n",
    "   \\end{cases}$$\n",
    "   \n",
    "Then make sure that the intergral of $x(r)$ is constant from step to step (setting the overall composition:\n",
    "\n",
    "$$ \\frac{4}{3}\\pi r^3 x_i = \\int_0^R 4 \\pi r^2 x(r) \\mathrm{d}r$$\n",
    "\n",
    "(This assumes that changing composition / phase does not impact on volume...)"
   ]
  },
  {
   "cell_type": "code",
   "execution_count": 76,
   "id": "bronze-idaho",
   "metadata": {},
   "outputs": [],
   "source": [
    "@numba.vectorize()\n",
    "def x_r (r, rp, delta, c_outer, c_inner):\n",
    "    if r < rp:\n",
    "        comp = 1.0\n",
    "    elif r < (rp + delta):\n",
    "        comp = (c_outer - c_inner)*(r - rp)/delta + c_inner\n",
    "    else:\n",
    "        comp = c_outer\n",
    "    return comp\n",
    "\n",
    "@numba.jit()\n",
    "def intergrand(r, rp, delta, c_outer, c_inner):\n",
    "    return 4.0 * np.pi * r**2 * x_r(r, rp, delta, c_outer, c_inner)\n",
    "\n",
    "def total_composition(rp, delta, c_outer, c_inner, r_max):\n",
    "    y, err, infodict = spi.quad(intergrand, 0.0, r_max, args=(rp, delta, c_outer, c_inner), full_output=1)\n",
    "    \n",
    "    return y\n",
    "    "
   ]
  },
  {
   "cell_type": "code",
   "execution_count": 81,
   "id": "acoustic-worth",
   "metadata": {},
   "outputs": [
    {
     "data": {
      "image/png": "[encoded data removed]",
      "text/plain": [
       "<Figure size 432x288 with 2 Axes>"
      ]
     },
     "metadata": {
      "needs_background": "light"
     },
     "output_type": "display_data"
    },
    {
     "name": "stdout",
     "output_type": "stream",
     "text": [
      "1.0\n",
      "1.0\n",
      "1.0\n",
      "2.7048065549880183\n"
     ]
    }
   ],
   "source": [
    "rp = 0.5\n",
    "delta = 0.1\n",
    "c_outer = 0.6\n",
    "c_inner = 0.5\n",
    "\n",
    "r = np.linspace(0.0, 1.0, 1000)\n",
    "fig, ax = plt.subplots(nrows=2)\n",
    "ax[0].plot(r, x_r(r, rp, delta, c_outer, c_inner))\n",
    "ax[1].plot(r, intergrand(r, rp, delta, c_outer, c_inner))\n",
    "\n",
    "plt.show()\n",
    "print(x_r(0.02, rp, delta, c_outer, c_inner))\n",
    "print(x_r(0.21, rp, delta, c_outer, c_inner))\n",
    "print(x_r(0.22, rp, delta, c_outer, c_inner))\n",
    "\n",
    "print(total_composition(rp, delta, c_outer, c_inner, 1.0))"
   ]
  },
  {
   "cell_type": "code",
   "execution_count": 83,
   "id": "fatty-calcium",
   "metadata": {},
   "outputs": [],
   "source": [
    "def _total_composition_error(cl, rp, ci, delta, rtot, temperature, pressure, dl, k0):\n",
    "    \"\"\"\n",
    "    For a given cl compute the difference between the composition and the pure\n",
    "    liquid composition. When this is zero we have a consistent solution\n",
    "    \"\"\"\n",
    "    # Compute growth rate for this composition \n",
    "    v = growth.growth_velocity_feo(cl, pressure, temperature, k0)\n",
    "    # This gives us the composition at the edge of the boundary layer\n",
    "    # because the graident at the boundary (and hence in the layer)\n",
    "    # is set by the expulsion rate of O from the growing Fe\n",
    "    c0 = cl + (delta*cl)/dl * v # Check sign here - it's negative in the notes.\n",
    "    # Calculate total composition for this configuration\n",
    "    ctot = total_composition(rp, delta, c0, cl, rtot)\n",
    "    ctot_pure_melt = 4/3 * np.pi * rtot**3 * ci\n",
    "    error = ctot - ctot_pure_melt\n",
    "    return error\n",
    "\n",
    "def diffusion_growth_rate(rp, ci, delta, rtot, temperature, pressure, dl, k0):\n",
    "    \"\"\"\n",
    "    Compute growth rate of a particle of Fe from an FeO liquid accounting for a diffusional boundary layer\n",
    "    \n",
    "    For an Fe particle of radius rp (m) in a spherical container of radius rtot (m)\n",
    "    calculate drp/dt (in m/s) assuming the presence of a linear boundary layer of\n",
    "    thickness delta (m) and total composition ci (mol frac Fe) pressute (in GPa) and\n",
    "    temperature (K). We also need two material properties, the diffusivity of FeO in \n",
    "    the liquid (dl, in m^2s^-1) and prefactor for growth (k0, in m/s). We also need\n",
    "    an initial guess for the liquid composition next to the particle (cl_guess).\n",
    "    \n",
    "    Returns the growth rate, the self-consistent composition at the interface\n",
    "    and the self consistent composition at the outer side of the boundary layer.\n",
    "    \"\"\"\n",
    "    cl = spo.brentq(_total_composition_error, 0.00000001, 0.999999999, \n",
    "                    args=(rp, ci, delta, rtot, temperature, pressure, dl, k0))\n",
    "    \n",
    "    v = growth.growth_velocity_feo(cl, pressure, temperature, k0)\n",
    "    c0 = cl + (delta*cl)/dl * v\n",
    "    return v, cl, c0"
   ]
  },
  {
   "cell_type": "code",
   "execution_count": 103,
   "id": "civic-stomach",
   "metadata": {},
   "outputs": [
    {
     "name": "stdout",
     "output_type": "stream",
     "text": [
      "At radius 1e-05 growth rate is 3.065497855558874e-09 cl is 0.7815058165296108 and c0 is 0.9012910367635263\n",
      "At radius 0.001 growth rate is 3.065497855558874e-09 cl is 0.7815058165296109 and c0 is 0.9012910367635264\n",
      "At radius 0.01 growth rate is 3.065497855558874e-09 cl is 0.7815058165296117 and c0 is 0.9012910367635273\n",
      "At radius 0.1 growth rate is 3.066330522827343e-09 cl is 0.7815058165296158 and c0 is 0.9013235734792091\n",
      "At radius 0.2 growth rate is 3.0562552488788697e-09 cl is 0.781505816529561 and c0 is 0.9009298792194529\n",
      "At radius 0.3 growth rate is 3.0176194876219142e-09 cl is 0.7815058165293602 and c0 is 0.8994201756118039\n",
      "At radius 0.5 growth rate is 2.7622237830371432e-09 cl is 0.7815058165280315 and c0 is 0.8894405141778111\n",
      "At radius 0.75 growth rate is 1.294581108979287e-09 cl is 0.7815058165203835 and c0 is 0.8320919498516196\n",
      "At radius 0.9 growth rate is -4.9859449902101005e-09 cl is 0.7815058164876612 and c0 is 0.5866785659608258\n"
     ]
    }
   ],
   "source": [
    "r0 = 1.0E-10 # initial radius, m\n",
    "n = 2 # number of crystals\n",
    "t = 5000.0 # temperature, K\n",
    "p = 330.0 # GPa\n",
    "x = 0.9 # Overall composition, mol frac Fe\n",
    "k0 = 150.0 # growth rate prefactor, m/s\n",
    "box_size = 1.0 # initial volume of the box (m^3)\n",
    "time_step = 0.001 # s\n",
    "total_time = 0.025 # s\n",
    "delta = 0.05\n",
    "r_tot = 1.0\n",
    "\n",
    "for rp in [0.00001, 0.001, 0.01, 0.1, 0.2, 0.3, 0.5, 0.75, 0.9]:\n",
    "    v, cl, c0 = diffusion_growth_rate(rp, x, delta, r_tot, t, p, 1e-9, k0)\n",
    "    print(\"At radius\", rp, \"growth rate is\", v, \"cl is\", cl, \"and c0 is\", c0)"
   ]
  },
  {
   "cell_type": "code",
   "execution_count": 104,
   "id": "clinical-london",
   "metadata": {},
   "outputs": [
    {
     "data": {
      "image/png": "[encoded data removed]",
      "text/plain": [
       "<Figure size 432x288 with 1 Axes>"
      ]
     },
     "metadata": {
      "needs_background": "light"
     },
     "output_type": "display_data"
    }
   ],
   "source": [
    "r = np.linspace(0.0, 1.0, 1000)\n",
    "fig, ax = plt.subplots()\n",
    "rp = 0.1\n",
    "v, cl, c0 = diffusion_growth_rate(rp, x, delta, r_tot, t, p, 1e-9, k0)\n",
    "ax.plot(r, x_r(r, rp, delta, c0, cl))\n",
    "plt.show()"
   ]
  },
  {
   "cell_type": "code",
   "execution_count": null,
   "id": "incoming-addiction",
   "metadata": {},
   "outputs": [],
   "source": []
  }
 ],
 "metadata": {
  "kernelspec": {
   "display_name": "Python 3",
   "language": "python",
   "name": "python3"
  },
  "language_info": {
   "codemirror_mode": {
    "name": "ipython",
    "version": 3
   },
   "file_extension": ".py",
   "mimetype": "text/x-python",
   "name": "python",
   "nbconvert_exporter": "python",
   "pygments_lexer": "ipython3",
   "version": "3.8.6"
  }
 },
 "nbformat": 4,
 "nbformat_minor": 5
}
