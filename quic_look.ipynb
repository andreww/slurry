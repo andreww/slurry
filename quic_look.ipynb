{
 "cells": [
  {
   "cell_type": "markdown",
   "id": "0e630ac1-fd0d-44c2-9165-31715d89abbf",
   "metadata": {},
   "source": [
    "Quick notebook to look at results - need to turn this into something useful"
   ]
  },
  {
   "cell_type": "code",
   "execution_count": 1,
   "id": "3f216e0c-dc01-4b60-98a0-96e9d9334ee2",
   "metadata": {},
   "outputs": [],
   "source": [
    "import numpy as np"
   ]
  },
  {
   "cell_type": "code",
   "execution_count": 4,
   "id": "8306d8f3-df9d-4f27-acbd-5901c66b7041",
   "metadata": {},
   "outputs": [],
   "source": [
    "import flayer"
   ]
  },
  {
   "cell_type": "code",
   "execution_count": 6,
   "id": "472b6dd8-5a1f-4843-9f84-8bd9d0e0571f",
   "metadata": {},
   "outputs": [],
   "source": [
    "r_icb = 1221500\n",
    "r_cmb = 3480000\n",
    "f_layer_thickness = 200000\n",
    "\n",
    "r_flayer_top = r_icb + f_layer_thickness\n",
    "gruneisen_parameter = 1.5\n",
    "delta_t_icb = -10.0\n",
    "xfe_outer_core = 0.95\n",
    "xfe_icb = 0.95\n",
    "number_of_knots = 5 \n",
    "knott_radii = np.linspace(r_icb, r_flayer_top, number_of_knots)"
   ]
  },
  {
   "cell_type": "code",
   "execution_count": 7,
   "id": "19402b64-2fe1-4d36-bcfd-0fe5565fac83",
   "metadata": {},
   "outputs": [
    {
     "name": "stderr",
     "output_type": "stream",
     "text": [
      "/Users/andreww/miniconda3/envs/py39/lib/python3.9/site-packages/numpy/lib/function_base.py:2197: RuntimeWarning: invalid value encountered in find_liquidus (vectorized)\n",
      "  outputs = ufunc(*inputs)\n"
     ]
    }
   ],
   "source": [
    "tfunc, tafunc, ftfunc, tfunc_creator, xfunc, pfunc, gfunc, xfunc_creator = flayer.setup_flayer_functions(r_icb, r_cmb,\n",
    "         f_layer_thickness, gruneisen_parameter, delta_t_icb, xfe_outer_core, xfe_icb, knott_radii)"
   ]
  },
  {
   "cell_type": "code",
   "execution_count": 53,
   "id": "30bcdcbb-11b6-460a-8eab-625dc9d184e6",
   "metadata": {},
   "outputs": [],
   "source": [
    "params = np.array([-4.87816181e-04, -1.18121353e-12, -8.23156589e-01,  1.70427348e-03,\n",
    "  2.47752490e-01, -2.36242705e-10, -2.36242705e-10, -2.36242705e-10])\n",
    "params = np.array([-4.87879504e-04, -3.09016994e-07,  0.00000000e+00,  0.00000000e+00,\n",
    "  0.00000000e+00,  0.00000000e+00,  0.00000000e+00,  0.00000000e+00])"
   ]
  },
  {
   "cell_type": "code",
   "execution_count": 54,
   "id": "d412982f-2f31-4517-a302-ce31cde7b21d",
   "metadata": {},
   "outputs": [],
   "source": [
    "n_params = knott_radii.size-1\n",
    "t_params = np.concatenate((params[0:1], params[2:n_params+1]))\n",
    "x_params = np.concatenate((params[1:2], params[n_params+1:]))"
   ]
  },
  {
   "cell_type": "code",
   "execution_count": 55,
   "id": "785a6e48-f337-4148-907b-f73f3b444b3f",
   "metadata": {},
   "outputs": [],
   "source": [
    "rs = np.linspace(r_icb, r_flayer_top)"
   ]
  },
  {
   "cell_type": "code",
   "execution_count": 56,
   "id": "9459ed60-f978-4865-aef9-55bc328b0885",
   "metadata": {},
   "outputs": [],
   "source": [
    "tfunc = tfunc_creator(t_params)"
   ]
  },
  {
   "cell_type": "code",
   "execution_count": 57,
   "id": "41e5eb90-5f8d-4fba-ab02-bb0516a5cb08",
   "metadata": {},
   "outputs": [],
   "source": [
    "xfunc = xfunc_creator(x_params)"
   ]
  },
  {
   "cell_type": "code",
   "execution_count": 58,
   "id": "f02ee37f-bc9c-4d87-90b9-e5a09285dff2",
   "metadata": {},
   "outputs": [],
   "source": [
    "import matplotlib.pyplot as plt\n",
    "%matplotlib inline"
   ]
  },
  {
   "cell_type": "code",
   "execution_count": 59,
   "id": "56a0bb06-9e45-415a-8acd-65e62fe5a561",
   "metadata": {},
   "outputs": [
    {
     "data": {
      "image/png": "[encoded data removed]",
      "text/plain": [
       "<Figure size 432x288 with 2 Axes>"
      ]
     },
     "metadata": {
      "needs_background": "light"
     },
     "output_type": "display_data"
    }
   ],
   "source": [
    "fig, [tax, xax] = plt.subplots(ncols=2)\n",
    "tax.plot(tfunc(rs), rs)\n",
    "xax.plot(xfunc(rs), rs)\n",
    "fig.tight_layout()\n",
    "plt.show()"
   ]
  },
  {
   "cell_type": "code",
   "execution_count": 60,
   "id": "89b71c35-10b3-4d92-857c-b5796d014eb7",
   "metadata": {},
   "outputs": [
    {
     "data": {
      "text/plain": [
       "array([1.0118034 , 1.01163122, 1.01113931, 1.01036456, 1.0093439 ,\n",
       "       1.00811424, 1.00671249, 1.00517557, 1.00354038, 1.00184385,\n",
       "       1.00012288, 0.99841438, 0.99675528, 0.99517919, 0.99369111,\n",
       "       0.99228127, 0.99093979, 0.98965681, 0.98842244, 0.9872268 ,\n",
       "       0.98606001, 0.98491221, 0.9837735 , 0.98263401, 0.98148386,\n",
       "       0.98031343, 0.97911909, 0.97790318, 0.97666828, 0.97541702,\n",
       "       0.97415197, 0.97287574, 0.97159094, 0.97030016, 0.969006  ,\n",
       "       0.96771105, 0.96641793, 0.96512922, 0.96384653, 0.96256956,\n",
       "       0.96129779, 0.96003069, 0.95876776, 0.95750846, 0.95625229,\n",
       "       0.95499871, 0.95374721, 0.95249727, 0.95124838, 0.95      ])"
      ]
     },
     "execution_count": 60,
     "metadata": {},
     "output_type": "execute_result"
    }
   ],
   "source": [
    "xfunc(rs)"
   ]
  },
  {
   "cell_type": "code",
   "execution_count": 44,
   "id": "946713ba-d05a-4071-8883-48422f41dcc8",
   "metadata": {},
   "outputs": [
    {
     "data": {
      "text/plain": [
       "array([1221500.        , 1225581.63265306, 1229663.26530612,\n",
       "       1233744.89795918, 1237826.53061224, 1241908.16326531,\n",
       "       1245989.79591837, 1250071.42857143, 1254153.06122449,\n",
       "       1258234.69387755, 1262316.32653061, 1266397.95918367,\n",
       "       1270479.59183673, 1274561.2244898 , 1278642.85714286,\n",
       "       1282724.48979592, 1286806.12244898, 1290887.75510204,\n",
       "       1294969.3877551 , 1299051.02040816, 1303132.65306122,\n",
       "       1307214.28571429, 1311295.91836735, 1315377.55102041,\n",
       "       1319459.18367347, 1323540.81632653, 1327622.44897959,\n",
       "       1331704.08163265, 1335785.71428571, 1339867.34693878,\n",
       "       1343948.97959184, 1348030.6122449 , 1352112.24489796,\n",
       "       1356193.87755102, 1360275.51020408, 1364357.14285714,\n",
       "       1368438.7755102 , 1372520.40816327, 1376602.04081633,\n",
       "       1380683.67346939, 1384765.30612245, 1388846.93877551,\n",
       "       1392928.57142857, 1397010.20408163, 1401091.83673469,\n",
       "       1405173.46938776, 1409255.10204082, 1413336.73469388,\n",
       "       1417418.36734694, 1421500.        ])"
      ]
     },
     "execution_count": 44,
     "metadata": {},
     "output_type": "execute_result"
    }
   ],
   "source": [
    "rs"
   ]
  },
  {
   "cell_type": "code",
   "execution_count": null,
   "id": "e395700c-fbe2-4093-b47f-204677a7f18f",
   "metadata": {},
   "outputs": [],
   "source": []
  }
 ],
 "metadata": {
  "kernelspec": {
   "display_name": "Python 3 (ipykernel)",
   "language": "python",
   "name": "python3"
  },
  "language_info": {
   "codemirror_mode": {
    "name": "ipython",
    "version": 3
   },
   "file_extension": ".py",
   "mimetype": "text/x-python",
   "name": "python",
   "nbconvert_exporter": "python",
   "pygments_lexer": "ipython3",
   "version": "3.9.7"
  }
 },
 "nbformat": 4,
 "nbformat_minor": 5
}
