{
 "cells": [
  {
   "cell_type": "code",
   "execution_count": 1,
   "metadata": {},
   "outputs": [],
   "source": [
    "import numpy as np\n",
    "from scipy import optimize\n",
    "import matplotlib.pyplot as plt\n",
    "%matplotlib inline"
   ]
  },
  {
   "cell_type": "code",
   "execution_count": 2,
   "metadata": {},
   "outputs": [],
   "source": [
    "# Define parameters\n",
    "secinyr = 60.0*60.0*24.0*365.0\n",
    "k     = 250.0                    # thermal conductivity of solid iron \n",
    "rhos  = 12700                    # solid density\n",
    "rhol  = 12100                    # liquid density\n",
    "cp    = 750                      # specific heat\n",
    "kappa = k/(rhol*cp)              # thermal diffusivity of liquid\n",
    "Dliq  = 1e-9                     # self-diffusion of O in liquid\n",
    "Dsol  = 1e-12                    # self-diffusion of O in solid\n",
    "mu    = 1e-6                     # kinematic viscosity\n",
    "drho  = rhos-rhol                # density difference\n",
    "g     = 3.7                      # gravity at ICB from PREM\n",
    "Vic      = 4 * np.pi * 1221000.0**3 / 3.0  # IC volume\n",
    "kb       = 1.380648e-23          # Boltzmann constant\n",
    "secingyr = 3.1536e+16           \n",
    "\n",
    "r = np.logspace(-6,0,num=20)     # Array of particle sizes in metres"
   ]
  },
  {
   "cell_type": "code",
   "execution_count": 3,
   "metadata": {},
   "outputs": [],
   "source": [
    "# Calculate diffusion and freefall timescales\n",
    "tt = np.zeros(len(r))  # Thermal diffusion time\n",
    "ts = np.zeros(len(r))  # Chemical diffusion in solid\n",
    "tl = np.zeros(len(r))  # Chemical diffusion in liquid\n",
    "tVl= np.zeros(len(r))  # Timescale based on Stokes velocity Vs\n",
    "\n",
    "# All timescales in yrs\n",
    "j = 0\n",
    "for i in r:    \n",
    "    tt[j] = i**2/kappa/secinyr\n",
    "    ts[j] = i**2/Dsol/secinyr\n",
    "    tl[j] = i**2/Dliq/secinyr\n",
    "    \n",
    "    Vs    = 2.0 * drho * g * i**2 / (9.0 * mu * rhol)\n",
    "    tVl[j]= 100e3/Vs/secinyr\n",
    "    \n",
    "    #print(\"{:e}\".format(i), \"{:e}\".format(tt), \"{:e}\".format(ts), \"{:e}\".format(tl))\n",
    "    j = j + 1"
   ]
  },
  {
   "cell_type": "markdown",
   "metadata": {},
   "source": [
    "## Falling timescale of slurry patricles. \n",
    "\n",
    "A key question is whether patricles of a given radius $r$ will fall out of the slurry before they can equilibrate with their surroundings via diffusion. The simplest estimate is based on Stokes flow, which gives the terminal velocity of the partickle by balancing buoyancy and drag forces and applies at low Reynolds number $Re$. Zhang and Xu (2003, https://www.sciencedirect.com/science/article/pii/S0012821X03002978?casa_token=sjZhMFVPcuMAAAAA:89Txq8oZeXVy3-pyY7nqj942kzd95iOZKYyELUrlthZ-nM7vzabhz-F8trUMdFLXnim9N6A2Jkg) summarise and extend previous results to high $Re$ and so we consider both cases. \n",
    "\n",
    "The classical Stokes flow velocity is given by\n",
    "\n",
    "$$ V_S = \\frac{2}{9} \\frac{\\Delta \\rho g a^2}{\\mu} $$\n",
    "\n",
    "while the Zhang and Xu equation (20) gives\n",
    "\n",
    "$$ V_Z = \\sqrt{\\left( \\frac{8}{3} \\frac{\\Delta \\rho g a}{\\rho_l C_D} \\right) }$$\n",
    "\n",
    "The drag coefficient $C_D$ is \n",
    "\n",
    "$$ C_D = \\frac{2F_D}{\\rho_l V^2 A} V$$\n",
    "\n",
    "If $F_D = 6\\pi \\mu a$ as given by Stokes drag then we can take $V=V_z$ in the equation for $C_D$, which becomes $C_D = (12 \\pi \\mu a) / (\\rho_l V_Z A)$. Subbing into the original eqn for $V_Z$ and noting that the area $A\\sim\\pi a^2$ we recover the Stokes velocity.\n",
    "\n",
    "As $Re$ increases the drag coefficient increases and so $V_Z$ tends to decrease compared to $V_S$. Hence the falling time should be greater for the high $Re$ case than the low $Re$ case at high $Re$. This provides a check on the results below. "
   ]
  },
  {
   "cell_type": "code",
   "execution_count": 13,
   "metadata": {},
   "outputs": [],
   "source": [
    "# For given velocity outputs the Reynolds number Re and drag coefficient Cd. \n",
    "# Used to check fzhang_opt: if fzhang_opt has found the velocity that solves the equations\n",
    "# then input u = output u\n",
    "\n",
    "def fzhang(u,r):\n",
    "    \"\"\"\n",
    "    r  = particle radius\n",
    "    u  = initial velocity guess\n",
    "    mu = kinematic viscosity\n",
    "    Re = Reynolds number\n",
    "    Cd = drag coefficient\n",
    "    g  = gravity at ICB\n",
    "    drho = solid-liquid density difference\n",
    "    rhol = liquid density\n",
    "    \"\"\"\n",
    "    \n",
    "    Re  = np.abs(2*r * u / mu)                                              # Eqn 1  of ZX02\n",
    "    Cd  = (24.0/Re) * (1.0 + 0.15*Re**0.687) + 0.42/(1.0 + 42500*Re**-1.16) # Eqn 19 of ZX02\n",
    "    unum= 8.0 * g * r * drho                                                # Eqn 20 of ZX02\n",
    "    uden= 3.0 * rhol * Cd                                                   # Eqn 20 of ZX02\n",
    "    u   = np.sqrt(unum/uden)\n",
    "    return Re, Cd, u"
   ]
  },
  {
   "cell_type": "code",
   "execution_count": 5,
   "metadata": {},
   "outputs": [],
   "source": [
    "# Finds the velocity, \"result\", based on an initial guess u using the eqns in Zhang and Xu (2003)\n",
    "\n",
    "def fzhang_opt(u,rad):\n",
    "    \"\"\"\n",
    "    rad= particle radius\n",
    "    u  = initial velocity guess\n",
    "    mu = kinematic viscosity\n",
    "    Re = Reynolds number\n",
    "    g  = gravity at ICB\n",
    "    drho = solid-liquid density difference\n",
    "    rhol = liquid density\n",
    "    \"\"\"\n",
    "    \n",
    "    re = np.abs(2*rad*u/mu)\n",
    "\n",
    "    result = (8.0 * g * rad * drho) / (3.0 * rhol * \n",
    "          ( (24.0/re ) * (1.0 + 0.15*re**0.687) + \n",
    "                                    0.42/(1.0 + 42500*re**-1.16) ) )\n",
    "    result = np.sqrt(result)\n",
    "    result = result - u\n",
    "\n",
    "    return result"
   ]
  },
  {
   "cell_type": "code",
   "execution_count": 14,
   "metadata": {},
   "outputs": [
    {
     "name": "stdout",
     "output_type": "stream",
     "text": [
      "Re, Cd, ufinal, u_guess\n",
      "0.1 310.02777 0.000397254 0.000397254\n"
     ]
    }
   ],
   "source": [
    "# Test fzhang_opt and run\n",
    "\n",
    "tVh= np.zeros(len(r))\n",
    "\n",
    "# Obtain iterative solution for velocity using Brent methodand store in u2\n",
    "rad = 1e-4\n",
    "u2 = optimize.brentq(fzhang_opt, -1.0, 1.0, args=(rad))\n",
    "\n",
    "# Use solution in fzhang: u2=uX for consistent solution\n",
    "Re, Cd, uX = fzhang(u2,rad)\n",
    "print('Re, Cd, ufinal, u_guess')\n",
    "print(np.round(Re,1), np.round(Cd,5), np.round(uX,9), np.round(u2,9))\n",
    "\n",
    "j = 0\n",
    "for i in r:\n",
    "    rad = np.float(i)\n",
    "    Vs     = optimize.brentq(fzhang_opt, -1.0, 100.0, args=(rad))\n",
    "    Re, Cd, uX = fzhang(Vs,rad)\n",
    "    #print(np.round(Re,9), np.round(Cd,5), np.round(uX,9), np.round(Vs,9))\n",
    "    tVh[j] = 100e3/Vs/secinyr\n",
    "    j = j + 1"
   ]
  },
  {
   "cell_type": "markdown",
   "metadata": {},
   "source": [
    "# Crystal growth following Sun et al. (2018)\n",
    "\n",
    "The Kirkpatrick growth models assume that the process of crystal growth at an interface can be described\n",
    "in terms of a diffusional equation and treated as if this was solving a bulk diffusion problem (i.e. that\n",
    "the Stokes-Einstien equation holds). This seems unlikly. Fortunatly, more recent work has \n",
    "attempted to quantify and understand crystal growth in metals using atomic scale simulation. Importantly,\n",
    "this is a very quick process.\n",
    "\n",
    "Here we follow Sun et al. (2018; Nature Materials 17:881-886, https://doi.org/10.1038/s41563-018-0174-6)\n",
    "who simulate crystal growth of the FCC metals Al, Ni, Cu, Ag, Pt and Pb using an embedded atom model at\n",
    "temperatures from the (simulated) melting point down to undercoolings of ~300 K below the melting point in order\n",
    "to understand why crystal growth for these crystals was \"ultrafast\". These calculations were undertaken\n",
    "using LAMMPS and were not at elevated pressure. These atomic scale results were compared with three models\n",
    "and an emprical fit:\n",
    "\n",
    "1. A linear fit of growth rate againts undercooling\n",
    "2. The Wilson–Frenkel model, where growth is limited by diffusion in the liquid\n",
    "3. A Ginzburg–Landau approach, where growth is contolled by density fluctuations in the liquid\n",
    "4. A collision rate model\n",
    "\n",
    "All these models can be described the interaction of a kinetic and a thermodynamic term (equation 1 of Sun; S1):\n",
    "\n",
    "$$ V(T) = k(T) \\left[1 - \\exp\\left(\\frac{\\Delta\\mu}{k_B T}\\right)  \\right],$$\n",
    "\n",
    "where $V(T)$ is the growth rate of the crystal (normal to the 111 face) $k(T)$ is a kinetic function and\n",
    "$\\Delta\\mu$ is the difference in the chemical potential of the solid and theliquid. This is analogous to K4,\n",
    "(or K8). $k(T)$ is different for the different models:\n",
    "\n",
    "1. $k(T) = k_0$\n",
    "2. $k(T) = l\\frac{6D(T)}{\\gamma^2}$\n",
    "3. $k(T) \\propto \\frac{S(K_i)}{\\tau(K_i)}$\n",
    "3. $k(T) \\propto \\sqrt{\\frac{3K_B T}{M}}$\n",
    "\n",
    "Models 1 and 4 reproduce the atomic scale data fairly well over the temperature range (see Sun et al. Fig 1).\n",
    "\n",
    "For simplicity, I'll take model 1 and write a growth rate function.\n",
    "\n",
    "Sun SI: https://static-content.springer.com/esm/art%3A10.1038%2Fs41563-018-0174-6/MediaObjects/41563_2018_174_MOESM1_ESM.pdf"
   ]
  },
  {
   "cell_type": "code",
   "execution_count": 23,
   "metadata": {},
   "outputs": [
    {
     "name": "stdout",
     "output_type": "stream",
     "text": [
      "707.5073794266233\n"
     ]
    },
    {
     "data": {
      "image/png": "[encoded data removed]",
      "text/plain": [
       "<Figure size 432x288 with 1 Axes>"
      ]
     },
     "metadata": {
      "needs_background": "light"
     },
     "output_type": "display_data"
    }
   ],
   "source": [
    "# Data for Cu (because I have a EAM set up in LAMMPS for Cu in case we want to take it further)\n",
    "\n",
    "kB = 1.380649e-23 # J/K\n",
    "cu_k0 = 212 # [K^-1]? Table 2\n",
    "cu_tm = 1275 # [K] Table 1\n",
    "cu_dhm = 1.21 * kB * cu_tm # [J] SI table S1, heat of fusion at melting point\n",
    "\n",
    "cu_mass = 1.055e-25\n",
    "cu_k04  =np.sqrt(3.0*kb*cu_tm/cu_mass)\n",
    "print(cu_k04)\n",
    "\n",
    "def sun_velocity_fit(dt, tm, dhm, k0):\n",
    "    \"\"\"\n",
    "    dT is the undercooling\n",
    "    Tm is the melting temperature\n",
    "    dmu is the difference in chemical potentials\n",
    "    k0 is a rate constant\n",
    "    r is the particle radius\n",
    "    \"\"\"\n",
    "    t = tm - dt\n",
    "    d_mu = (tm - t) * (dhm / tm) # K13 / first para of Sun SI\n",
    "    kB = 1.380649e-23 #J/K\n",
    "    v = k0 * (1.0 - np.exp(-d_mu/(kB * t)))\n",
    "    return v\n",
    "\n",
    "# Plot graph - like Fig 1 of paper\n",
    "fig, ax = plt.subplots()\n",
    "ts_ = np.linspace(900, cu_tm)\n",
    "dts = cu_tm - ts_\n",
    "vs  = sun_velocity_fit(dts, cu_tm, cu_dhm, cu_k0)\n",
    "ax.plot(ts_, vs)\n",
    "ax.set_xlabel('Temperature (K)')\n",
    "ax.set_ylabel('Growth velocity (m/s)')\n",
    "ax.set_title('Cu growth rate, c.f. Sun et al. Fig 1c')\n",
    "plt.show()\n",
    "\n",
    "dT     = 200.0\n",
    "tIsun     = np.zeros(len(r))\n",
    "\n",
    "j = 0\n",
    "for i in r:\n",
    "    G = sun_velocity_fit(dT, cu_tm, cu_dhm, cu_k0)\n",
    "    tIsun[j] = i/G/secinyr\n",
    "    j = j + 1"
   ]
  },
  {
   "cell_type": "code",
   "execution_count": 19,
   "metadata": {},
   "outputs": [
    {
     "data": {
      "text/plain": [
       "<matplotlib.legend.Legend at 0x17c5bd0>"
      ]
     },
     "execution_count": 19,
     "metadata": {},
     "output_type": "execute_result"
    },
    {
     "data": {
      "image/png": "[encoded data removed]",
      "text/plain": [
       "<Figure size 432x288 with 1 Axes>"
      ]
     },
     "metadata": {
      "needs_background": "light"
     },
     "output_type": "display_data"
    }
   ],
   "source": [
    "plt.xlabel(\"Particle radius, $r$ (m)\")\n",
    "plt.ylabel(\"Timescale (yrs)\")\n",
    "plt.loglog(r, tt , color=\"black\", linestyle=\"dashdot\",label=\"Thermal diffusion\")\n",
    "plt.loglog(r, ts , color=\"black\", linestyle=\"--\", label=\"Solid diffusion\")\n",
    "plt.loglog(r, tl , color=\"black\", linestyle=\":\", label=\"Liquid diffusion\")\n",
    "plt.loglog(r, tVl, label=\"Falling time, low $Re$\")\n",
    "plt.loglog(r, tVh, label=\"Falling time, high $Re$\")\n",
    "plt.loglog(r, tIsun , color=\"red\" , linestyle=\"--\", label=\"Growth TS Sun ($k(T) =  k_0$), Cu\")\n",
    "\n",
    "plt.legend(loc='upper right', bbox_to_anchor=(1.6, 0.99),\n",
    "          fancybox=True, shadow=True)"
   ]
  },
  {
   "cell_type": "markdown",
   "metadata": {},
   "source": [
    "## Interface timescale. \n",
    "\n",
    "Here I implement equation 17 of Kirkpatrick (1974), \"Kirkpatrick, R.J., 1975. Crystal growth from the melt: a review. American Mineralogist: Journal of Earth and Planetary Materials, 60(9-10), pp.798-814.\". Below I refer to his equations as KX. \n",
    "\n",
    "- I assume that the growth rate is $da/dt$ where $a$ is particle radius\n",
    "- Then time is $a/(da/dt)$\n",
    "- I interpret this as the timescale required to grow the crystal to size a assuming that there are no diffusive hiderances to the process; the only obstacle seems to be the random detachment of particles from the surface according to K4.\n",
    "\n",
    "- I take $f=1$\n",
    "- Dario validates that K13 is a pretty good approximation; I have not included the correction in our eqn 2 here. \n",
    "\n",
    "The aassumption in K16 is checked in the cell kirk_growth17: it seems to be a bad approximation. Therefore we use eqn 14 in cell kirk_growth14. \n",
    "\n",
    "**However**\n",
    "\n",
    "This model was found to be unsuitable because of the assumption that the rate constant can be described by a diffusion process (see eqn 9, which follows Turnbull and Cohen, 1960). It was replaced by the Sun et al study above. "
   ]
  },
  {
   "cell_type": "code",
   "execution_count": 10,
   "metadata": {},
   "outputs": [],
   "source": [
    "# Implement growth model of Kirkpatrick eqn 14, which does not invoke approximation K16\n",
    "# Hc is latent heat\n",
    "# Tl is liquidus\n",
    "# eta is dynamic viscosity in Pa.s\n",
    "def kirk_growth14(dT,Tl,eta,r):\n",
    "    T = Tl - dT\n",
    "    kB = 1.380649e-23 #J/K\n",
    "    Rg = 8.314462\n",
    "    f  = 1\n",
    "    hf = 0.976e10\n",
    "    Y  = (f*kB*T) / (3.0*np.pi*r**2*eta) * ( 1.0-np.exp( -(hf * dT)/(Rg*T*Tl) ) )\n",
    "    return Y"
   ]
  },
  {
   "cell_type": "code",
   "execution_count": 11,
   "metadata": {},
   "outputs": [],
   "source": [
    "# Implement growth model of Kirkpatrick eqn 17\n",
    "# Hc is latent heat\n",
    "# Tl is liquidus\n",
    "# eta is dynamic viscosity in Pa.s\n",
    "def kirk_growth17(dT,Tl,eta,r):\n",
    "    kB = 1.380649e-23 #J/K\n",
    "    Rg = 8.314462\n",
    "    f  = 1\n",
    "    hf = 0.976e10\n",
    "    Y  = (f * kB) / (3.0 * np.pi * r**2 * eta) * (hf * dT) / (Rg * Tl)\n",
    "    return Y"
   ]
  },
  {
   "cell_type": "code",
   "execution_count": 12,
   "metadata": {},
   "outputs": [],
   "source": [
    "hf = 0.976e10 # From Dario\n",
    "dT = 1.0      # 1 K undercooling\n",
    "Tl = 6500.0   # Melting T of pure iron, high value\n",
    "Tm_FeO = 5600.0\n",
    "dT     = 200.0\n",
    "tI     = np.zeros(len(r))\n",
    "\n",
    "j = 0\n",
    "for i in r:\n",
    "    G = kirk_growth14(dT,Tm_FeO,0.01,i)\n",
    "    tI[j] = i/G/secinyr\n",
    "    j = j + 1"
   ]
  },
  {
   "cell_type": "code",
   "execution_count": null,
   "metadata": {},
   "outputs": [],
   "source": []
  }
 ],
 "metadata": {
  "kernelspec": {
   "display_name": "Python 3",
   "language": "python",
   "name": "python3"
  },
  "language_info": {
   "codemirror_mode": {
    "name": "ipython",
    "version": 3
   },
   "file_extension": ".py",
   "mimetype": "text/x-python",
   "name": "python",
   "nbconvert_exporter": "python",
   "pygments_lexer": "ipython3",
   "version": "3.7.6"
  }
 },
 "nbformat": 4,
 "nbformat_minor": 2
}
