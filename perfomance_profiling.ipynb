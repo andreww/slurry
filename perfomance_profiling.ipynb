{
 "cells": [
  {
   "cell_type": "code",
   "execution_count": 1,
   "id": "a77d40f3",
   "metadata": {},
   "outputs": [],
   "source": [
    "import flayer\n",
    "import particle_evolution"
   ]
  },
  {
   "cell_type": "code",
   "execution_count": 2,
   "id": "c07966e9",
   "metadata": {
    "scrolled": true
   },
   "outputs": [
    {
     "name": "stderr",
     "output_type": "stream",
     "text": [
      "/Users/andreww/miniforge3/envs/py39/lib/python3.9/site-packages/numpy/lib/function_base.py:2197: RuntimeWarning: invalid value encountered in find_liquidus (vectorized)\n",
      "  outputs = ufunc(*inputs)\n"
     ]
    },
    {
     "name": "stdout",
     "output_type": "stream",
     "text": [
      "\n",
      "ODE solved for all nuclation depths... calculating integrals over nuclation depth for inner core growth\n",
      "Inner core growth rate: 1.0664523290640283e-13 m/s\n",
      "Inner core growth rate: 0.0033631640649363194 km/Myr (or mm/yr)\n",
      "\n",
      "ODE solved for all nuclation depths... calculating integrals over nuclation depth for inner core growth\n",
      "Inner core growth rate: 1.0638616595908153e-13 m/s\n",
      "Inner core growth rate: 0.003354994129685595 km/Myr (or mm/yr)\n",
      "Ar r = 1222250.0 m, particle density =  0.015399449549960045 per m^3, calculated seperation radius =  2.493458040896303 m\n",
      "Ar r = 1244361.111111111 m, particle density =  0.00106711648110103 per m^3, calculated seperation radius =  6.07062194825445 m\n",
      "Ar r = 1266472.2222222222 m, particle density =  0.001039868397567062 per m^3, calculated seperation radius =  6.12318907880827 m\n",
      "Ar r = 1288583.3333333333 m, particle density =  0.0010174583112160225 per m^3, calculated seperation radius =  6.167818552815999 m\n",
      "Ar r = 1310694.4444444445 m, particle density =  0.001001098206443532 per m^3, calculated seperation radius =  6.201235660505743 m\n",
      "Ar r = 1332805.5555555555 m, particle density =  0.0009999387277190369 per m^3, calculated seperation radius =  6.203631615134998 m\n",
      "Ar r = 1354916.6666666667 m, particle density =  0.0010270332012107326 per m^3, calculated seperation radius =  6.148591435065549 m\n",
      "Ar r = 1377027.7777777778 m, particle density =  0.0010954067005227725 per m^3, calculated seperation radius =  6.017905068291726 m\n",
      "Ar r = 1399138.888888889 m, particle density =  0.0012889493444978417 per m^3, calculated seperation radius =  5.7002230097745406 m\n",
      "Ar r = 1421250.0 m, particle density =  0.0 per m^3, calculated seperation radius =  inf m\n",
      "\n",
      "ODE solved for all nuclation depths... calculating integrals over nuclation depth for inner core growth\n",
      "Inner core growth rate: 1.0638616595908153e-13 m/s\n",
      "Inner core growth rate: 0.003354994129685595 km/Myr (or mm/yr)\n",
      " "
     ]
    }
   ],
   "source": [
    "%prun analysis_radii, particle_densities, seperation, solid_vf, \\\n",
    "    particle_radius_unnormalised, particle_radius_histogram, \\\n",
    "    growth_rate = flayer.flayer_case(200.0E3, 10.0, 0.95, 0.95, 1.0E-8, 150.0, 1.0E-9, 1.0E-6, 10, 10)"
   ]
  },
  {
   "cell_type": "code",
   "execution_count": 3,
   "id": "2d66af1f",
   "metadata": {},
   "outputs": [
    {
     "name": "stdout",
     "output_type": "stream",
     "text": [
      " "
     ]
    }
   ],
   "source": [
    "start_time = 0.0\n",
    "max_time = 1.0E8\n",
    "initial_particle_size = 1.0E-8\n",
    "initial_particle_position = 200.0 * 1000.0\n",
    "radius_inner_core = 0.1\n",
    "xl = 0.95\n",
    "t = 5000.0\n",
    "p = 330.0\n",
    "g = 5.0\n",
    "k0 = 150.0 # growth rate prefactor, m/s\n",
    "dl = 1.0E-9 # diffusion\n",
    "mu = 1.0e-6 # kinematic viscosity\n",
    "\n",
    "%prun sol = particle_evolution.falling_growing_particle_solution(start_time, max_time, initial_particle_size,\\\n",
    "                                                                 initial_particle_position, xl, t, p, dl, k0,\\\n",
    "                                                                 g, mu, radius_inner_core, analysis_radii=None)"
   ]
  },
  {
   "cell_type": "code",
   "execution_count": null,
   "id": "7c8a3bc2",
   "metadata": {},
   "outputs": [],
   "source": []
  }
 ],
 "metadata": {
  "kernelspec": {
   "display_name": "Python 3 (ipykernel)",
   "language": "python",
   "name": "python3"
  },
  "language_info": {
   "codemirror_mode": {
    "name": "ipython",
    "version": 3
   },
   "file_extension": ".py",
   "mimetype": "text/x-python",
   "name": "python",
   "nbconvert_exporter": "python",
   "pygments_lexer": "ipython3",
   "version": "3.9.7"
  }
 },
 "nbformat": 4,
 "nbformat_minor": 5
}
