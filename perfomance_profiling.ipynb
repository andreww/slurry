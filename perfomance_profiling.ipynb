{
 "cells": [
  {
   "cell_type": "code",
   "execution_count": 1,
   "id": "a77d40f3",
   "metadata": {},
   "outputs": [],
   "source": [
    "import flayer\n",
    "import particle_evolution"
   ]
  },
  {
   "cell_type": "code",
   "execution_count": 2,
   "id": "c07966e9",
   "metadata": {
    "scrolled": true
   },
   "outputs": [
    {
     "name": "stderr",
     "output_type": "stream",
     "text": [
      "/Users/andreww/miniforge3/envs/py39/lib/python3.9/site-packages/numpy/lib/function_base.py:2197: RuntimeWarning: invalid value encountered in find_liquidus (vectorized)\n",
      "  outputs = ufunc(*inputs)\n",
      "/Users/andreww/Code/slurry/feo_thermodynamics.py:137: NumbaWarning: \n",
      "Compilation is falling back to object mode WITH looplifting enabled because Function \"solid_free_energies\" failed type inference due to: Invalid use of type(CPUDispatcher(<function end_member_free_energy at 0x1353c90d0>)) with parameters (array(float64, 0d, C), array(float64, 0d, C), float64, float64, float64, float64, float64, float64, float64, float64, float64, float64, float64, float64)\n",
      "Known signatures:\n",
      " * (float64, float64, float64, float64, float64, float64, float64, float64, float64, float64, float64, float64, float64, float64) -> float64\n",
      "During: resolving callee type: type(CPUDispatcher(<function end_member_free_energy at 0x1353c90d0>))\n",
      "During: typing of call at /Users/andreww/Code/slurry/feo_thermodynamics.py (151)\n",
      "\n",
      "\n",
      "File \"feo_thermodynamics.py\", line 151:\n",
      "def solid_free_energies(x_fe, p, t):\n",
      "    <source elided>\n",
      "    \"\"\"\n",
      "    g_feo = thermodynamic_model.end_member_free_energy(p, t, feo_solid_a, feo_solid_b, feo_solid_c, \n",
      "    ^\n",
      "\n",
      "  @numba.jit\n",
      "/Users/andreww/miniforge3/envs/py39/lib/python3.9/site-packages/numba/core/object_mode_passes.py:151: NumbaWarning: Function \"solid_free_energies\" was compiled in object mode without forceobj=True.\n",
      "\n",
      "File \"feo_thermodynamics.py\", line 138:\n",
      "@numba.jit\n",
      "def solid_free_energies(x_fe, p, t):\n",
      "^\n",
      "\n",
      "  warnings.warn(errors.NumbaWarning(warn_msg,\n",
      "/Users/andreww/miniforge3/envs/py39/lib/python3.9/site-packages/numba/core/object_mode_passes.py:161: NumbaDeprecationWarning: \n",
      "Fall-back from the nopython compilation path to the object mode compilation path has been detected, this is deprecated behaviour.\n",
      "\n",
      "For more information visit https://numba.pydata.org/numba-doc/latest/reference/deprecation.html#deprecation-of-object-mode-fall-back-behaviour-when-using-jit\n",
      "\n",
      "File \"feo_thermodynamics.py\", line 138:\n",
      "@numba.jit\n",
      "def solid_free_energies(x_fe, p, t):\n",
      "^\n",
      "\n",
      "  warnings.warn(errors.NumbaDeprecationWarning(msg,\n",
      "/Users/andreww/Code/slurry/feo_thermodynamics.py:163: NumbaWarning: \n",
      "Compilation is falling back to object mode WITH looplifting enabled because Function \"fe_liquid_chemical_potential\" failed type inference due to: Invalid use of type(CPUDispatcher(<function chemical_potential at 0x1353c9790>)) with parameters (array(float64, 0d, C), array(float64, 0d, C), array(float64, 0d, C), float64, float64, float64, float64, float64, float64, float64, float64, float64, float64, float64, float64)\n",
      "Known signatures:\n",
      " * (float64, float64, float64, float64, float64, float64, float64, float64, float64, float64, float64, float64, float64, float64, float64) -> float64\n",
      "During: resolving callee type: type(CPUDispatcher(<function chemical_potential at 0x1353c9790>))\n",
      "During: typing of call at /Users/andreww/Code/slurry/feo_thermodynamics.py (177)\n",
      "\n",
      "\n",
      "File \"feo_thermodynamics.py\", line 177:\n",
      "def fe_liquid_chemical_potential(x_fe, p, t):\n",
      "    <source elided>\n",
      "    \"\"\"\n",
      "    return thermodynamic_model.chemical_potential(x_fe, p, t, fe_liquid_a, fe_liquid_b, fe_liquid_c, \n",
      "    ^\n",
      "\n",
      "  @numba.jit\n",
      "/Users/andreww/miniforge3/envs/py39/lib/python3.9/site-packages/numba/core/object_mode_passes.py:151: NumbaWarning: Function \"fe_liquid_chemical_potential\" was compiled in object mode without forceobj=True.\n",
      "\n",
      "File \"feo_thermodynamics.py\", line 164:\n",
      "@numba.jit\n",
      "def fe_liquid_chemical_potential(x_fe, p, t):\n",
      "^\n",
      "\n",
      "  warnings.warn(errors.NumbaWarning(warn_msg,\n",
      "/Users/andreww/miniforge3/envs/py39/lib/python3.9/site-packages/numba/core/object_mode_passes.py:161: NumbaDeprecationWarning: \n",
      "Fall-back from the nopython compilation path to the object mode compilation path has been detected, this is deprecated behaviour.\n",
      "\n",
      "For more information visit https://numba.pydata.org/numba-doc/latest/reference/deprecation.html#deprecation-of-object-mode-fall-back-behaviour-when-using-jit\n",
      "\n",
      "File \"feo_thermodynamics.py\", line 164:\n",
      "@numba.jit\n",
      "def fe_liquid_chemical_potential(x_fe, p, t):\n",
      "^\n",
      "\n",
      "  warnings.warn(errors.NumbaDeprecationWarning(msg,\n"
     ]
    },
    {
     "name": "stdout",
     "output_type": "stream",
     "text": [
      "r = 1221500.0 I =  9.59812760734477e-11\n",
      "r = 1243722.2222222222 I =  9.517173874163476e-11\n",
      "r = 1265944.4444444445 I =  9.40472164214072e-11\n",
      "r = 1288166.6666666667 I =  9.197128369021696e-11\n",
      "r = 1310388.888888889 I =  8.916959011251627e-11\n",
      "r = 1332611.111111111 I =  8.433363370956863e-11\n",
      "r = 1354833.3333333333 I =  7.524614463379354e-11\n",
      "r = 1377055.5555555555 I =  5.0290602627513404e-11\n",
      "r = 1399277.7777777778 I =  7.05970091673082e-12\n",
      "r = 1421500.0 I =  0.0\n",
      "Skipping this solution as no crystals form\n",
      "\n",
      "ODE solved for all nuclation depths... calculating integrals over nuclation depth for inner core growth\n",
      "Inner core growth rate: 6.300269153536883e-10 m/s\n",
      "Inner core growth rate: 19.868528802593914 km/Myr (or mm/yr)\n",
      "Skipping this solution as no crystals form\n",
      "\n",
      "ODE solved for all nuclation depths... calculating integrals over nuclation depth for inner core growth\n",
      "Inner core growth rate: 6.180077789735676e-10 m/s\n",
      "Inner core growth rate: 19.489493317710426 km/Myr (or mm/yr)\n",
      "Ar r = 1221500.0 m, particle density =  0.0 per m^3, calculated seperation radius =  inf m\n",
      "Ar r = 1243722.2222222222 m, particle density =  4335.672181055997 per m^3, calculated seperation radius =  0.03804389586767133 m\n",
      "Ar r = 1265944.4444444445 m, particle density =  4633.546277355928 per m^3, calculated seperation radius =  0.03721053909039707 m\n",
      "Ar r = 1288166.6666666667 m, particle density =  5108.975879617464 per m^3, calculated seperation radius =  0.03601851854272394 m\n",
      "Ar r = 1310388.888888889 m, particle density =  5375.138100758646 per m^3, calculated seperation radius =  0.0354139134277846 m\n",
      "Ar r = 1332611.111111111 m, particle density =  5627.222472725632 per m^3, calculated seperation radius =  0.03487699842869589 m\n",
      "Ar r = 1354833.3333333333 m, particle density =  5827.242789335777 per m^3, calculated seperation radius =  0.03447329209410007 m\n",
      "Ar r = 1377055.5555555555 m, particle density =  4790.142931625356 per m^3, calculated seperation radius =  0.03680054971726852 m\n",
      "Ar r = 1399277.7777777778 m, particle density =  993.8430539791639 per m^3, calculated seperation radius =  0.06216288967128023 m\n",
      "Ar r = 1421500.0 m, particle density =  0.0 per m^3, calculated seperation radius =  inf m\n",
      "\n",
      "ODE solved for all nuclation depths... calculating integrals over nuclation depth for inner core growth\n",
      "Inner core growth rate: 6.180077789735676e-10 m/s\n",
      "Inner core growth rate: 19.489493317710426 km/Myr (or mm/yr)\n",
      " "
     ]
    }
   ],
   "source": [
    "%prun analysis_radii, particle_densities, seperation, solid_vf, \\\n",
    "    particle_radius_unnormalised, particle_radius_histogram, \\\n",
    "    growth_rate = flayer.flayer_case(200.0E3, 10.0, 0.95, 0.95, 1.0E-8, 150.0, 1.0E-9, 1.0E-6, 1.0E-10, 1.0E-2, 10)"
   ]
  },
  {
   "cell_type": "code",
   "execution_count": 3,
   "id": "2d66af1f",
   "metadata": {},
   "outputs": [
    {
     "name": "stdout",
     "output_type": "stream",
     "text": [
      " "
     ]
    }
   ],
   "source": [
    "start_time = 0.0\n",
    "max_time = 1.0E8\n",
    "initial_particle_size = 1.0E-8\n",
    "initial_particle_position = 200.0 * 1000.0\n",
    "radius_inner_core = 0.1\n",
    "xl = 0.95\n",
    "t = 5000.0\n",
    "p = 330.0\n",
    "g = 5.0\n",
    "k0 = 150.0 # growth rate prefactor, m/s\n",
    "dl = 1.0E-9 # diffusion\n",
    "mu = 1.0e-6 # kinematic viscosity\n",
    "\n",
    "%prun sol = particle_evolution.falling_growing_particle_solution(start_time, max_time, initial_particle_size,\\\n",
    "                                                                 initial_particle_position, xl, t, p, dl, k0,\\\n",
    "                                                                 g, mu, radius_inner_core, analysis_radii=None)"
   ]
  },
  {
   "cell_type": "code",
   "execution_count": null,
   "id": "0b7dc436",
   "metadata": {},
   "outputs": [],
   "source": []
  }
 ],
 "metadata": {
  "kernelspec": {
   "display_name": "Python 3 (ipykernel)",
   "language": "python",
   "name": "python3"
  },
  "language_info": {
   "codemirror_mode": {
    "name": "ipython",
    "version": 3
   },
   "file_extension": ".py",
   "mimetype": "text/x-python",
   "name": "python",
   "nbconvert_exporter": "python",
   "pygments_lexer": "ipython3",
   "version": "3.9.7"
  }
 },
 "nbformat": 4,
 "nbformat_minor": 5
}
