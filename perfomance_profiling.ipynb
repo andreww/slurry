{
 "cells": [
  {
   "cell_type": "code",
   "execution_count": 1,
   "id": "a77d40f3",
   "metadata": {},
   "outputs": [],
   "source": [
    "import flayer"
   ]
  },
  {
   "cell_type": "code",
   "execution_count": 2,
   "id": "c07966e9",
   "metadata": {},
   "outputs": [
    {
     "name": "stderr",
     "output_type": "stream",
     "text": [
      "/Users/andrewwalker/miniforge3/envs/py39/lib/python3.9/site-packages/numpy/lib/function_base.py:2197: RuntimeWarning: invalid value encountered in find_liquidus (vectorized)\n",
      "  outputs = ufunc(*inputs)\n"
     ]
    },
    {
     "name": "stdout",
     "output_type": "stream",
     "text": [
      "ODE solved for all nuclation depths... calculating integrals over nuclation depth for particle density\n",
      "\n",
      "ODE solved for all nuclation depths... calculating integrals over nuclation depth for inner core growth\n",
      "Inner core growth rate: 1.0652355594958525e-13 m/s\n",
      "Inner core growth rate: 105939731.87039815 km/Myr (or mm/yr)\n",
      "ODE solved for all nuclation depths... calculating integrals over nuclation depth for particle density\n",
      "\n",
      "ODE solved for all nuclation depths... calculating integrals over nuclation depth for inner core growth\n",
      "Inner core growth rate: 1.0662351379316233e-13 m/s\n",
      "Inner core growth rate: 106039141.87462209 km/Myr (or mm/yr)\n",
      "Ar r = 1222250.0 m, particle density =  0.015393314878215264 per m^3, calculated seperation radius =  2.493789234775496 m\n",
      "Ar r = 1244361.111111111 m, particle density =  0.0010671212952344203 per m^3, calculated seperation radius =  6.070612819386626 m\n",
      "Ar r = 1266472.2222222222 m, particle density =  0.0010402595755275683 per m^3, calculated seperation radius =  6.122421463695271 m\n",
      "Ar r = 1288583.3333333333 m, particle density =  0.0010174318036616026 per m^3, calculated seperation radius =  6.167872116558721 m\n",
      "Ar r = 1310694.4444444445 m, particle density =  0.0010011202280892316 per m^3, calculated seperation radius =  6.201190190637053 m\n",
      "Ar r = 1332805.5555555555 m, particle density =  0.0009991286621818106 per m^3, calculated seperation radius =  6.205307739155677 m\n",
      "Ar r = 1354916.6666666667 m, particle density =  0.0010273546154330288 per m^3, calculated seperation radius =  6.147950159945318 m\n",
      "Ar r = 1377027.7777777778 m, particle density =  0.0010956781089608409 per m^3, calculated seperation radius =  6.017408132472812 m\n",
      "Ar r = 1399138.888888889 m, particle density =  0.001288949344489094 per m^3, calculated seperation radius =  5.700223009787435 m\n",
      "Ar r = 1421250.0 m, particle density =  0.0 per m^3, calculated seperation radius =  inf m\n",
      "\n",
      "ODE solved for all nuclation depths... calculating integrals over nuclation depth for inner core growth\n",
      "Inner core growth rate: 1.0662351379316233e-13 m/s\n",
      "Inner core growth rate: 106039141.87462209 km/Myr (or mm/yr)\n",
      " "
     ]
    }
   ],
   "source": [
    "%prun analysis_radii, particle_densities, seperation, solid_vf, \\\n",
    "    particle_radius_unnormalised, particle_radius_histogram, \\\n",
    "    growth_rate = flayer.flayer_case(200.0E3, 10.0, 0.95, 0.95, 1.0E-8, 150.0, 1.0E-9, 1.0E-6, 10, 10)"
   ]
  },
  {
   "cell_type": "code",
   "execution_count": null,
   "id": "2d66af1f",
   "metadata": {},
   "outputs": [],
   "source": []
  }
 ],
 "metadata": {
  "kernelspec": {
   "display_name": "Python 3 (ipykernel)",
   "language": "python",
   "name": "python3"
  },
  "language_info": {
   "codemirror_mode": {
    "name": "ipython",
    "version": 3
   },
   "file_extension": ".py",
   "mimetype": "text/x-python",
   "name": "python",
   "nbconvert_exporter": "python",
   "pygments_lexer": "ipython3",
   "version": "3.9.7"
  }
 },
 "nbformat": 4,
 "nbformat_minor": 5
}
