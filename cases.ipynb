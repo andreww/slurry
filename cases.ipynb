{
 "cells": [
  {
   "cell_type": "code",
   "execution_count": 4,
   "id": "377f26f8",
   "metadata": {},
   "outputs": [],
   "source": [
    "import pandas as pd\n",
    "import numpy as np\n",
    "import matplotlib.pyplot as plt\n",
    "%matplotlib inline\n",
    "\n",
    "import flayer"
   ]
  },
  {
   "cell_type": "code",
   "execution_count": null,
   "id": "e28cdcb7",
   "metadata": {},
   "outputs": [],
   "source": [
    "input_columns = [\"F-layer thickness\", \"ICB delta T\", \"Gruneisen parameter\", \"XFe top\", \n",
    "                 \"XFe ICB\", \"Nucleation rate\", \"Initial radius\", \"Chemical diffusivity\",\n",
    "                 \n",
    "                ]"
   ]
  },
  {
   "cell_type": "code",
   "execution_count": 7,
   "id": "deff0432",
   "metadata": {},
   "outputs": [
    {
     "data": {
      "text/html": [
       "<div>\n",
       "<style scoped>\n",
       "    .dataframe tbody tr th:only-of-type {\n",
       "        vertical-align: middle;\n",
       "    }\n",
       "\n",
       "    .dataframe tbody tr th {\n",
       "        vertical-align: top;\n",
       "    }\n",
       "\n",
       "    .dataframe thead th {\n",
       "        text-align: right;\n",
       "    }\n",
       "</style>\n",
       "<table border=\"1\" class=\"dataframe\">\n",
       "  <thead>\n",
       "    <tr style=\"text-align: right;\">\n",
       "      <th></th>\n",
       "      <th>1</th>\n",
       "    </tr>\n",
       "  </thead>\n",
       "  <tbody>\n",
       "    <tr>\n",
       "      <th>1</th>\n",
       "      <td>[5, 6, 7, 8]</td>\n",
       "    </tr>\n",
       "    <tr>\n",
       "      <th>2</th>\n",
       "      <td>[[5, 6], [7, 8]]</td>\n",
       "    </tr>\n",
       "  </tbody>\n",
       "</table>\n",
       "</div>"
      ],
      "text/plain": [
       "                  1\n",
       "1      [5, 6, 7, 8]\n",
       "2  [[5, 6], [7, 8]]"
      ]
     },
     "execution_count": 7,
     "metadata": {},
     "output_type": "execute_result"
    }
   ],
   "source": [
    "df = pd.DataFrame(columns=input_columns)\n",
    "df[1] = df[1].astype(object)\n",
    "df.loc[1, 1] = np.array([5, 6, 7, 8])\n",
    "df.loc[2, 1] = np.array([[5, 6], [7, 8]])\n",
    "df"
   ]
  },
  {
   "cell_type": "code",
   "execution_count": 8,
   "id": "b1b52c63",
   "metadata": {},
   "outputs": [],
   "source": [
    "a = df.loc[2, 1]"
   ]
  },
  {
   "cell_type": "code",
   "execution_count": 9,
   "id": "f8daf955",
   "metadata": {},
   "outputs": [
    {
     "data": {
      "text/plain": [
       "array([[5, 6],\n",
       "       [7, 8]])"
      ]
     },
     "execution_count": 9,
     "metadata": {},
     "output_type": "execute_result"
    }
   ],
   "source": [
    "a"
   ]
  },
  {
   "cell_type": "code",
   "execution_count": 1,
   "id": "14f66a80",
   "metadata": {},
   "outputs": [],
   "source": [
    "import tables"
   ]
  },
  {
   "cell_type": "code",
   "execution_count": 4,
   "id": "4497df84",
   "metadata": {},
   "outputs": [],
   "source": [
    "class Case(tables.IsDescription):\n",
    "    # Input\n",
    "    layer_thickness = tables.Float32Col()\n",
    "    icb_dt = tables.Float32Col()\n",
    "    gruneisen_param = tables.Float32Col()\n",
    "    xfe_top = tables.Float32Col()\n",
    "    xfe_icb = tables.Float32Col()\n",
    "    nucleation_rate = tables.Float32Col()\n",
    "    initial_radius = tables.Float32Col()\n",
    "    chemical_diffusivity = tables.Float32Col()\n",
    "    growth_prefac = tables.Float32Col()\n",
    "    kinematic_viscosity = tables.Float32Col()\n",
    "    # Output\n",
    "    analysis_radii, particle_densities, calculated_seperation, solid_vf, \\\n",
    "        particle_radius_unnormalised, particle_radius_histogram, growth_rate\n",
    "\n"
   ]
  },
  {
   "cell_type": "code",
   "execution_count": 5,
   "id": "75c4aad1",
   "metadata": {},
   "outputs": [],
   "source": [
    "import csv"
   ]
  },
  {
   "cell_type": "code",
   "execution_count": 6,
   "id": "de1dd7e9",
   "metadata": {},
   "outputs": [],
   "source": [
    "input_fieldnames = [\"layer_thickness\", \"icb_dt\", \"gruneisen_param\", \n",
    "    \"xfe_top\", \"xfe_icb\", \"nucleation_rate\", \"initial_radius\", \n",
    "    \"chemical_diffusivity\", \"growth_prefac\", \"kinematic_viscosity\",\n",
    "    \"num_nucleation_points\", \"num_analysis_points\"]"
   ]
  },
  {
   "cell_type": "code",
   "execution_count": 7,
   "id": "d887021a",
   "metadata": {},
   "outputs": [],
   "source": [
    "base_case = {\"layer_thickness\": 10, \n",
    "             \"icb_dt\": 10, \n",
    "             \"gruneisen_param\": 10, \n",
    "             \"xfe_top\": 10, \n",
    "             \"xfe_icb\": 10, \n",
    "             \"nucleation_rate\": 10, \n",
    "             \"initial_radius\": 10, \n",
    "             \"chemical_diffusivity\": 10,\n",
    "             \"growth_prefac\": 10,\n",
    "             \"kinematic_viscosity\": 10,\n",
    "             \"num_nucleation_points\": 10,\n",
    "             \"num_analysis_points\": 10}"
   ]
  },
  {
   "cell_type": "code",
   "execution_count": 8,
   "id": "0157a258",
   "metadata": {},
   "outputs": [],
   "source": [
    "with open('input.csv', 'w') as csvfile:\n",
    "    writer = csv.DictWriter(csvfile, fieldnames=input_fieldnames)\n",
    "\n",
    "    writer.writeheader()\n",
    "    writer.writerow(base_case)"
   ]
  },
  {
   "cell_type": "code",
   "execution_count": 14,
   "id": "88e33ddb",
   "metadata": {},
   "outputs": [
    {
     "name": "stdout",
     "output_type": "stream",
     "text": [
      "10\n"
     ]
    }
   ],
   "source": [
    "with open('input.csv') as csvfile:\n",
    "    reader = csv.DictReader(csvfile)\n",
    "    assert reader.fieldnames == input_fieldnames, \"CSV format error\"\n",
    "    for row in reader:\n",
    "        print(row[\"icb_dt\"])"
   ]
  },
  {
   "cell_type": "code",
   "execution_count": 11,
   "id": "5311e39c",
   "metadata": {},
   "outputs": [
    {
     "name": "stdout",
     "output_type": "stream",
     "text": [
      "layer_thickness,icb_dt,gruneisen_param,xfe_top,xfe_icb,nucleation_rate,initial_radius,chemical_diffusivity,growth_prefac,kinematic_viscosity,num_nucleation_points,num_analysis_points\r",
      "\r\n",
      "10,10,10,10,10,10,10,10,10,10,10,10\r",
      "\r\n"
     ]
    }
   ],
   "source": [
    "!cat input.csv"
   ]
  },
  {
   "cell_type": "code",
   "execution_count": 15,
   "id": "09456479",
   "metadata": {},
   "outputs": [],
   "source": [
    "output_fieldnames = [\"solid_vf_\", \"particle_radius_unnormalised\", \"particle_radius_histogram\", \n",
    "                     \"growth_rate\"]"
   ]
  },
  {
   "cell_type": "code",
   "execution_count": null,
   "id": "7746c9d9",
   "metadata": {},
   "outputs": [],
   "source": []
  }
 ],
 "metadata": {
  "kernelspec": {
   "display_name": "Python 3 (ipykernel)",
   "language": "python",
   "name": "python3"
  },
  "language_info": {
   "codemirror_mode": {
    "name": "ipython",
    "version": 3
   },
   "file_extension": ".py",
   "mimetype": "text/x-python",
   "name": "python",
   "nbconvert_exporter": "python",
   "pygments_lexer": "ipython3",
   "version": "3.9.7"
  }
 },
 "nbformat": 4,
 "nbformat_minor": 5
}
