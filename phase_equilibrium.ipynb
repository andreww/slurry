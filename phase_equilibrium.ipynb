{
 "cells": [
  {
   "cell_type": "markdown",
   "metadata": {},
   "source": [
    "# Calculation of phase equilbrium\n",
    "\n",
    "This notebook outlines how to calculate phase equilbrium in the slurry zone. We assume a\n",
    "two component system (Fe and O) with one or two phases (solid and/or liquid). The idea is\n",
    "quite general and could cope with more than one solid phase and more than two components. I'll\n",
    "try and point out any assumptions as I go. This is all based on the `two_phase_phase_transition`\n",
    "notebook from LEMA's `common_tangent` branch. That needs cleaning up and merging properly!"
   ]
  },
  {
   "cell_type": "markdown",
   "metadata": {},
   "source": [
    "As input, we assume we know the free energy of the solid and liquid phases,\n",
    "as a function of pressure, $P$, temperature $T$, and oxygen content, $x$. The total free energy\n",
    "of a mixture of solid and liquid is then given by:\n",
    "\n",
    "$$G(P,T,X) = \\phi G_s(P,T,x_s) + (1 - \\phi) G_l(P,T,x_l)$$\n",
    "\n",
    "where $G_s$ is the free energy of the solid $G_l$ is the free\n",
    "energy of the liquid, and $\\phi$ is the fraction of the material that is solid. Here we assume that\n",
    "the temperature and pressure of the two phases is equal, and we neglect surface energy or any\n",
    "contribution from the way the solid is arranged in the liquid (or vice versa). We allow the composition\n",
    "of the solid and liquid to be different.\n",
    "\n",
    "At (phase) equilbrium, the volume fraction is fixed (solids neither grow or dissolve) because \n",
    "the free energy\n",
    "is at a minimim. There are three cases: liquid only at temperatures above the liquidus, solid only\n",
    "at temperatures below the solidus, and a two phase region inbetween that only exists if $X > 0$.\n",
    "\n",
    "Inside the two phase region, the free energy of the mixture is lower than the free energy\n",
    "of either phase with the same overall composition. The two-phase region can be found by \n",
    "constructing the common tangent of two free energy curves, the two phase mixture is in\n",
    "equilibrium between the two points where tangent touches the free energy curves. However,\n",
    "we will avoid this graphical solution and proceed numerically.\n",
    "\n",
    "Assuming we have functions for $G_s(P,T,x_s)$ and $G_l(P,T,x_l)$, (see below) we can find\n",
    "$x_s$, $x_l$ and $\\phi$ by minimising the free energy of the system subject to the constraint\n",
    "that the solid and liquid phases are in equilibrium (that is, they have the same chemical potential):\n",
    "\n",
    "$$ \\frac{\\mathrm{d}G_s(P,T,x_s)}{\\mathrm{d}x}\\Bigr|_{x=x_s} = \n",
    "        \\frac{\\mathrm{d}G_l(P,T,x_l)}{\\mathrm{d}x}\\Bigr|_{x=x_l} $$\n",
    "        \n",
    "and that the total composition of the system, $X$, is fixed:\n",
    "\n",
    "$$ X = \\phi x_s + (1 - \\phi) x_l $$\n",
    "\n",
    "If we choose a value for $X$, a pressure, and a temperature that is inside the two phase region,\n",
    "minimising $G$ as a function $x_l$, $x_s$ and $\\phi$,  subject to these \n",
    "constraints will yield a description of the equilbrium assemblage. We can then use this to \n",
    "construct a phase diagram or the physical properties of the mixed phase region.\n",
    "\n",
    "In general this can turn out to be quite a nasty nonlinear constrained minimisation problem,\n",
    "but with reasonable initial guesses SciPy has tools that seem to work."
   ]
  },
  {
   "cell_type": "markdown",
   "metadata": {},
   "source": [
    "## Free energy of the solid and liquid\n",
    "\n",
    "So the key input for this is two functions, $G_s(P,T,x_s)$ and $G_l(P,T,x_l)$. It seems that\n",
    "a good starting point would be the case where the oxygen is the only impurity. For the solid with\n",
    "$x_s = 0$, Alfe et al. (2001) should have all the data we need. For the liquid with $x_l = 0$, \n",
    "Alfe et al. (2002a) should have all the data we need. To include oxygen we should be able to\n",
    "use data from Alfe et al. (2002b). However, as far as I can see the information is not easily \n",
    "available from these papers. Gubbins et al. used these results (with some extra information) to \n",
    "build a thermal evolution model with (2004) and wihout (2003) oxygen. They had free energies \n",
    "\"fitted to a simple functional form of volume and temperature\" (2003; after equation 75) and this\n",
    "functional form is a polynomial (2003; after equation 82). However, neither the polynomial or the\n",
    "coefficients seem to be provided in the paper. Instead, I'll try and cobble something together\n",
    "from the information that is given trying to make the sources of error clear.\n",
    "\n",
    "***See notes on back of purple paper printout***\n",
    "\n",
    "\n",
    "\n",
    "#### References\n",
    "\n",
    "D. Alfe, G. D. Price, and M. J. Gillan. Thermodynamics of hexagonal-close-packed iron under Earth’s core conditions. Physical Review B, 64, 2001.\n",
    "\n",
    "D. Alfe, G. D. Price, and M. J. Gillan. Iron under Earth’s core conditions: Liquid-state thermodynamics and high-pressure melting curve from ab initio calculations. Physical Review B, 65:165118, 2002a.\n",
    "\n",
    "D. Alfe, G. D. Price, and M. J. Gillan. ab initio chemical potentials of solid and liquid solutions and the chemistry of the Earth’s core. Journal of Chemical Physics, 116:7127 – 7136, 2002b.\n",
    "\n",
    "D. Gubbins, D. Alfe, G. Masters, G. D. Price, and M. J. Gillan. Can the earth’s dynamo run on heat alone? Geophysical Journal International, 115:609 – 622, 2003.\n",
    "\n",
    "D. Gubbins, D. Alfe, G. Masters, G. D. Price, and M. Gillan. Gross thermodynamics of two-component core convection. Geophysical Journal International, 157:1407 – 1414, 2004."
   ]
  },
  {
   "cell_type": "code",
   "execution_count": null,
   "metadata": {},
   "outputs": [],
   "source": [
    "def free_energy_solid(x_s, t, p):\n",
    "    \n",
    "def free_energy_liquid(x_l, t, p):"
   ]
  }
 ],
 "metadata": {
  "kernelspec": {
   "display_name": "Python 3",
   "language": "python",
   "name": "python3"
  },
  "language_info": {
   "codemirror_mode": {
    "name": "ipython",
    "version": 3
   },
   "file_extension": ".py",
   "mimetype": "text/x-python",
   "name": "python",
   "nbconvert_exporter": "python",
   "pygments_lexer": "ipython3",
   "version": "3.6.5"
  }
 },
 "nbformat": 4,
 "nbformat_minor": 2
}
