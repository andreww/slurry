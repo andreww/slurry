{
 "cells": [
  {
   "cell_type": "code",
   "execution_count": 1,
   "id": "5c428c4d-f297-4d9c-b39e-aa16f3925303",
   "metadata": {},
   "outputs": [],
   "source": [
    "import numpy as np\n",
    "import matplotlib.pyplot as plt\n",
    "%matplotlib inline\n",
    "\n",
    "import flayer\n",
    "import feo_thermodynamics as feot\n",
    "import earth_model\n",
    "import layer_setup"
   ]
  },
  {
   "cell_type": "code",
   "execution_count": 2,
   "id": "5e3b5cf5-c186-4f2e-ab29-9fa86e367e97",
   "metadata": {},
   "outputs": [],
   "source": [
    "# Flayer setup\n",
    "f_layer_thickness = 200_000 # m\n",
    "xfe_outer_core = 0.83 # mol frac Fe\n",
    "\n",
    "# Transport and growth properties\n",
    "growth_prefactor = 150.0 # (k0) m/s\n",
    "chemical_diffusivity = 1.0e-9\n",
    "thermal_conductivity = 100.0\n",
    "kinematic_viscosity = 1.0e-6\n",
    "\n",
    "# Nucleation\n",
    "i0 = 1.0e-10 # (I0) # s^-1m^-3\n",
    "surf_energy = 1.08e-2 # (gamma) J/m^2\n",
    "wetting_angle = 180.0 # degrees\n",
    "\n",
    "# Numerics\n",
    "number_of_analysis_points = 100\n",
    "number_of_knots = 5\n",
    "\n",
    "# Sensible defaults below\n",
    "hetrogeneous_radius=None\n",
    "r_icb=1221.5E3\n",
    "r_cmb=3480.0E3\n",
    "gruneisen_parameter=1.5\n",
    "start_time=0.0\n",
    "max_time=1.0E12\n",
    "max_rel_error=1.0E-5\n",
    "max_absolute_error=1.0E-8\n",
    "verbose=False\n",
    "\n",
    "k0 = 150.0\n",
    "dl = 1.0E-9\n",
    "k = 100.0\n",
    "mu = 1.0E-6\n",
    "i0 = 1.0E-10\n",
    "surf_energy = 1.08E-2\n",
    "wetting_angle = 180.0\n",
    "hetrogeneous_radius = None"
   ]
  },
  {
   "cell_type": "code",
   "execution_count": 3,
   "id": "020c4e52-768c-4e17-a136-b614fa9c832a",
   "metadata": {},
   "outputs": [
    {
     "name": "stderr",
     "output_type": "stream",
     "text": [
      "/Users/andreww/miniforge3/envs/py39/lib/python3.9/site-packages/numpy/lib/function_base.py:2411: RuntimeWarning: invalid value encountered in find_liquidus (vectorized)\n",
      "  outputs = ufunc(*inputs)\n"
     ]
    }
   ],
   "source": [
    "# Setup the f-layer\n",
    "\n",
    "# Derived radii\n",
    "r_flayer_top = r_icb + f_layer_thickness\n",
    "        \n",
    "# Discretisation points\n",
    "nucleation_radii = np.linspace(r_icb, r_flayer_top, number_of_analysis_points)\n",
    "analysis_radii = np.linspace(r_icb, r_flayer_top, number_of_analysis_points)\n",
    "knott_radii = np.linspace(r_icb, r_flayer_top, number_of_knots)\n",
    "\n",
    "# Reuse general layer setup code, but we don't need many of the functions\n",
    "# so we never need to rerun this (fairly expensive) function\n",
    "_, adiabatic_temperature_function, _, _, _, pressure_function, gravity_function, _ = layer_setup.setup_flayer_functions(\n",
    "    r_icb, r_cmb, f_layer_thickness, gruneisen_parameter, 10, xfe_outer_core, xfe_outer_core, knott_radii)"
   ]
  },
  {
   "cell_type": "code",
   "execution_count": 4,
   "id": "a2120422-1c46-496e-8df1-2fa8588b3a1d",
   "metadata": {},
   "outputs": [],
   "source": [
    "import collections\n",
    "\n",
    "cases_dict = collections.defaultdict(list)\n",
    "\n",
    "#cases_dict = {\"dt\": [], \"dx\": [], \"N2\": [], \"L\": [],\n",
    "#              \"dT_liq\", : [], \"dT_cond\", []}"
   ]
  },
  {
   "cell_type": "code",
   "execution_count": 5,
   "id": "806a5af2-d3d6-4d4b-b19f-654d6857bfb6",
   "metadata": {},
   "outputs": [
    {
     "name": "stdout",
     "output_type": "stream",
     "text": [
      "Dt = 60.0, delta_x = 0.015, BV freq = 0.00027691817599840305, dT_liq = 43.8485789195056, dT_cond = 128.15753496004254\n"
     ]
    },
    {
     "name": "stderr",
     "output_type": "stream",
     "text": [
      "/Users/andreww/Code/slurry/falling.py:186: RuntimeWarning: invalid value encountered in double_scalars\n",
      "  delta_u_prefac_low_fr = (fr/1.0e-2)**(-0.5)\n",
      "/Users/andreww/Code/slurry/falling.py:187: RuntimeWarning: invalid value encountered in double_scalars\n",
      "  delta_u_low_fr = delta_u_prefac_low_fr * (fr/re)**(0.5) * 2.0 * radius # above eq I3.11\n",
      "/Users/andreww/Code/slurry/falling.py:188: RuntimeWarning: invalid value encountered in double_scalars\n",
      "  delta_c_prefac_low_fr = (1.0E-2)**(1/6) * (1.0E-2*sc)**(1/3) * fr**(-1/6)\n",
      "/Users/andreww/Code/slurry/falling.py:189: RuntimeWarning: invalid value encountered in double_scalars\n",
      "  delta_c_low_fr = delta_c_prefac_low_fr * fr**(1/6) / (re**(1/6) * pe_c**(1/3)) * 2.0 * radius # eq I3.12\n"
     ]
    },
    {
     "name": "stdout",
     "output_type": "stream",
     "text": [
      "Radius 6486.196192330053 m capped to 2 m in falling\n",
      "Radius 6486.196192330053 m capped to 2 m in falling\n"
     ]
    },
    {
     "name": "stderr",
     "output_type": "stream",
     "text": [
      "/Users/andreww/Code/slurry/falling.py:65: UserWarning: Calculated Re 7.76677e+06 too high for drag / velocity parameterisation. Treat results with care\n",
      "  warnings.warn(\n",
      "/Users/andreww/Code/slurry/flayer.py:484: RuntimeWarning: invalid value encountered in divide\n",
      "  mean_particle_velocities[i] = np.mean((partial_densities * partial_velocities) /\n"
     ]
    },
    {
     "name": "stdout",
     "output_type": "stream",
     "text": [
      "Heat from crystalisation = 11.310519003261836 TW, oxygen = 0.0006426085916085519 Tg/s\n"
     ]
    },
    {
     "name": "stderr",
     "output_type": "stream",
     "text": [
      "/Users/andreww/miniforge3/envs/py39/lib/python3.9/site-packages/numpy/lib/function_base.py:2411: RuntimeWarning: invalid value encountered in find_liquidus (vectorized)\n",
      "  outputs = ufunc(*inputs)\n"
     ]
    },
    {
     "name": "stdout",
     "output_type": "stream",
     "text": [
      "Dt = 60.0, delta_x = 0.0125, BV freq = 0.00024896824988957623, dT_liq = 30.003030187085642, dT_cond = 128.15753496004254\n",
      "Heat from crystalisation = 1.2828302117573576 TW, oxygen = 7.389938467983869e-05 Tg/s\n",
      "Dt = 60.0, delta_x = 0.01, BV freq = 0.00021751172159045098, dT_liq = 16.19437922423458, dT_cond = 128.15753496004254\n",
      "Heat from crystalisation = 0.03290792538576255 TW, oxygen = 1.9233711090646593e-06 Tg/s\n",
      "Dt = 60.0, delta_x = 0.0075, BV freq = 0.00018072653271042745, dT_liq = 2.422297152403189, dT_cond = 128.15753496004254\n",
      "Heat from crystalisation = 4.4171184630688714e-15 TW, oxygen = 2.6199328524437903e-19 Tg/s\n",
      "Dt = 60.0, delta_x = 0.005, BV freq = 0.0001343030390188941, dT_liq = -11.313541396283654, dT_cond = 128.15753496004254\n",
      "Dt = 60.0, delta_x = 0.0025, BV freq = 5.862554406064197e-05, dT_liq = -25.013458336579788, dT_cond = 128.15753496004254\n",
      "Dt = 60.0, delta_x = 0.0, BV freq = 0.00010554169912917328j, dT_liq = -38.67777220179869, dT_cond = 128.15753496004254\n",
      "Dt = 60.0, delta_x = -0.0025, BV freq = 0.00016028344157404634j, dT_liq = -52.306798195993906, dT_cond = 128.15753496004254\n",
      "Dt = 60.0, delta_x = -0.005, BV freq = 0.00020054504063789772j, dT_liq = -65.90084825887334, dT_cond = 128.15753496004254\n",
      "Dt = 50.0, delta_x = 0.015, BV freq = 0.0002802638717563439, dT_liq = 53.84857891950742, dT_cond = 118.15753496004072\n",
      "Heat from crystalisation = 30.39452564882757 TW, oxygen = 0.0017285314798671922 Tg/s\n",
      "Dt = 50.0, delta_x = 0.0125, BV freq = 0.0002526818140910645, dT_liq = 40.00303018708746, dT_cond = 118.15753496004072\n",
      "Heat from crystalisation = 6.976954191858039 TW, oxygen = 0.0004022266352293592 Tg/s\n",
      "Dt = 50.0, delta_x = 0.01, BV freq = 0.00022174988272777963, dT_liq = 26.1943792242364, dT_cond = 118.15753496004072\n",
      "Radius 1902.7909991649224 m capped to 2 m in falling\n",
      "Radius 1902.7909991649224 m capped to 2 m in falling\n"
     ]
    },
    {
     "name": "stderr",
     "output_type": "stream",
     "text": [
      "/Users/andreww/Code/slurry/falling.py:65: UserWarning: Calculated Re 7.44311e+06 too high for drag / velocity parameterisation. Treat results with care\n",
      "  warnings.warn(\n"
     ]
    },
    {
     "name": "stdout",
     "output_type": "stream",
     "text": [
      "Heat from crystalisation = 0.588125481852424 TW, oxygen = 3.4383427183832266e-05 Tg/s\n",
      "Dt = 50.0, delta_x = 0.0075, BV freq = 0.00018580230473784782, dT_liq = 12.422297152405008, dT_cond = 118.15753496004072\n",
      "Heat from crystalisation = 0.0057726204217173815 TW, oxygen = 3.424054724064022e-07 Tg/s\n",
      "Dt = 50.0, delta_x = 0.005, BV freq = 0.00014105489027874127, dT_liq = -1.3135413962818347, dT_cond = 118.15753496004072\n",
      "Dt = 50.0, delta_x = 0.0025, BV freq = 7.276601366409063e-05, dT_liq = -15.013458336577969, dT_cond = 118.15753496004072\n",
      "Dt = 50.0, delta_x = 0.0, BV freq = 9.634493143099712e-05j, dT_liq = -28.67777220179687, dT_cond = 118.15753496004072\n",
      "Dt = 50.0, delta_x = -0.0025, BV freq = 0.00015438687617208154j, dT_liq = -42.30679819599209, dT_cond = 118.15753496004072\n",
      "Dt = 50.0, delta_x = -0.005, BV freq = 0.00019586747053740688j, dT_liq = -55.90084825887152, dT_cond = 118.15753496004072\n",
      "Dt = 40.0, delta_x = 0.015, BV freq = 0.0002835699574902474, dT_liq = 63.84857891950651, dT_cond = 108.15753496003981\n",
      "Heat from crystalisation = 59.33755419768064 TW, oxygen = 0.0033769181035547984 Tg/s\n",
      "Dt = 40.0, delta_x = 0.0125, BV freq = 0.0002563414330338286, dT_liq = 50.00303018708655, dT_cond = 108.15753496003981\n",
      "Heat from crystalisation = 22.294530138472616 TW, oxygen = 0.001286401005055753 Tg/s\n",
      "Dt = 40.0, delta_x = 0.01, BV freq = 0.00022590837386311853, dT_liq = 36.19437922423549, dT_cond = 108.15753496003981\n",
      "Heat from crystalisation = 4.0103212827725745 TW, oxygen = 0.00023457700315182993 Tg/s\n",
      "Dt = 40.0, delta_x = 0.0075, BV freq = 0.00019074284974981677, dT_liq = 22.4222971524041, dT_cond = 108.15753496003981\n",
      "Heat from crystalisation = 0.24453426569722309 TW, oxygen = 1.4506847399961483e-05 Tg/s\n",
      "Dt = 40.0, delta_x = 0.005, BV freq = 0.00014749772659738454, dT_liq = 8.686458603717256, dT_cond = 108.15753496003981\n",
      "Heat from crystalisation = 0.0004346608441259999 TW, oxygen = 2.6160016054761844e-08 Tg/s\n",
      "Dt = 40.0, delta_x = 0.0025, BV freq = 8.457394755261931e-05, dT_liq = -5.0134583365788785, dT_cond = 108.15753496003981\n",
      "Dt = 40.0, delta_x = 0.0, BV freq = 8.617261632145981e-05j, dT_liq = -18.67777220179778, dT_cond = 108.15753496003981\n",
      "Dt = 40.0, delta_x = -0.0025, BV freq = 0.0001482562370521228j, dT_liq = -32.306798195993, dT_cond = 108.15753496003981\n",
      "Dt = 40.0, delta_x = -0.005, BV freq = 0.00019107563180445884j, dT_liq = -45.90084825887243, dT_cond = 108.15753496003981\n",
      "Dt = 30.0, delta_x = 0.015, BV freq = 0.0002868378028454159, dT_liq = 73.84857891950651, dT_cond = 98.15753496004072\n",
      "Heat from crystalisation = 96.68520601669947 TW, oxygen = 0.005505157349748423 Tg/s\n",
      "Dt = 30.0, delta_x = 0.0125, BV freq = 0.0002599493850943348, dT_liq = 60.00303018708655, dT_cond = 98.15753496004072\n",
      "Heat from crystalisation = 47.8648420676282 TW, oxygen = 0.002763624698772408 Tg/s\n",
      "Dt = 30.0, delta_x = 0.01, BV freq = 0.00022999151660378726, dT_liq = 46.19437922423549, dT_cond = 98.15753496004072\n",
      "Radius 1625.4689654263238 m capped to 2 m in falling\n",
      "Radius 1625.4689654263238 m capped to 2 m in falling\n"
     ]
    },
    {
     "name": "stderr",
     "output_type": "stream",
     "text": [
      "/Users/andreww/Code/slurry/falling.py:65: UserWarning: Calculated Re 7.77409e+06 too high for drag / velocity parameterisation. Treat results with care\n",
      "  warnings.warn(\n"
     ]
    },
    {
     "name": "stdout",
     "output_type": "stream",
     "text": [
      "Heat from crystalisation = 15.546953099154786 TW, oxygen = 0.000910026979691505 Tg/s\n",
      "Dt = 30.0, delta_x = 0.0075, BV freq = 0.0001955584170657454, dT_liq = 32.4222971524041, dT_cond = 98.15753496004072\n",
      "Heat from crystalisation = 2.1304875790078626 TW, oxygen = 0.00012642935814337835 Tg/s\n",
      "Dt = 30.0, delta_x = 0.005, BV freq = 0.0001536704204934026, dT_liq = 18.686458603717256, dT_cond = 98.15753496004072\n",
      "Heat from crystalisation = 0.08345798640859997 TW, oxygen = 5.023264017735823e-06 Tg/s\n",
      "Dt = 30.0, delta_x = 0.0025, BV freq = 9.492383263427083e-05, dT_liq = 4.9865416634211215, dT_cond = 98.15753496004072\n",
      "Heat from crystalisation = 1.0871025483763629e-06 TW, oxygen = 6.63724411477459e-11 Tg/s\n",
      "Dt = 30.0, delta_x = 0.0, BV freq = 7.462688673283295e-05j, dT_liq = -8.67777220179778, dT_cond = 98.15753496004072\n",
      "Dt = 30.0, delta_x = -0.0025, BV freq = 0.00014186118041778072j, dT_liq = -22.306798195992997, dT_cond = 98.15753496004072\n",
      "Dt = 30.0, delta_x = -0.005, BV freq = 0.00018616070069531692j, dT_liq = -35.90084825887243, dT_cond = 98.15753496004072\n",
      "Dt = 20.0, delta_x = 0.015, BV freq = 0.00029006870025527384, dT_liq = 83.84857891950742, dT_cond = 88.15753496004072\n",
      "Heat from crystalisation = 141.4492957944445 TW, oxygen = 0.008056881024738867 Tg/s\n",
      "Dt = 20.0, delta_x = 0.0125, BV freq = 0.0002635077925622741, dT_liq = 70.00303018708746, dT_cond = 88.15753496004072\n",
      "Heat from crystalisation = 82.51167120399252 TW, oxygen = 0.004766309716883965 Tg/s\n",
      "Dt = 20.0, delta_x = 0.01, BV freq = 0.00023400325527629467, dT_liq = 56.1943792242364, dT_cond = 88.15753496004072\n",
      "Heat from crystalisation = 37.587297247665795 TW, oxygen = 0.0022014033980015607 Tg/s\n",
      "Dt = 20.0, delta_x = 0.0075, BV freq = 0.00020025802284814973, dT_liq = 42.42229715240501, dT_cond = 88.15753496004072\n",
      "Heat from crystalisation = 10.127541959814609 TW, oxygen = 0.0006012944054957936 Tg/s\n",
      "Dt = 20.0, delta_x = 0.005, BV freq = 0.0001596043183207003, dT_liq = 28.686458603718165, dT_cond = 88.15753496004072\n",
      "Heat from crystalisation = 1.0432848320078503 TW, oxygen = 6.280441364097136e-05 Tg/s\n",
      "Dt = 20.0, delta_x = 0.0025, BV freq = 0.00010425083664887498, dT_liq = 14.986541663422031, dT_cond = 88.15753496004072\n",
      "Radius 1490.9877923654824 m capped to 2 m in falling\n",
      "Radius 1490.9877923654824 m capped to 2 m in falling\n"
     ]
    },
    {
     "name": "stderr",
     "output_type": "stream",
     "text": [
      "/Users/andreww/Code/slurry/falling.py:65: UserWarning: Calculated Re 7.44962e+06 too high for drag / velocity parameterisation. Treat results with care\n",
      "  warnings.warn(\n"
     ]
    },
    {
     "name": "stdout",
     "output_type": "stream",
     "text": [
      "Heat from crystalisation = 0.02103467057069487 TW, oxygen = 1.2842871758156128e-06 Tg/s\n",
      "Dt = 20.0, delta_x = 0.0, BV freq = 6.093195439438484e-05j, dT_liq = 1.32222779820313, dT_cond = 88.15753496004072\n",
      "Dt = 20.0, delta_x = -0.0025, BV freq = 0.00013516418010258596j, dT_liq = -12.306798195992087, dT_cond = 88.15753496004072\n",
      "Dt = 20.0, delta_x = -0.005, BV freq = 0.00018111265624206374j, dT_liq = -25.90084825887152, dT_cond = 88.15753496004072\n",
      "Dt = 10.0, delta_x = 0.015, BV freq = 0.0002932638709016676, dT_liq = 93.84857891950742, dT_cond = 78.1575349600389\n",
      "Heat from crystalisation = 193.18446626275295 TW, oxygen = 0.011006645081360117 Tg/s\n",
      "Dt = 10.0, delta_x = 0.0125, BV freq = 0.00026701863621402525, dT_liq = 80.00303018708746, dT_cond = 78.1575349600389\n",
      "Radius 3327.430945689671 m capped to 2 m in falling\n",
      "Radius 3327.430945689671 m capped to 2 m in falling\n"
     ]
    },
    {
     "name": "stderr",
     "output_type": "stream",
     "text": [
      "/Users/andreww/Code/slurry/falling.py:65: UserWarning: Calculated Re 7.88318e+06 too high for drag / velocity parameterisation. Treat results with care\n",
      "  warnings.warn(\n"
     ]
    },
    {
     "name": "stdout",
     "output_type": "stream",
     "text": [
      "Heat from crystalisation = 124.7397163404542 TW, oxygen = 0.007207993402254341 Tg/s\n",
      "Dt = 10.0, delta_x = 0.01, BV freq = 0.00023794720149109143, dT_liq = 66.1943792242364, dT_cond = 78.1575349600389\n",
      "Heat from crystalisation = 69.24214065748741 TW, oxygen = 0.004057053948748152 Tg/s\n",
      "Dt = 10.0, delta_x = 0.0075, BV freq = 0.00020484964834101453, dT_liq = 52.42229715240501, dT_cond = 78.1575349600389\n",
      "Heat from crystalisation = 28.55968191172783 TW, oxygen = 0.0016964544688536183 Tg/s\n",
      "Dt = 10.0, delta_x = 0.005, BV freq = 0.00016532513490930028, dT_liq = 38.686458603718165, dT_cond = 78.1575349600389\n",
      "Heat from crystalisation = 6.167656862257002 TW, oxygen = 0.00037139309005376477 Tg/s\n",
      "Dt = 10.0, delta_x = 0.0025, BV freq = 0.00011280895988368795, dT_liq = 24.98654166342203, dT_cond = 78.1575349600389\n",
      "Heat from crystalisation = 0.4715061912269282 TW, oxygen = 2.8789885381018136e-05 Tg/s\n",
      "Dt = 10.0, delta_x = 0.0, BV freq = 4.308494315841007e-05j, dT_liq = 11.32222779820313, dT_cond = 78.1575349600389\n",
      "Dt = 10.0, delta_x = -0.0025, BV freq = 0.0001281178950784749j, dT_liq = -2.306798195992087, dT_cond = 78.1575349600389\n",
      "Dt = 10.0, delta_x = -0.005, BV freq = 0.00017592003969753062j, dT_liq = -15.90084825887152, dT_cond = 78.1575349600389\n",
      "Dt = 0.0, delta_x = 0.015, BV freq = 0.0002964244700964269, dT_liq = 103.84857891950742, dT_cond = 68.15753496003981\n",
      "Heat from crystalisation = 251.49065320754625 TW, oxygen = 0.01433159997717978 Tg/s\n",
      "Dt = 0.0, delta_x = 0.0125, BV freq = 0.0002704837681821412, dT_liq = 90.00303018708746, dT_cond = 68.15753496003981\n",
      "Heat from crystalisation = 174.1048984945133 TW, oxygen = 0.010062966325122479 Tg/s\n",
      "Dt = 0.0, delta_x = 0.01, BV freq = 0.0002418266721595237, dT_liq = 76.1943792242364, dT_cond = 68.15753496003981\n",
      "Heat from crystalisation = 109.0238783596925 TW, oxygen = 0.006389847856344834 Tg/s\n",
      "Dt = 0.0, delta_x = 0.0075, BV freq = 0.00020934039892436769, dT_liq = 62.42229715240501, dT_cond = 68.15753496003981\n",
      "Radius 1436.0105200951796 m capped to 2 m in falling\n",
      "Radius 1436.0105200951796 m capped to 2 m in falling\n"
     ]
    },
    {
     "name": "stderr",
     "output_type": "stream",
     "text": [
      "/Users/andreww/Code/slurry/falling.py:65: UserWarning: Calculated Re 7.89596e+06 too high for drag / velocity parameterisation. Treat results with care\n",
      "  warnings.warn(\n"
     ]
    },
    {
     "name": "stdout",
     "output_type": "stream",
     "text": [
      "Heat from crystalisation = 57.09805802977531 TW, oxygen = 0.0033928366270373116 Tg/s\n",
      "Dt = 0.0, delta_x = 0.005, BV freq = 0.00017085427579806918, dT_liq = 48.686458603718165, dT_cond = 68.15753496003981\n",
      "Heat from crystalisation = 20.87287493162696 TW, oxygen = 0.0012573089794924823 Tg/s\n",
      "Dt = 0.0, delta_x = 0.0025, BV freq = 0.00012076177984576779, dT_liq = 34.98654166342203, dT_cond = 68.15753496003981\n",
      "Heat from crystalisation = 3.499230223106349 TW, oxygen = 0.00021368692199769622 Tg/s\n",
      "Dt = 0.0, delta_x = 0.0, BV freq = -0.0, dT_liq = 21.32222779820313, dT_cond = 68.15753496003981\n",
      "Dt = 0.0, delta_x = -0.0025, BV freq = 0.00012066114898246081j, dT_liq = 7.693201804007913, dT_cond = 68.15753496003981\n",
      "Dt = 0.0, delta_x = -0.005, BV freq = 0.00017056964802211248j, dT_liq = -5.90084825887152, dT_cond = 68.15753496003981\n",
      "Dt = -10.0, delta_x = 0.015, BV freq = 0.0002995515921512834, dT_liq = 113.84857891950651, dT_cond = 58.15753496004072\n",
      "Heat from crystalisation = 316.03350934041276 TW, oxygen = 0.018012674603664153 Tg/s\n",
      "Dt = -10.0, delta_x = 0.0125, BV freq = 0.0002739049233578857, dT_liq = 100.00303018708655, dT_cond = 58.15753496004072\n",
      "Heat from crystalisation = 230.07413355663454 TW, oxygen = 0.01330042371767211 Tg/s\n",
      "Dt = -10.0, delta_x = 0.01, BV freq = 0.0002456447221013023, dT_liq = 86.19437922423549, dT_cond = 58.15753496004072\n",
      "Heat from crystalisation = 156.00059465912565 TW, oxygen = 0.00914509068091598 Tg/s\n",
      "Dt = -10.0, delta_x = 0.0075, BV freq = 0.00021373663305476108, dT_liq = 72.4222971524041, dT_cond = 58.15753496004072\n",
      "Heat from crystalisation = 94.21850789235883 TW, oxygen = 0.00559994303595606 Tg/s\n",
      "Dt = -10.0, delta_x = 0.005, BV freq = 0.00017620978522524123, dT_liq = 58.686458603717256, dT_cond = 58.15753496004072\n",
      "Heat from crystalisation = 46.02794105745836 TW, oxygen = 0.002773273814756021 Tg/s\n",
      "Dt = -10.0, delta_x = 0.0025, BV freq = 0.0001282219757755464, dT_liq = 44.98654166342112, dT_cond = 58.15753496004072\n",
      "Radius 1555.398913222385 m capped to 2 m in falling\n",
      "Radius 1555.398913222385 m capped to 2 m in falling\n"
     ]
    },
    {
     "name": "stderr",
     "output_type": "stream",
     "text": [
      "/Users/andreww/Code/slurry/falling.py:65: UserWarning: Calculated Re 7.81492e+06 too high for drag / velocity parameterisation. Treat results with care\n",
      "  warnings.warn(\n"
     ]
    },
    {
     "name": "stdout",
     "output_type": "stream",
     "text": [
      "Heat from crystalisation = 14.438909249994635 TW, oxygen = 0.0008818871220604969 Tg/s\n",
      "Dt = -10.0, delta_x = 0.0, BV freq = 4.3084033236691085e-05, dT_liq = 31.32222779820222, dT_cond = 58.15753496004072\n",
      "Heat from crystalisation = 1.8406803070381352 TW, oxygen = 0.00011398096486061011 Tg/s\n",
      "Dt = -10.0, delta_x = -0.0025, BV freq = 0.00011271250631904706j, dT_liq = 17.693201804007003, dT_cond = 58.15753496004072\n",
      "Dt = -10.0, delta_x = -0.005, BV freq = 0.00016504613786248295j, dT_liq = 4.099151741127571, dT_cond = 58.15753496004072\n",
      "Dt = -20.0, delta_x = 0.015, BV freq = 0.0003026462747943577, dT_liq = 123.84857891950742, dT_cond = 48.15753496004072\n",
      "Heat from crystalisation = 387.0601298612903 TW, oxygen = 0.022063880272057416 Tg/s\n",
      "Dt = -20.0, delta_x = 0.0125, BV freq = 0.00027728372952636474, dT_liq = 110.00303018708746, dT_cond = 48.15753496004072\n",
      "Heat from crystalisation = 292.7826164324986 TW, oxygen = 0.016927984547770905 Tg/s\n",
      "Dt = -20.0, delta_x = 0.01, BV freq = 0.0002494041721548915, dT_liq = 96.1943792242364, dT_cond = 48.15753496004072\n",
      "Heat from crystalisation = 209.78856206609092 TW, oxygen = 0.012300200350799487 Tg/s\n",
      "Dt = -20.0, delta_x = 0.0075, BV freq = 0.00021804406778020785, dT_liq = 82.42229715240501, dT_cond = 48.15753496004072\n",
      "Heat from crystalisation = 138.89373742222983 TW, oxygen = 0.008256690872868545 Tg/s\n",
      "Dt = -20.0, delta_x = 0.005, BV freq = 0.00018140704173235145, dT_liq = 68.68645860371817, dT_cond = 48.15753496004072\n",
      "Heat from crystalisation = 80.31049218674995 TW, oxygen = 0.004839754421879047 Tg/s\n",
      "Dt = -20.0, delta_x = 0.0025, BV freq = 0.00013527107686504874, dT_liq = 54.98654166342203, dT_cond = 48.15753496004072\n",
      "Heat from crystalisation = 36.05177303335286 TW, oxygen = 0.002202251523243693 Tg/s\n",
      "Dt = -20.0, delta_x = 0.0, BV freq = 6.092938074713327e-05, dT_liq = 41.32222779820313, dT_cond = 48.15753496004072\n",
      "Radius 4588.295786429889 m capped to 2 m in falling\n",
      "Radius 4588.295786429889 m capped to 2 m in falling\n"
     ]
    },
    {
     "name": "stderr",
     "output_type": "stream",
     "text": [
      "/Users/andreww/Code/slurry/falling.py:65: UserWarning: Calculated Re 7.75119e+06 too high for drag / velocity parameterisation. Treat results with care\n",
      "  warnings.warn(\n"
     ]
    },
    {
     "name": "stdout",
     "output_type": "stream",
     "text": [
      "Radius 7299.458526255467 m capped to 2 m in falling\n",
      "Radius 7299.458526255467 m capped to 2 m in falling\n"
     ]
    },
    {
     "name": "stderr",
     "output_type": "stream",
     "text": [
      "/Users/andreww/Code/slurry/falling.py:65: UserWarning: Calculated Re 7.81017e+06 too high for drag / velocity parameterisation. Treat results with care\n",
      "  warnings.warn(\n"
     ]
    },
    {
     "name": "stdout",
     "output_type": "stream",
     "text": [
      "Heat from crystalisation = 9.326698858225573 TW, oxygen = 0.0005775397991493135 Tg/s\n",
      "Dt = -20.0, delta_x = -0.0025, BV freq = 0.00010415941462418422j, dT_liq = 27.693201804007913, dT_cond = 48.15753496004072\n",
      "Dt = -20.0, delta_x = -0.005, BV freq = 0.0001593315058380935j, dT_liq = 14.09915174112848, dT_cond = 48.15753496004072\n"
     ]
    }
   ],
   "source": [
    "for delta_t_icb in [60.0, 50.0, 40.0, 30.0, 20.0, 10.0, 0.0, -10.0, -20.0]:\n",
    "    for delta_x_icb in [0.015, 0.0125, 0.01, 0.0075, 0.005, 0.0025, 0.0, -0.0025, -0.005]:\n",
    "        temperature_function = layer_setup.fit_quad_func_boundaries(\n",
    "            r_icb, r_flayer_top, adiabatic_temperature_function(r_icb)+delta_t_icb, \n",
    "            adiabatic_temperature_function(r_flayer_top))\n",
    "        composition_function = layer_setup.fit_quad_func_boundaries(\n",
    "            r_icb, r_flayer_top, xfe_outer_core+delta_x_icb, xfe_outer_core)\n",
    "        \n",
    "        # Check the temperature is below the liquidus temperature at the ICB\n",
    "        t_icb = temperature_function(r_icb)\n",
    "        x_icb = composition_function(r_icb)\n",
    "        tl = feot.find_liquidus(composition_function(r_icb), pressure_function(r_icb))\n",
    "        dt_liq = tl - t_icb\n",
    "        \n",
    "        # Check temperature increases downwards\n",
    "        t_flayer_top = temperature_function(r_flayer_top)\n",
    "        dt_cond = t_icb - t_flayer_top\n",
    "        \n",
    "        # Check the layer is stratified\n",
    "        Nbv, N2 = layer_setup.estimate_brunt_vaisala_frequency(\n",
    "            r_flayer_top, r_icb, temperature_function, adiabatic_temperature_function,\n",
    "            composition_function, gravity_function, pressure_function)\n",
    "        \n",
    "        cases_dict[\"dt\"].append(delta_t_icb)\n",
    "        cases_dict[\"dx\"].append(delta_x_icb)\n",
    "        cases_dict[\"N2\"].append(N2)\n",
    "        cases_dict[\"dT_liq\"].append(dt_liq)\n",
    "        cases_dict[\"dT_cond\"].append(dt_cond)\n",
    "        print(f\"Dt = {delta_t_icb}, delta_x = {delta_x_icb}, BV freq = {Nbv}, dT_liq = {dt_liq}, dT_cond = {dt_cond}\")\n",
    "        if (N2 >= 0.0) and (dt_liq > 0.0) and (dt_cond > 0.0):\n",
    "            solutions, particle_densities, growth_rate, solid_vf, \\\n",
    "            particle_radius_unnormalised, partial_particle_densities, \\\n",
    "            crit_nuc_radii, nucleation_rates, t_points_out, xl_points_out, total_latent_heat, total_o_rate =flayer.evaluate_flayer(\n",
    "            temperature_function, composition_function, pressure_function, gravity_function, 0.0, 1.0E20,\n",
    "                    k0, dl, k, mu, i0, surf_energy, wetting_angle, hetrogeneous_radius,\n",
    "                    nucleation_radii, analysis_radii, r_icb, \n",
    "                    r_flayer_top, verbose=False, silent=True)\n",
    "\n",
    "            print(f\"Heat from crystalisation = {total_latent_heat/1.0E12} TW, oxygen = {total_o_rate/1.0E9} Tg/s\")\n",
    "            cases_dict[\"total_latent_heat\"].append(total_latent_heat)\n",
    "            cases_dict[\"total_o_rate\"].append(total_o_rate)\n",
    "        else:\n",
    "            cases_dict[\"total_latent_heat\"].append(None)\n",
    "            cases_dict[\"total_o_rate\"].append(None)\n"
   ]
  },
  {
   "cell_type": "code",
   "execution_count": 6,
   "id": "5e1eaa4e-51ea-4745-b63d-dd1ce3334910",
   "metadata": {},
   "outputs": [],
   "source": [
    "import pandas as pd"
   ]
  },
  {
   "cell_type": "code",
   "execution_count": 7,
   "id": "57559fcc-1d13-498d-ad9f-470d810061f2",
   "metadata": {},
   "outputs": [
    {
     "data": {
      "text/html": [
       "<div>\n",
       "<style scoped>\n",
       "    .dataframe tbody tr th:only-of-type {\n",
       "        vertical-align: middle;\n",
       "    }\n",
       "\n",
       "    .dataframe tbody tr th {\n",
       "        vertical-align: top;\n",
       "    }\n",
       "\n",
       "    .dataframe thead th {\n",
       "        text-align: right;\n",
       "    }\n",
       "</style>\n",
       "<table border=\"1\" class=\"dataframe\">\n",
       "  <thead>\n",
       "    <tr style=\"text-align: right;\">\n",
       "      <th></th>\n",
       "      <th>dt</th>\n",
       "      <th>dx</th>\n",
       "      <th>N2</th>\n",
       "      <th>dT_liq</th>\n",
       "      <th>dT_cond</th>\n",
       "      <th>total_latent_heat</th>\n",
       "      <th>total_o_rate</th>\n",
       "    </tr>\n",
       "  </thead>\n",
       "  <tbody>\n",
       "    <tr>\n",
       "      <th>0</th>\n",
       "      <td>60.0</td>\n",
       "      <td>0.0150</td>\n",
       "      <td>7.668368e-08</td>\n",
       "      <td>43.848579</td>\n",
       "      <td>128.157535</td>\n",
       "      <td>1.131052e+13</td>\n",
       "      <td>6.426086e+05</td>\n",
       "    </tr>\n",
       "    <tr>\n",
       "      <th>1</th>\n",
       "      <td>60.0</td>\n",
       "      <td>0.0125</td>\n",
       "      <td>6.198519e-08</td>\n",
       "      <td>30.003030</td>\n",
       "      <td>128.157535</td>\n",
       "      <td>1.282830e+12</td>\n",
       "      <td>7.389938e+04</td>\n",
       "    </tr>\n",
       "    <tr>\n",
       "      <th>2</th>\n",
       "      <td>60.0</td>\n",
       "      <td>0.0100</td>\n",
       "      <td>4.731135e-08</td>\n",
       "      <td>16.194379</td>\n",
       "      <td>128.157535</td>\n",
       "      <td>3.290793e+10</td>\n",
       "      <td>1.923371e+03</td>\n",
       "    </tr>\n",
       "    <tr>\n",
       "      <th>3</th>\n",
       "      <td>60.0</td>\n",
       "      <td>0.0075</td>\n",
       "      <td>3.266208e-08</td>\n",
       "      <td>2.422297</td>\n",
       "      <td>128.157535</td>\n",
       "      <td>4.417118e-03</td>\n",
       "      <td>2.619933e-10</td>\n",
       "    </tr>\n",
       "    <tr>\n",
       "      <th>4</th>\n",
       "      <td>60.0</td>\n",
       "      <td>0.0050</td>\n",
       "      <td>1.803731e-08</td>\n",
       "      <td>-11.313541</td>\n",
       "      <td>128.157535</td>\n",
       "      <td>NaN</td>\n",
       "      <td>NaN</td>\n",
       "    </tr>\n",
       "    <tr>\n",
       "      <th>...</th>\n",
       "      <td>...</td>\n",
       "      <td>...</td>\n",
       "      <td>...</td>\n",
       "      <td>...</td>\n",
       "      <td>...</td>\n",
       "      <td>...</td>\n",
       "      <td>...</td>\n",
       "    </tr>\n",
       "    <tr>\n",
       "      <th>76</th>\n",
       "      <td>-20.0</td>\n",
       "      <td>0.0050</td>\n",
       "      <td>3.290851e-08</td>\n",
       "      <td>68.686459</td>\n",
       "      <td>48.157535</td>\n",
       "      <td>8.031049e+13</td>\n",
       "      <td>4.839754e+06</td>\n",
       "    </tr>\n",
       "    <tr>\n",
       "      <th>77</th>\n",
       "      <td>-20.0</td>\n",
       "      <td>0.0025</td>\n",
       "      <td>1.829826e-08</td>\n",
       "      <td>54.986542</td>\n",
       "      <td>48.157535</td>\n",
       "      <td>3.605177e+13</td>\n",
       "      <td>2.202252e+06</td>\n",
       "    </tr>\n",
       "    <tr>\n",
       "      <th>78</th>\n",
       "      <td>-20.0</td>\n",
       "      <td>0.0000</td>\n",
       "      <td>3.712389e-09</td>\n",
       "      <td>41.322228</td>\n",
       "      <td>48.157535</td>\n",
       "      <td>9.326699e+12</td>\n",
       "      <td>5.775398e+05</td>\n",
       "    </tr>\n",
       "    <tr>\n",
       "      <th>79</th>\n",
       "      <td>-20.0</td>\n",
       "      <td>-0.0025</td>\n",
       "      <td>-1.084918e-08</td>\n",
       "      <td>27.693202</td>\n",
       "      <td>48.157535</td>\n",
       "      <td>NaN</td>\n",
       "      <td>NaN</td>\n",
       "    </tr>\n",
       "    <tr>\n",
       "      <th>80</th>\n",
       "      <td>-20.0</td>\n",
       "      <td>-0.0050</td>\n",
       "      <td>-2.538653e-08</td>\n",
       "      <td>14.099152</td>\n",
       "      <td>48.157535</td>\n",
       "      <td>NaN</td>\n",
       "      <td>NaN</td>\n",
       "    </tr>\n",
       "  </tbody>\n",
       "</table>\n",
       "<p>81 rows × 7 columns</p>\n",
       "</div>"
      ],
      "text/plain": [
       "      dt      dx            N2     dT_liq     dT_cond  total_latent_heat  \\\n",
       "0   60.0  0.0150  7.668368e-08  43.848579  128.157535       1.131052e+13   \n",
       "1   60.0  0.0125  6.198519e-08  30.003030  128.157535       1.282830e+12   \n",
       "2   60.0  0.0100  4.731135e-08  16.194379  128.157535       3.290793e+10   \n",
       "3   60.0  0.0075  3.266208e-08   2.422297  128.157535       4.417118e-03   \n",
       "4   60.0  0.0050  1.803731e-08 -11.313541  128.157535                NaN   \n",
       "..   ...     ...           ...        ...         ...                ...   \n",
       "76 -20.0  0.0050  3.290851e-08  68.686459   48.157535       8.031049e+13   \n",
       "77 -20.0  0.0025  1.829826e-08  54.986542   48.157535       3.605177e+13   \n",
       "78 -20.0  0.0000  3.712389e-09  41.322228   48.157535       9.326699e+12   \n",
       "79 -20.0 -0.0025 -1.084918e-08  27.693202   48.157535                NaN   \n",
       "80 -20.0 -0.0050 -2.538653e-08  14.099152   48.157535                NaN   \n",
       "\n",
       "    total_o_rate  \n",
       "0   6.426086e+05  \n",
       "1   7.389938e+04  \n",
       "2   1.923371e+03  \n",
       "3   2.619933e-10  \n",
       "4            NaN  \n",
       "..           ...  \n",
       "76  4.839754e+06  \n",
       "77  2.202252e+06  \n",
       "78  5.775398e+05  \n",
       "79           NaN  \n",
       "80           NaN  \n",
       "\n",
       "[81 rows x 7 columns]"
      ]
     },
     "execution_count": 7,
     "metadata": {},
     "output_type": "execute_result"
    }
   ],
   "source": [
    "results_df = pd.DataFrame(cases_dict)\n",
    "results_df"
   ]
  },
  {
   "cell_type": "code",
   "execution_count": 8,
   "id": "51395244-4d20-4493-a58d-bc734e88e358",
   "metadata": {},
   "outputs": [],
   "source": [
    "snow_df = results_df[~results_df[\"total_latent_heat\"].isna()]\n",
    "unstable_df = results_df[results_df[\"N2\"] < 0.0]"
   ]
  },
  {
   "cell_type": "code",
   "execution_count": 9,
   "id": "e2e886a4-2e7a-4e77-8d5f-e98c066f7dee",
   "metadata": {},
   "outputs": [
    {
     "data": {
      "image/png": "[encoded data removed]",
      "text/plain": [
       "<Figure size 640x480 with 2 Axes>"
      ]
     },
     "metadata": {},
     "output_type": "display_data"
    }
   ],
   "source": [
    "import matplotlib.colors as colors\n",
    "fig, ax = plt.subplots()\n",
    "ax.scatter(results_df[\"dx\"], results_df[\"dt\"], color='k', s=1)\n",
    "ax.scatter(unstable_df[\"dx\"], unstable_df[\"dt\"], s=20, facecolors='none', edgecolors='r')\n",
    "c = ax.scatter(snow_df[\"dx\"], snow_df[\"dt\"], c=np.array(snow_df[\"total_latent_heat\"])/1.0E12,\n",
    "              norm=colors.LogNorm(vmax=20), cmap='viridis')\n",
    "ax.set_ylabel(\"$\\Delta T_{ICB}$\")\n",
    "ax.set_xlabel(\"$\\Delta X_{ICB}$\")\n",
    "#ax.set_ylim(-0.006, 0.006)\n",
    "fig.colorbar(c, label='Latent heat from snow (TW)', extend='max')\n",
    "plt.show()\n"
   ]
  },
  {
   "cell_type": "code",
   "execution_count": 10,
   "id": "0b8f4072-f22b-4ec0-9790-38044b8dfa77",
   "metadata": {},
   "outputs": [
    {
     "data": {
      "text/html": [
       "<div>\n",
       "<style scoped>\n",
       "    .dataframe tbody tr th:only-of-type {\n",
       "        vertical-align: middle;\n",
       "    }\n",
       "\n",
       "    .dataframe tbody tr th {\n",
       "        vertical-align: top;\n",
       "    }\n",
       "\n",
       "    .dataframe thead th {\n",
       "        text-align: right;\n",
       "    }\n",
       "</style>\n",
       "<table border=\"1\" class=\"dataframe\">\n",
       "  <thead>\n",
       "    <tr style=\"text-align: right;\">\n",
       "      <th></th>\n",
       "      <th>dt</th>\n",
       "      <th>dx</th>\n",
       "      <th>N2</th>\n",
       "      <th>dT_liq</th>\n",
       "      <th>dT_cond</th>\n",
       "      <th>total_latent_heat</th>\n",
       "      <th>total_o_rate</th>\n",
       "    </tr>\n",
       "  </thead>\n",
       "  <tbody>\n",
       "    <tr>\n",
       "      <th>0</th>\n",
       "      <td>60.0</td>\n",
       "      <td>0.0150</td>\n",
       "      <td>7.668368e-08</td>\n",
       "      <td>43.848579</td>\n",
       "      <td>128.157535</td>\n",
       "      <td>1.131052e+13</td>\n",
       "      <td>6.426086e+05</td>\n",
       "    </tr>\n",
       "    <tr>\n",
       "      <th>1</th>\n",
       "      <td>60.0</td>\n",
       "      <td>0.0125</td>\n",
       "      <td>6.198519e-08</td>\n",
       "      <td>30.003030</td>\n",
       "      <td>128.157535</td>\n",
       "      <td>1.282830e+12</td>\n",
       "      <td>7.389938e+04</td>\n",
       "    </tr>\n",
       "    <tr>\n",
       "      <th>2</th>\n",
       "      <td>60.0</td>\n",
       "      <td>0.0100</td>\n",
       "      <td>4.731135e-08</td>\n",
       "      <td>16.194379</td>\n",
       "      <td>128.157535</td>\n",
       "      <td>3.290793e+10</td>\n",
       "      <td>1.923371e+03</td>\n",
       "    </tr>\n",
       "    <tr>\n",
       "      <th>3</th>\n",
       "      <td>60.0</td>\n",
       "      <td>0.0075</td>\n",
       "      <td>3.266208e-08</td>\n",
       "      <td>2.422297</td>\n",
       "      <td>128.157535</td>\n",
       "      <td>4.417118e-03</td>\n",
       "      <td>2.619933e-10</td>\n",
       "    </tr>\n",
       "    <tr>\n",
       "      <th>4</th>\n",
       "      <td>60.0</td>\n",
       "      <td>0.0050</td>\n",
       "      <td>1.803731e-08</td>\n",
       "      <td>-11.313541</td>\n",
       "      <td>128.157535</td>\n",
       "      <td>NaN</td>\n",
       "      <td>NaN</td>\n",
       "    </tr>\n",
       "    <tr>\n",
       "      <th>...</th>\n",
       "      <td>...</td>\n",
       "      <td>...</td>\n",
       "      <td>...</td>\n",
       "      <td>...</td>\n",
       "      <td>...</td>\n",
       "      <td>...</td>\n",
       "      <td>...</td>\n",
       "    </tr>\n",
       "    <tr>\n",
       "      <th>76</th>\n",
       "      <td>-20.0</td>\n",
       "      <td>0.0050</td>\n",
       "      <td>3.290851e-08</td>\n",
       "      <td>68.686459</td>\n",
       "      <td>48.157535</td>\n",
       "      <td>8.031049e+13</td>\n",
       "      <td>4.839754e+06</td>\n",
       "    </tr>\n",
       "    <tr>\n",
       "      <th>77</th>\n",
       "      <td>-20.0</td>\n",
       "      <td>0.0025</td>\n",
       "      <td>1.829826e-08</td>\n",
       "      <td>54.986542</td>\n",
       "      <td>48.157535</td>\n",
       "      <td>3.605177e+13</td>\n",
       "      <td>2.202252e+06</td>\n",
       "    </tr>\n",
       "    <tr>\n",
       "      <th>78</th>\n",
       "      <td>-20.0</td>\n",
       "      <td>0.0000</td>\n",
       "      <td>3.712389e-09</td>\n",
       "      <td>41.322228</td>\n",
       "      <td>48.157535</td>\n",
       "      <td>9.326699e+12</td>\n",
       "      <td>5.775398e+05</td>\n",
       "    </tr>\n",
       "    <tr>\n",
       "      <th>79</th>\n",
       "      <td>-20.0</td>\n",
       "      <td>-0.0025</td>\n",
       "      <td>-1.084918e-08</td>\n",
       "      <td>27.693202</td>\n",
       "      <td>48.157535</td>\n",
       "      <td>NaN</td>\n",
       "      <td>NaN</td>\n",
       "    </tr>\n",
       "    <tr>\n",
       "      <th>80</th>\n",
       "      <td>-20.0</td>\n",
       "      <td>-0.0050</td>\n",
       "      <td>-2.538653e-08</td>\n",
       "      <td>14.099152</td>\n",
       "      <td>48.157535</td>\n",
       "      <td>NaN</td>\n",
       "      <td>NaN</td>\n",
       "    </tr>\n",
       "  </tbody>\n",
       "</table>\n",
       "<p>81 rows × 7 columns</p>\n",
       "</div>"
      ],
      "text/plain": [
       "      dt      dx            N2     dT_liq     dT_cond  total_latent_heat  \\\n",
       "0   60.0  0.0150  7.668368e-08  43.848579  128.157535       1.131052e+13   \n",
       "1   60.0  0.0125  6.198519e-08  30.003030  128.157535       1.282830e+12   \n",
       "2   60.0  0.0100  4.731135e-08  16.194379  128.157535       3.290793e+10   \n",
       "3   60.0  0.0075  3.266208e-08   2.422297  128.157535       4.417118e-03   \n",
       "4   60.0  0.0050  1.803731e-08 -11.313541  128.157535                NaN   \n",
       "..   ...     ...           ...        ...         ...                ...   \n",
       "76 -20.0  0.0050  3.290851e-08  68.686459   48.157535       8.031049e+13   \n",
       "77 -20.0  0.0025  1.829826e-08  54.986542   48.157535       3.605177e+13   \n",
       "78 -20.0  0.0000  3.712389e-09  41.322228   48.157535       9.326699e+12   \n",
       "79 -20.0 -0.0025 -1.084918e-08  27.693202   48.157535                NaN   \n",
       "80 -20.0 -0.0050 -2.538653e-08  14.099152   48.157535                NaN   \n",
       "\n",
       "    total_o_rate  \n",
       "0   6.426086e+05  \n",
       "1   7.389938e+04  \n",
       "2   1.923371e+03  \n",
       "3   2.619933e-10  \n",
       "4            NaN  \n",
       "..           ...  \n",
       "76  4.839754e+06  \n",
       "77  2.202252e+06  \n",
       "78  5.775398e+05  \n",
       "79           NaN  \n",
       "80           NaN  \n",
       "\n",
       "[81 rows x 7 columns]"
      ]
     },
     "execution_count": 10,
     "metadata": {},
     "output_type": "execute_result"
    }
   ],
   "source": [
    "results_df"
   ]
  },
  {
   "cell_type": "code",
   "execution_count": 11,
   "id": "c68d90bb-cd7f-474b-abe5-dd792430cc4d",
   "metadata": {},
   "outputs": [
    {
     "name": "stdout",
     "output_type": "stream",
     "text": [
      "Mass of outer core from PREM = 1.8411154476791537e+24 kg\n"
     ]
    },
    {
     "data": {
      "text/plain": [
       "0     1.100708e+00\n",
       "1     1.265804e-01\n",
       "2     3.294494e-03\n",
       "3     4.487617e-16\n",
       "9     2.960758e+00\n",
       "10    6.889638e-01\n",
       "11    5.889450e-02\n",
       "12    5.864977e-04\n",
       "18    5.784237e+00\n",
       "19    2.203444e+00\n",
       "20    4.018010e-01\n",
       "21    2.484841e-02\n",
       "22    4.480883e-05\n",
       "27    9.429645e+00\n",
       "28    4.733743e+00\n",
       "29    1.558762e+00\n",
       "30    2.165576e-01\n",
       "31    8.604222e-03\n",
       "32    1.136877e-07\n",
       "36    1.380043e+01\n",
       "37    8.164091e+00\n",
       "38    3.770728e+00\n",
       "39    1.029942e+00\n",
       "40    1.075761e-01\n",
       "41    2.199823e-03\n",
       "45    1.885300e+01\n",
       "46    1.234639e+01\n",
       "47    6.949225e+00\n",
       "48    2.905814e+00\n",
       "49    6.361498e-01\n",
       "50    4.931347e-02\n",
       "54    2.454823e+01\n",
       "55    1.723660e+01\n",
       "56    1.094501e+01\n",
       "57    5.811504e+00\n",
       "58    2.153613e+00\n",
       "59    3.660189e-01\n",
       "63    3.085345e+01\n",
       "64    2.278196e+01\n",
       "65    1.566439e+01\n",
       "66    9.592001e+00\n",
       "67    4.750270e+00\n",
       "68    1.510562e+00\n",
       "69    1.952351e-01\n",
       "72    3.779266e+01\n",
       "73    2.899552e+01\n",
       "74    2.106870e+01\n",
       "75    1.414268e+01\n",
       "76    8.289893e+00\n",
       "77    3.772181e+00\n",
       "78    9.892533e-01\n",
       "Name: total_o_rate, dtype: float64"
      ]
     },
     "execution_count": 11,
     "metadata": {},
     "output_type": "execute_result"
    }
   ],
   "source": [
    "prem = earth_model.Prem()\n",
    "m_oc = prem.mass(3480.0, r_inner=1221.5)\n",
    "print(f\"Mass of outer core from PREM = {m_oc} kg\")\n",
    "((snow_df[\"total_o_rate\"]*60.0*60.0*24.0*365.0*1.0E9)/m_oc)*100.0"
   ]
  },
  {
   "cell_type": "code",
   "execution_count": 17,
   "id": "297483fe-f7bf-43f9-96c2-223a09cc4b45",
   "metadata": {},
   "outputs": [
    {
     "name": "stderr",
     "output_type": "stream",
     "text": [
      "/var/folders/j_/przs7cfj1b7czhv250v8t_440000gn/T/ipykernel_6867/1527972663.py:1: UserWarning: Boolean Series key will be reindexed to match DataFrame index.\n",
      "  results_df[results_df[\"dx\"] == 0.005][results_df[\"dt\"] == 50.0]\n"
     ]
    },
    {
     "data": {
      "text/html": [
       "<div>\n",
       "<style scoped>\n",
       "    .dataframe tbody tr th:only-of-type {\n",
       "        vertical-align: middle;\n",
       "    }\n",
       "\n",
       "    .dataframe tbody tr th {\n",
       "        vertical-align: top;\n",
       "    }\n",
       "\n",
       "    .dataframe thead th {\n",
       "        text-align: right;\n",
       "    }\n",
       "</style>\n",
       "<table border=\"1\" class=\"dataframe\">\n",
       "  <thead>\n",
       "    <tr style=\"text-align: right;\">\n",
       "      <th></th>\n",
       "      <th>dt</th>\n",
       "      <th>dx</th>\n",
       "      <th>N2</th>\n",
       "      <th>dT_liq</th>\n",
       "      <th>dT_cond</th>\n",
       "      <th>total_latent_heat</th>\n",
       "      <th>total_o_rate</th>\n",
       "    </tr>\n",
       "  </thead>\n",
       "  <tbody>\n",
       "    <tr>\n",
       "      <th>13</th>\n",
       "      <td>50.0</td>\n",
       "      <td>0.005</td>\n",
       "      <td>1.989648e-08</td>\n",
       "      <td>-1.313541</td>\n",
       "      <td>118.157535</td>\n",
       "      <td>NaN</td>\n",
       "      <td>NaN</td>\n",
       "    </tr>\n",
       "  </tbody>\n",
       "</table>\n",
       "</div>"
      ],
      "text/plain": [
       "      dt     dx            N2    dT_liq     dT_cond  total_latent_heat  \\\n",
       "13  50.0  0.005  1.989648e-08 -1.313541  118.157535                NaN   \n",
       "\n",
       "    total_o_rate  \n",
       "13           NaN  "
      ]
     },
     "execution_count": 17,
     "metadata": {},
     "output_type": "execute_result"
    }
   ],
   "source": [
    "results_df[results_df[\"dx\"] == 0.005][results_df[\"dt\"] == 50.0]"
   ]
  },
  {
   "cell_type": "code",
   "execution_count": 15,
   "id": "a6d2683b-99c3-41dc-888a-1af60e4a6ac3",
   "metadata": {},
   "outputs": [
    {
     "data": {
      "text/plain": [
       "False"
      ]
     },
     "execution_count": 15,
     "metadata": {},
     "output_type": "execute_result"
    }
   ],
   "source": [
    "-0.0 < 0.0"
   ]
  },
  {
   "cell_type": "code",
   "execution_count": null,
   "id": "aba1d878-82f7-4c28-9ebb-cfa3fe31b154",
   "metadata": {},
   "outputs": [],
   "source": []
  }
 ],
 "metadata": {
  "kernelspec": {
   "display_name": "Python 3 (ipykernel)",
   "language": "python",
   "name": "python3"
  },
  "language_info": {
   "codemirror_mode": {
    "name": "ipython",
    "version": 3
   },
   "file_extension": ".py",
   "mimetype": "text/x-python",
   "name": "python",
   "nbconvert_exporter": "python",
   "pygments_lexer": "ipython3",
   "version": "3.9.13"
  }
 },
 "nbformat": 4,
 "nbformat_minor": 5
}
