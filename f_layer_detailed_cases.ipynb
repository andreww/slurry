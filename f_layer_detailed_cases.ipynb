{
 "cells": [
  {
   "cell_type": "code",
   "execution_count": 1,
   "id": "ad0fa09f",
   "metadata": {},
   "outputs": [],
   "source": [
    "import numpy as np\n",
    "import matplotlib.pyplot as plt\n",
    "%matplotlib inline\n",
    "\n",
    "import flayer"
   ]
  },
  {
   "cell_type": "code",
   "execution_count": null,
   "id": "e36fd64b",
   "metadata": {},
   "outputs": [],
   "source": [
    "args = {'f_layer_thickness': 200.0E3,\n",
    "        'delta_t_icb': 10.0,\n",
    "        'xfe_outer_core': 0.92,\n",
    "        'xfe_icb': 0.92,\n",
    "        'initial_particle_size': 1.0E-9,\n",
    "        'growth_prefactor': 150.0,\n",
    "        'chemical_diffusivity': 1.0E-9,\n",
    "        'kinematic_viscosity': 1.0E-6\n",
    "        'grid_points': 20\n",
    "       }\n",
    "\n",
    "flayer.flayer_case(f_layer_thickness, delta_t_icb, xfe_outer_core, xfe_icb,\n",
    "                initial_particle_size, growth_prefactor, chemical_diffusivity,\n",
    "                kinematic_viscosity, number_of_nucleation_points, \n",
    "                number_of_analysis_points,\n",
    "                r_icb=1221.5E3, r_cmb=3480.0E3, gruneisen_parameter=1.5,\n",
    "                start_time=0.0, max_time=1.0E12, max_rel_error=0.01,\n",
    "                max_absolute_error=0.001, inner_core_offset=1000.0)"
   ]
  }
 ],
 "metadata": {
  "kernelspec": {
   "display_name": "Python 3 (ipykernel)",
   "language": "python",
   "name": "python3"
  },
  "language_info": {
   "codemirror_mode": {
    "name": "ipython",
    "version": 3
   },
   "file_extension": ".py",
   "mimetype": "text/x-python",
   "name": "python",
   "nbconvert_exporter": "python",
   "pygments_lexer": "ipython3",
   "version": "3.9.7"
  }
 },
 "nbformat": 4,
 "nbformat_minor": 5
}
