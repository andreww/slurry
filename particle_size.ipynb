{
 "cells": [
  {
   "cell_type": "code",
   "execution_count": 1,
   "id": "emerging-vault",
   "metadata": {},
   "outputs": [
    {
     "name": "stdout",
     "output_type": "stream",
     "text": [
      "Pr =  0.09075  Sc =  999.9999999999999\n"
     ]
    }
   ],
   "source": [
    "from scipy import optimize \n",
    "import numpy as np\n",
    "import matplotlib.pyplot as plt\n",
    "%matplotlib inline\n",
    "\n",
    "import params as prm\n",
    "import phase_equilibrium"
   ]
  },
  {
   "cell_type": "markdown",
   "id": "hairy-attention",
   "metadata": {},
   "source": [
    "The next cell implements the following equations to calculate the number and size of particles falling out of the F-layer at the Stokes velocity. \n",
    "\n",
    "$$ V_E = \\frac{4 \\pi r^3 N}{3} , \\quad 4\\pi r^3 N P V_s = 4\\pi r_i^2 \\frac{d r_i}{dt}, \\quad V_S = \\frac{2}{9} \\frac{\\Delta \\rho g r^2}{\\mu} $$\n",
    "\n",
    "$$ r^5 N P \\frac{2}{9} \\frac{\\Delta \\rho}{\\mu} = r_i^2 \\frac{d r_i}{dt} $$\n",
    "$$ r^2 = \\frac{4 \\pi r^5 N}{3 V_e}$$\n",
    "\n",
    "We use the Zhang formulation to calculate $V_s$ and therefore guess at the particle radius $r$ in order to estimate $N$. I use brentq to converge to a solution. "
   ]
  },
  {
   "cell_type": "code",
   "execution_count": 2,
   "id": "incredible-organization",
   "metadata": {},
   "outputs": [],
   "source": [
    "def meanPsize_closure():\n",
    "    \n",
    "    params = {}\n",
    "\n",
    "    def meanPsize(t_snow, dridt, ri, mu, Vfrac):\n",
    "        \"\"\"\n",
    "        Evaluate the mean size and number of particles in the snowing layer\n",
    "        \n",
    "        t_snow: thickness of the snowing layer (in m)\n",
    "        dridt: chage in ICB radius with time (m/s)\n",
    "        ri: ICB radius (in m)\n",
    "        mu: kinematic viscosity\n",
    "        Vfrac: volume fraction of solid\n",
    "        \"\"\"\n",
    "        assert t_snow > 0, \"Snowing layer must have positive thickness\"\n",
    "        rtop    = ri + t_snow\n",
    "        Vflayer = 4.0 * np.pi * (rtop**3 - ri**3) / 3.0 \n",
    "        Ve    = Vfrac * Vflayer \n",
    "        Pack  = 0.67\n",
    "        r5N   = 9.0 * (mu * ri**2 * dridt) / (2.0 * prm.drho * prm.g * Pack) \n",
    "        r2    = 4 * np.pi * r5N / (3.0*Ve)\n",
    "        r     = np.sqrt(r2)\n",
    "        N     = 3.0 * Ve / (4.0 * np.pi * r**3) \n",
    "        Vs    = (2.0/9.0) * prm.drho * prm.g * r2 / (mu)\n",
    "        t     = (rtop-ri)/Vs\n",
    "            \n",
    "        if Ve < 0:\n",
    "            t = -1.0\n",
    "                  \n",
    "        params['r']  = r\n",
    "        params['N']  = N\n",
    "        params['Vs'] = Vs\n",
    "        params['Ve'] = Ve\n",
    "        params['t']  = t\n",
    "        params['rf'] = t_snow   \n",
    "    \n",
    "        return t-prm.secinyr\n",
    "    \n",
    "    return params, meanPsize\n",
    "\n"
   ]
  },
  {
   "cell_type": "code",
   "execution_count": 3,
   "id": "legendary-recovery",
   "metadata": {},
   "outputs": [
    {
     "name": "stdout",
     "output_type": "stream",
     "text": [
      "Temperature: 5500 K, bulk O wt. frac: 0.04\n",
      "Weight frac solid Fe: 0.012\n",
      "Weight frac solid FeO: 0.000\n",
      "Weight frac liquid: 0.988\n",
      "O wt. frac in liquid: 0.041\n",
      "Volume frac solid Fe 0.010\n",
      "\n",
      "layer thickness =  0.21968293108607237 m\n",
      "Ve    =  42427634648.7258\n",
      "Vs    =  6.966100041297478e-09  m/s\n",
      "dridt =  3.1709791983764586e-11  m/s\n",
      "t     =  1.00000000136185  yrs\n",
      "r, N =  4.1334939698259793e-07 1.4341952702715658e+29\n"
     ]
    }
   ],
   "source": [
    "# An example case?\n",
    "\n",
    "# Work out a volume fraction solid\n",
    "t = 5500 # K\n",
    "x = 0.04 # wt frac O\n",
    "\n",
    "x_fe, x_lq, x_feo, phi_fe, phi_lq, phi_feo, x_liquidus, t_liquidus = \\\n",
    "        phase_equilibrium.phase_relations_komabayashi2004(t, x)\n",
    "print(\"Temperature:\", t, \"K, bulk O wt. frac:\", x)\n",
    "print(\"Weight frac solid Fe: {:4.3f}\".format(phi_fe))\n",
    "print(\"Weight frac solid FeO: {:4.3f}\".format(phi_feo))\n",
    "print(\"Weight frac liquid: {:4.3f}\".format(phi_lq))\n",
    "print(\"O wt. frac in liquid: {:4.3f}\".format(x_lq))\n",
    "\n",
    "Vfrac = phase_equilibrium.volume_fraction_solid(phi_fe, phi_lq, x_lq)\n",
    "print(\"Volume frac solid Fe {:4.3f}\\n\".format(Vfrac))\n",
    "\n",
    "\n",
    "# Work out particle number and size...\n",
    "dridt   = 1e-3 / prm.secinyr\n",
    "mu_test = 1e-6 * prm.rhol\n",
    "\n",
    "params, meanPsize = meanPsize_closure()\n",
    "optimize.brentq(meanPsize, 0.001, 1e3, args=(dridt, prm.ri, mu_test, Vfrac))\n",
    "\n",
    "print('layer thickness = ', params['rf'], 'm')\n",
    "print('Ve    = ', params['Ve'])\n",
    "print('Vs    = ', params['Vs'], ' m/s')\n",
    "print('dridt = ', dridt, ' m/s')\n",
    "print('t     = ', params['t']/prm.secinyr, ' yrs')\n",
    "print('r, N = ', params['r'], params['N'])"
   ]
  },
  {
   "cell_type": "code",
   "execution_count": 4,
   "id": "fluid-boutique",
   "metadata": {},
   "outputs": [
    {
     "name": "stdout",
     "output_type": "stream",
     "text": [
      "Rmax =  2.3244342514375035e-06  Rmin =  7.350507458206123e-08\n"
     ]
    }
   ],
   "source": [
    "# Loop over a range of viscosities and IC growth rates\n",
    "\n",
    "dridt = np.logspace(-4, -2, 10)/prm.secinyr\n",
    "muA   = np.logspace(-7, -5, 10)\n",
    "nuA   = muA * prm.rhol\n",
    "\n",
    "Nv    = np.zeros((len(dridt),len(nuA))) # v denotes vector here\n",
    "rv    = np.zeros((len(dridt),len(nuA)))\n",
    "Vev   = np.zeros((len(dridt),len(nuA)))\n",
    "Vsv   = np.zeros((len(dridt),len(nuA)))\n",
    "rfv   = np.zeros((len(dridt),len(nuA)))\n",
    "\n",
    "ii = 0\n",
    "for i in dridt:\n",
    "    jj = 0\n",
    "    for j in nuA:\n",
    "        optimize.brentq(meanPsize, 1e-8, 1e4, args=(i, prm.ri, j, Vfrac))\n",
    "        Nv[ii,jj]  = params['N']\n",
    "        rv[ii,jj]  = params['r']\n",
    "        Vev[ii,jj] = params['Ve']\n",
    "        Vsv[ii,jj] = params['Vs']\n",
    "        rfv[ii,jj] = params['rf']        \n",
    "                \n",
    "        jj = jj + 1\n",
    "        \n",
    "    ii = ii + 1\n",
    "    \n",
    "print('Rmax = ', np.max(rv), ' Rmin = ', np.min(rv))"
   ]
  },
  {
   "cell_type": "code",
   "execution_count": 5,
   "id": "painful-clothing",
   "metadata": {},
   "outputs": [
    {
     "data": {
      "image/png": "[encoded data removed]",
      "text/plain": [
       "<Figure size 432x288 with 1 Axes>"
      ]
     },
     "metadata": {
      "needs_background": "light"
     },
     "output_type": "display_data"
    },
    {
     "data": {
      "image/png": "[encoded data removed]",
      "text/plain": [
       "<Figure size 432x288 with 1 Axes>"
      ]
     },
     "metadata": {
      "needs_background": "light"
     },
     "output_type": "display_data"
    },
    {
     "data": {
      "image/png": "[encoded data removed]",
      "text/plain": [
       "<Figure size 432x288 with 1 Axes>"
      ]
     },
     "metadata": {
      "needs_background": "light"
     },
     "output_type": "display_data"
    }
   ],
   "source": [
    "# Plot results\n",
    "fig, ax = plt.subplots()\n",
    "ax.set_xlabel(\"$r_f$ (m)\")\n",
    "ax.set_ylabel(\"$r$ (m)\")\n",
    "ax.set_yscale('log')\n",
    "ax.plot(rfv[:,0], rv[:,0], color=\"black\" , linestyle=\"--\",label=\"$\\\\mu = $\"+str(nuA[0]))\n",
    "ax.plot(rfv[:,5], rv[:,5], color=\"red\"   , linestyle=\"-\" ,label=\"$\\\\mu = $\"+str(nuA[5]))\n",
    "ax.plot(rfv[:,9], rv[:,9], color=\"orange\", linestyle=\":\" ,label=\"$\\\\mu = $\"+str(nuA[9]))\n",
    "#ax.legend(loc='upper right', bbox_to_anchor=(1.6, 0.99),\n",
    "#          fancybox=True, shadow=True)\n",
    "file2=\"Vf.pdf\"\n",
    "plt.savefig(file2, format='pdf',bbox_inches=\"tight\")\n",
    "\n",
    "fig, ax = plt.subplots()\n",
    "ax.set_xscale('log')\n",
    "ax.set_yscale('log')\n",
    "ax.set_xlabel(\"$dr_i/dt$ (mm/yr)\")\n",
    "ax.set_ylabel(\"$r$ (m)\")\n",
    "ax.plot(dridt*prm.secinyr*1000, rv[:,0], color=\"black\" , linestyle=\"--\",label=\"$\\\\mu = $\"+str(nuA[0]))\n",
    "ax.plot(dridt*prm.secinyr*1000, rv[:,5], color=\"red\"   , linestyle=\"-\" ,label=\"$\\\\mu = $\"+str(nuA[5]))\n",
    "ax.plot(dridt*prm.secinyr*1000, rv[:,9], color=\"orange\", linestyle=\":\" ,label=\"$\\\\mu = $\"+str(nuA[9]))\n",
    "ax.legend(loc='upper right', bbox_to_anchor=(1.6, 0.99),\n",
    "          fancybox=True, shadow=True)\n",
    "\n",
    "\n",
    "fig, ax = plt.subplots()\n",
    "ax.set_xlabel(\"$N$\")\n",
    "ax.set_ylabel(\"$r$ (m)\")\n",
    "ax.loglog(Nv[:,0], rv[:,0], color=\"black\" , linestyle=\"--\",label=\"$\\\\mu = $\"+str(nuA[0]))\n",
    "ax.loglog(Nv[:,5], rv[:,5], color=\"red\"   , linestyle=\"-\" ,label=\"$\\\\mu = $\"+str(nuA[5]))\n",
    "ax.loglog(Nv[:,9], rv[:,9], color=\"orange\", linestyle=\":\" ,label=\"$\\\\mu = $\"+str(nuA[9]))\n",
    "ax.legend(loc=1)\n",
    "file2=\"rN.pdf\"\n",
    "plt.savefig(file2, format='pdf',bbox_inches=\"tight\")"
   ]
  },
  {
   "cell_type": "code",
   "execution_count": null,
   "id": "incorporated-times",
   "metadata": {},
   "outputs": [],
   "source": []
  }
 ],
 "metadata": {
  "kernelspec": {
   "display_name": "Python 3",
   "language": "python",
   "name": "python3"
  },
  "language_info": {
   "codemirror_mode": {
    "name": "ipython",
    "version": 3
   },
   "file_extension": ".py",
   "mimetype": "text/x-python",
   "name": "python",
   "nbconvert_exporter": "python",
   "pygments_lexer": "ipython3",
   "version": "3.8.6"
  }
 },
 "nbformat": 4,
 "nbformat_minor": 5
}
